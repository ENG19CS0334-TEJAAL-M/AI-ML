{
 "cells": [
  {
   "cell_type": "markdown",
   "metadata": {},
   "source": [
    "### Import Libraries"
   ]
  },
  {
   "cell_type": "code",
   "execution_count": 1,
   "metadata": {},
   "outputs": [],
   "source": [
    "import pandas as pd\n",
    "from pomegranate import *"
   ]
  },
  {
   "cell_type": "markdown",
   "metadata": {},
   "source": [
    "### Read Data"
   ]
  },
  {
   "cell_type": "code",
   "execution_count": 2,
   "metadata": {},
   "outputs": [],
   "source": [
    "data = pd.read_csv('Social_Network_Ads.csv')"
   ]
  },
  {
   "cell_type": "code",
   "execution_count": 3,
   "metadata": {},
   "outputs": [
    {
     "name": "stdout",
     "output_type": "stream",
     "text": [
      "(400, 5)\n"
     ]
    },
    {
     "data": {
      "text/html": [
       "<div>\n",
       "<style scoped>\n",
       "    .dataframe tbody tr th:only-of-type {\n",
       "        vertical-align: middle;\n",
       "    }\n",
       "\n",
       "    .dataframe tbody tr th {\n",
       "        vertical-align: top;\n",
       "    }\n",
       "\n",
       "    .dataframe thead th {\n",
       "        text-align: right;\n",
       "    }\n",
       "</style>\n",
       "<table border=\"1\" class=\"dataframe\">\n",
       "  <thead>\n",
       "    <tr style=\"text-align: right;\">\n",
       "      <th></th>\n",
       "      <th>User ID</th>\n",
       "      <th>Gender</th>\n",
       "      <th>Age</th>\n",
       "      <th>EstimatedSalary</th>\n",
       "      <th>Purchased</th>\n",
       "    </tr>\n",
       "  </thead>\n",
       "  <tbody>\n",
       "    <tr>\n",
       "      <th>0</th>\n",
       "      <td>15624510</td>\n",
       "      <td>Male</td>\n",
       "      <td>19</td>\n",
       "      <td>19000</td>\n",
       "      <td>0</td>\n",
       "    </tr>\n",
       "    <tr>\n",
       "      <th>1</th>\n",
       "      <td>15810944</td>\n",
       "      <td>Male</td>\n",
       "      <td>35</td>\n",
       "      <td>20000</td>\n",
       "      <td>0</td>\n",
       "    </tr>\n",
       "    <tr>\n",
       "      <th>2</th>\n",
       "      <td>15668575</td>\n",
       "      <td>Female</td>\n",
       "      <td>26</td>\n",
       "      <td>43000</td>\n",
       "      <td>0</td>\n",
       "    </tr>\n",
       "    <tr>\n",
       "      <th>3</th>\n",
       "      <td>15603246</td>\n",
       "      <td>Female</td>\n",
       "      <td>27</td>\n",
       "      <td>57000</td>\n",
       "      <td>0</td>\n",
       "    </tr>\n",
       "    <tr>\n",
       "      <th>4</th>\n",
       "      <td>15804002</td>\n",
       "      <td>Male</td>\n",
       "      <td>19</td>\n",
       "      <td>76000</td>\n",
       "      <td>0</td>\n",
       "    </tr>\n",
       "  </tbody>\n",
       "</table>\n",
       "</div>"
      ],
      "text/plain": [
       "    User ID  Gender  Age  EstimatedSalary  Purchased\n",
       "0  15624510    Male   19            19000          0\n",
       "1  15810944    Male   35            20000          0\n",
       "2  15668575  Female   26            43000          0\n",
       "3  15603246  Female   27            57000          0\n",
       "4  15804002    Male   19            76000          0"
      ]
     },
     "execution_count": 3,
     "metadata": {},
     "output_type": "execute_result"
    }
   ],
   "source": [
    "print(data.shape)\n",
    "data.head()"
   ]
  },
  {
   "cell_type": "markdown",
   "metadata": {},
   "source": [
    "### Pre-processing\n",
    "- The data was manually checked and no missing values were found.\n",
    "- The data was manually checked and no duplicates were found. The user id does not repeat.\n",
    "- Convert all continous attributes to discrete attributes and the package pomegranate only supports discrete values."
   ]
  },
  {
   "cell_type": "code",
   "execution_count": 4,
   "metadata": {},
   "outputs": [
    {
     "data": {
      "text/plain": [
       "<AxesSubplot:>"
      ]
     },
     "execution_count": 4,
     "metadata": {},
     "output_type": "execute_result"
    },
    {
     "data": {
      "image/png": "[encoded data removed]",
      "text/plain": [
       "<Figure size 432x288 with 1 Axes>"
      ]
     },
     "metadata": {
      "needs_background": "light"
     },
     "output_type": "display_data"
    }
   ],
   "source": [
    "data.Age.hist()"
   ]
  },
  {
   "cell_type": "code",
   "execution_count": 5,
   "metadata": {},
   "outputs": [
    {
     "data": {
      "text/plain": [
       "<AxesSubplot:>"
      ]
     },
     "execution_count": 5,
     "metadata": {},
     "output_type": "execute_result"
    },
    {
     "data": {
      "image/png": "[encoded data removed]",
      "text/plain": [
       "<Figure size 432x288 with 1 Axes>"
      ]
     },
     "metadata": {
      "needs_background": "light"
     },
     "output_type": "display_data"
    }
   ],
   "source": [
    "data.EstimatedSalary.hist()"
   ]
  },
  {
   "cell_type": "code",
   "execution_count": 6,
   "metadata": {},
   "outputs": [],
   "source": [
    "# categorize the Age as group1, group2 , group3\n",
    "# categorize the Salary as low, medium, high\n",
    "\n",
    "def categorize_age(age):\n",
    "    if age <= 30:\n",
    "        return 'group 1'\n",
    "    if age <= 45:\n",
    "        return 'group 2'  \n",
    "    return 'group 3'\n",
    "\n",
    "def categorise_salary(salary):\n",
    "    if salary <= 40000:\n",
    "        return 'low'\n",
    "    if salary <= 80000:\n",
    "        return 'medium'  \n",
    "    return 'high'    "
   ]
  },
  {
   "cell_type": "code",
   "execution_count": 7,
   "metadata": {},
   "outputs": [],
   "source": [
    "data_transformed = data.copy()\n",
    "data_transformed['Age'] = data_transformed['Age'].apply(categorize_age)\n",
    "data_transformed['EstimatedSalary'] = data_transformed['EstimatedSalary'].apply(categorise_salary)"
   ]
  },
  {
   "cell_type": "code",
   "execution_count": 8,
   "metadata": {},
   "outputs": [
    {
     "data": {
      "text/html": [
       "<div>\n",
       "<style scoped>\n",
       "    .dataframe tbody tr th:only-of-type {\n",
       "        vertical-align: middle;\n",
       "    }\n",
       "\n",
       "    .dataframe tbody tr th {\n",
       "        vertical-align: top;\n",
       "    }\n",
       "\n",
       "    .dataframe thead th {\n",
       "        text-align: right;\n",
       "    }\n",
       "</style>\n",
       "<table border=\"1\" class=\"dataframe\">\n",
       "  <thead>\n",
       "    <tr style=\"text-align: right;\">\n",
       "      <th></th>\n",
       "      <th>User ID</th>\n",
       "      <th>Gender</th>\n",
       "      <th>Age</th>\n",
       "      <th>EstimatedSalary</th>\n",
       "      <th>Purchased</th>\n",
       "    </tr>\n",
       "  </thead>\n",
       "  <tbody>\n",
       "    <tr>\n",
       "      <th>0</th>\n",
       "      <td>15624510</td>\n",
       "      <td>Male</td>\n",
       "      <td>group 1</td>\n",
       "      <td>low</td>\n",
       "      <td>0</td>\n",
       "    </tr>\n",
       "    <tr>\n",
       "      <th>1</th>\n",
       "      <td>15810944</td>\n",
       "      <td>Male</td>\n",
       "      <td>group 2</td>\n",
       "      <td>low</td>\n",
       "      <td>0</td>\n",
       "    </tr>\n",
       "    <tr>\n",
       "      <th>2</th>\n",
       "      <td>15668575</td>\n",
       "      <td>Female</td>\n",
       "      <td>group 1</td>\n",
       "      <td>medium</td>\n",
       "      <td>0</td>\n",
       "    </tr>\n",
       "    <tr>\n",
       "      <th>3</th>\n",
       "      <td>15603246</td>\n",
       "      <td>Female</td>\n",
       "      <td>group 1</td>\n",
       "      <td>medium</td>\n",
       "      <td>0</td>\n",
       "    </tr>\n",
       "    <tr>\n",
       "      <th>4</th>\n",
       "      <td>15804002</td>\n",
       "      <td>Male</td>\n",
       "      <td>group 1</td>\n",
       "      <td>medium</td>\n",
       "      <td>0</td>\n",
       "    </tr>\n",
       "  </tbody>\n",
       "</table>\n",
       "</div>"
      ],
      "text/plain": [
       "    User ID  Gender      Age EstimatedSalary  Purchased\n",
       "0  15624510    Male  group 1             low          0\n",
       "1  15810944    Male  group 2             low          0\n",
       "2  15668575  Female  group 1          medium          0\n",
       "3  15603246  Female  group 1          medium          0\n",
       "4  15804002    Male  group 1          medium          0"
      ]
     },
     "execution_count": 8,
     "metadata": {},
     "output_type": "execute_result"
    }
   ],
   "source": [
    "data_transformed.head()"
   ]
  },
  {
   "cell_type": "markdown",
   "metadata": {},
   "source": [
    "- Here the dependent variable is Purchased.\n",
    "- Purchased depends on all other variables.\n",
    "- All other variables are independent"
   ]
  },
  {
   "cell_type": "markdown",
   "metadata": {},
   "source": [
    "### Find Probabilities\n",
    "- conditional probability P(C|E) = P(C,E)/P(E)"
   ]
  },
  {
   "cell_type": "code",
   "execution_count": 9,
   "metadata": {},
   "outputs": [
    {
     "data": {
      "text/plain": [
       "Evidence\n",
       "Female-group 1-high      0.0400\n",
       "Female-group 1-low       0.0400\n",
       "Female-group 1-medium    0.0525\n",
       "Female-group 2-high      0.0625\n",
       "Female-group 2-low       0.0250\n",
       "Female-group 2-medium    0.1375\n",
       "Female-group 3-high      0.0775\n",
       "Female-group 3-low       0.0475\n",
       "Female-group 3-medium    0.0275\n",
       "Male-group 1-high        0.0500\n",
       "Male-group 1-low         0.0400\n",
       "Male-group 1-medium      0.0550\n",
       "Male-group 2-high        0.0525\n",
       "Male-group 2-low         0.0325\n",
       "Male-group 2-medium      0.1550\n",
       "Male-group 3-high        0.0375\n",
       "Male-group 3-low         0.0325\n",
       "Male-group 3-medium      0.0350\n",
       "dtype: float64"
      ]
     },
     "execution_count": 9,
     "metadata": {},
     "output_type": "execute_result"
    }
   ],
   "source": [
    "data_transformed['Evidence'] = data_transformed['Gender'] +'-'+ data_transformed['Age'] +'-'+ data_transformed['EstimatedSalary']\n",
    "prob_evidence = data_transformed.groupby('Evidence').size().div(len(data_transformed))\n",
    "prob_evidence # P(E)"
   ]
  },
  {
   "cell_type": "code",
   "execution_count": 10,
   "metadata": {},
   "outputs": [
    {
     "data": {
      "text/plain": [
       "Evidence               Purchased\n",
       "Female-group 1-high    0            0.875000\n",
       "                       1            0.125000\n",
       "Female-group 1-low     0            1.000000\n",
       "Female-group 1-medium  0            1.000000\n",
       "Female-group 2-high    0            0.240000\n",
       "                       1            0.760000\n",
       "Female-group 2-low     0            0.900000\n",
       "                       1            0.100000\n",
       "Female-group 2-medium  0            0.927273\n",
       "                       1            0.072727\n",
       "Female-group 3-high    0            0.161290\n",
       "                       1            0.838710\n",
       "Female-group 3-low     0            0.052632\n",
       "                       1            0.947368\n",
       "Female-group 3-medium  0            0.363636\n",
       "                       1            0.636364\n",
       "Male-group 1-high      0            0.800000\n",
       "                       1            0.200000\n",
       "Male-group 1-low       0            1.000000\n",
       "Male-group 1-medium    0            1.000000\n",
       "Male-group 2-high      0            0.142857\n",
       "                       1            0.857143\n",
       "Male-group 2-low       0            0.769231\n",
       "                       1            0.230769\n",
       "Male-group 2-medium    0            0.935484\n",
       "                       1            0.064516\n",
       "Male-group 3-high      0            0.066667\n",
       "                       1            0.933333\n",
       "Male-group 3-low       1            1.000000\n",
       "Male-group 3-medium    0            0.285714\n",
       "                       1            0.714286\n",
       "dtype: float64"
      ]
     },
     "execution_count": 10,
     "metadata": {},
     "output_type": "execute_result"
    }
   ],
   "source": [
    "data_transformed['Purchased'] = data_transformed['Purchased'].apply(str)\n",
    "prob_conditional = data_transformed.groupby(['Evidence', 'Purchased']).size().div(len(data_transformed)).div(prob_evidence, axis=0, level='Evidence')\n",
    "prob_conditional # P(C|E)"
   ]
  },
  {
   "cell_type": "code",
   "execution_count": 11,
   "metadata": {},
   "outputs": [
    {
     "data": {
      "text/html": [
       "<div>\n",
       "<style scoped>\n",
       "    .dataframe tbody tr th:only-of-type {\n",
       "        vertical-align: middle;\n",
       "    }\n",
       "\n",
       "    .dataframe tbody tr th {\n",
       "        vertical-align: top;\n",
       "    }\n",
       "\n",
       "    .dataframe thead th {\n",
       "        text-align: right;\n",
       "    }\n",
       "</style>\n",
       "<table border=\"1\" class=\"dataframe\">\n",
       "  <thead>\n",
       "    <tr style=\"text-align: right;\">\n",
       "      <th></th>\n",
       "      <th>Evidence</th>\n",
       "      <th>Purchased</th>\n",
       "      <th>conditional_prob</th>\n",
       "    </tr>\n",
       "  </thead>\n",
       "  <tbody>\n",
       "    <tr>\n",
       "      <th>0</th>\n",
       "      <td>Female-group 1-high</td>\n",
       "      <td>0</td>\n",
       "      <td>0.875000</td>\n",
       "    </tr>\n",
       "    <tr>\n",
       "      <th>1</th>\n",
       "      <td>Female-group 1-high</td>\n",
       "      <td>1</td>\n",
       "      <td>0.125000</td>\n",
       "    </tr>\n",
       "    <tr>\n",
       "      <th>2</th>\n",
       "      <td>Female-group 1-low</td>\n",
       "      <td>0</td>\n",
       "      <td>1.000000</td>\n",
       "    </tr>\n",
       "    <tr>\n",
       "      <th>3</th>\n",
       "      <td>Female-group 1-medium</td>\n",
       "      <td>0</td>\n",
       "      <td>1.000000</td>\n",
       "    </tr>\n",
       "    <tr>\n",
       "      <th>4</th>\n",
       "      <td>Female-group 2-high</td>\n",
       "      <td>0</td>\n",
       "      <td>0.240000</td>\n",
       "    </tr>\n",
       "    <tr>\n",
       "      <th>5</th>\n",
       "      <td>Female-group 2-high</td>\n",
       "      <td>1</td>\n",
       "      <td>0.760000</td>\n",
       "    </tr>\n",
       "    <tr>\n",
       "      <th>6</th>\n",
       "      <td>Female-group 2-low</td>\n",
       "      <td>0</td>\n",
       "      <td>0.900000</td>\n",
       "    </tr>\n",
       "    <tr>\n",
       "      <th>7</th>\n",
       "      <td>Female-group 2-low</td>\n",
       "      <td>1</td>\n",
       "      <td>0.100000</td>\n",
       "    </tr>\n",
       "    <tr>\n",
       "      <th>8</th>\n",
       "      <td>Female-group 2-medium</td>\n",
       "      <td>0</td>\n",
       "      <td>0.927273</td>\n",
       "    </tr>\n",
       "    <tr>\n",
       "      <th>9</th>\n",
       "      <td>Female-group 2-medium</td>\n",
       "      <td>1</td>\n",
       "      <td>0.072727</td>\n",
       "    </tr>\n",
       "    <tr>\n",
       "      <th>10</th>\n",
       "      <td>Female-group 3-high</td>\n",
       "      <td>0</td>\n",
       "      <td>0.161290</td>\n",
       "    </tr>\n",
       "    <tr>\n",
       "      <th>11</th>\n",
       "      <td>Female-group 3-high</td>\n",
       "      <td>1</td>\n",
       "      <td>0.838710</td>\n",
       "    </tr>\n",
       "    <tr>\n",
       "      <th>12</th>\n",
       "      <td>Female-group 3-low</td>\n",
       "      <td>0</td>\n",
       "      <td>0.052632</td>\n",
       "    </tr>\n",
       "    <tr>\n",
       "      <th>13</th>\n",
       "      <td>Female-group 3-low</td>\n",
       "      <td>1</td>\n",
       "      <td>0.947368</td>\n",
       "    </tr>\n",
       "    <tr>\n",
       "      <th>14</th>\n",
       "      <td>Female-group 3-medium</td>\n",
       "      <td>0</td>\n",
       "      <td>0.363636</td>\n",
       "    </tr>\n",
       "    <tr>\n",
       "      <th>15</th>\n",
       "      <td>Female-group 3-medium</td>\n",
       "      <td>1</td>\n",
       "      <td>0.636364</td>\n",
       "    </tr>\n",
       "    <tr>\n",
       "      <th>16</th>\n",
       "      <td>Male-group 1-high</td>\n",
       "      <td>0</td>\n",
       "      <td>0.800000</td>\n",
       "    </tr>\n",
       "    <tr>\n",
       "      <th>17</th>\n",
       "      <td>Male-group 1-high</td>\n",
       "      <td>1</td>\n",
       "      <td>0.200000</td>\n",
       "    </tr>\n",
       "    <tr>\n",
       "      <th>18</th>\n",
       "      <td>Male-group 1-low</td>\n",
       "      <td>0</td>\n",
       "      <td>1.000000</td>\n",
       "    </tr>\n",
       "    <tr>\n",
       "      <th>19</th>\n",
       "      <td>Male-group 1-medium</td>\n",
       "      <td>0</td>\n",
       "      <td>1.000000</td>\n",
       "    </tr>\n",
       "    <tr>\n",
       "      <th>20</th>\n",
       "      <td>Male-group 2-high</td>\n",
       "      <td>0</td>\n",
       "      <td>0.142857</td>\n",
       "    </tr>\n",
       "    <tr>\n",
       "      <th>21</th>\n",
       "      <td>Male-group 2-high</td>\n",
       "      <td>1</td>\n",
       "      <td>0.857143</td>\n",
       "    </tr>\n",
       "    <tr>\n",
       "      <th>22</th>\n",
       "      <td>Male-group 2-low</td>\n",
       "      <td>0</td>\n",
       "      <td>0.769231</td>\n",
       "    </tr>\n",
       "    <tr>\n",
       "      <th>23</th>\n",
       "      <td>Male-group 2-low</td>\n",
       "      <td>1</td>\n",
       "      <td>0.230769</td>\n",
       "    </tr>\n",
       "    <tr>\n",
       "      <th>24</th>\n",
       "      <td>Male-group 2-medium</td>\n",
       "      <td>0</td>\n",
       "      <td>0.935484</td>\n",
       "    </tr>\n",
       "    <tr>\n",
       "      <th>25</th>\n",
       "      <td>Male-group 2-medium</td>\n",
       "      <td>1</td>\n",
       "      <td>0.064516</td>\n",
       "    </tr>\n",
       "    <tr>\n",
       "      <th>26</th>\n",
       "      <td>Male-group 3-high</td>\n",
       "      <td>0</td>\n",
       "      <td>0.066667</td>\n",
       "    </tr>\n",
       "    <tr>\n",
       "      <th>27</th>\n",
       "      <td>Male-group 3-high</td>\n",
       "      <td>1</td>\n",
       "      <td>0.933333</td>\n",
       "    </tr>\n",
       "    <tr>\n",
       "      <th>28</th>\n",
       "      <td>Male-group 3-low</td>\n",
       "      <td>1</td>\n",
       "      <td>1.000000</td>\n",
       "    </tr>\n",
       "    <tr>\n",
       "      <th>29</th>\n",
       "      <td>Male-group 3-medium</td>\n",
       "      <td>0</td>\n",
       "      <td>0.285714</td>\n",
       "    </tr>\n",
       "    <tr>\n",
       "      <th>30</th>\n",
       "      <td>Male-group 3-medium</td>\n",
       "      <td>1</td>\n",
       "      <td>0.714286</td>\n",
       "    </tr>\n",
       "  </tbody>\n",
       "</table>\n",
       "</div>"
      ],
      "text/plain": [
       "                 Evidence Purchased  conditional_prob\n",
       "0     Female-group 1-high         0          0.875000\n",
       "1     Female-group 1-high         1          0.125000\n",
       "2      Female-group 1-low         0          1.000000\n",
       "3   Female-group 1-medium         0          1.000000\n",
       "4     Female-group 2-high         0          0.240000\n",
       "5     Female-group 2-high         1          0.760000\n",
       "6      Female-group 2-low         0          0.900000\n",
       "7      Female-group 2-low         1          0.100000\n",
       "8   Female-group 2-medium         0          0.927273\n",
       "9   Female-group 2-medium         1          0.072727\n",
       "10    Female-group 3-high         0          0.161290\n",
       "11    Female-group 3-high         1          0.838710\n",
       "12     Female-group 3-low         0          0.052632\n",
       "13     Female-group 3-low         1          0.947368\n",
       "14  Female-group 3-medium         0          0.363636\n",
       "15  Female-group 3-medium         1          0.636364\n",
       "16      Male-group 1-high         0          0.800000\n",
       "17      Male-group 1-high         1          0.200000\n",
       "18       Male-group 1-low         0          1.000000\n",
       "19    Male-group 1-medium         0          1.000000\n",
       "20      Male-group 2-high         0          0.142857\n",
       "21      Male-group 2-high         1          0.857143\n",
       "22       Male-group 2-low         0          0.769231\n",
       "23       Male-group 2-low         1          0.230769\n",
       "24    Male-group 2-medium         0          0.935484\n",
       "25    Male-group 2-medium         1          0.064516\n",
       "26      Male-group 3-high         0          0.066667\n",
       "27      Male-group 3-high         1          0.933333\n",
       "28       Male-group 3-low         1          1.000000\n",
       "29    Male-group 3-medium         0          0.285714\n",
       "30    Male-group 3-medium         1          0.714286"
      ]
     },
     "execution_count": 11,
     "metadata": {},
     "output_type": "execute_result"
    }
   ],
   "source": [
    "prob_conditional = prob_conditional.reset_index()\n",
    "prob_conditional.columns = ['Evidence', 'Purchased', 'conditional_prob']\n",
    "prob_conditional"
   ]
  },
  {
   "cell_type": "code",
   "execution_count": 12,
   "metadata": {},
   "outputs": [],
   "source": [
    "def conditional_prob_transform(evidence,purchase,conditional_prob):\n",
    "    return(evidence.split('-') + [purchase] + [conditional_prob])\n",
    "        \n",
    "conditional_prob_transformed = prob_conditional.apply(lambda x: conditional_prob_transform(x['Evidence'],x['Purchased'],x['conditional_prob']),axis=1)\n",
    "conditional_prob_transformed = conditional_prob_transformed.to_list()"
   ]
  },
  {
   "cell_type": "code",
   "execution_count": 13,
   "metadata": {},
   "outputs": [
    {
     "data": {
      "text/plain": [
       "[['Female', 'group 1', 'high', '0', 0.8750000000000001],\n",
       " ['Female', 'group 1', 'high', '1', 0.125],\n",
       " ['Female', 'group 1', 'low', '0', 1.0],\n",
       " ['Female', 'group 1', 'medium', '0', 1.0],\n",
       " ['Female', 'group 2', 'high', '0', 0.24],\n",
       " ['Female', 'group 2', 'high', '1', 0.76],\n",
       " ['Female', 'group 2', 'low', '0', 0.8999999999999999],\n",
       " ['Female', 'group 2', 'low', '1', 0.09999999999999999],\n",
       " ['Female', 'group 2', 'medium', '0', 0.9272727272727272],\n",
       " ['Female', 'group 2', 'medium', '1', 0.07272727272727272],\n",
       " ['Female', 'group 3', 'high', '0', 0.16129032258064518],\n",
       " ['Female', 'group 3', 'high', '1', 0.8387096774193549],\n",
       " ['Female', 'group 3', 'low', '0', 0.05263157894736842],\n",
       " ['Female', 'group 3', 'low', '1', 0.9473684210526315],\n",
       " ['Female', 'group 3', 'medium', '0', 0.36363636363636365],\n",
       " ['Female', 'group 3', 'medium', '1', 0.6363636363636365],\n",
       " ['Male', 'group 1', 'high', '0', 0.7999999999999999],\n",
       " ['Male', 'group 1', 'high', '1', 0.19999999999999998],\n",
       " ['Male', 'group 1', 'low', '0', 1.0],\n",
       " ['Male', 'group 1', 'medium', '0', 1.0],\n",
       " ['Male', 'group 2', 'high', '0', 0.14285714285714285],\n",
       " ['Male', 'group 2', 'high', '1', 0.8571428571428571],\n",
       " ['Male', 'group 2', 'low', '0', 0.7692307692307693],\n",
       " ['Male', 'group 2', 'low', '1', 0.23076923076923075],\n",
       " ['Male', 'group 2', 'medium', '0', 0.9354838709677419],\n",
       " ['Male', 'group 2', 'medium', '1', 0.06451612903225806],\n",
       " ['Male', 'group 3', 'high', '0', 0.06666666666666667],\n",
       " ['Male', 'group 3', 'high', '1', 0.9333333333333335],\n",
       " ['Male', 'group 3', 'low', '1', 1.0],\n",
       " ['Male', 'group 3', 'medium', '0', 0.2857142857142857],\n",
       " ['Male', 'group 3', 'medium', '1', 0.7142857142857143]]"
      ]
     },
     "execution_count": 13,
     "metadata": {},
     "output_type": "execute_result"
    }
   ],
   "source": [
    "conditional_prob_transformed"
   ]
  },
  {
   "cell_type": "markdown",
   "metadata": {},
   "source": [
    "- A few combinations are missing in this data. This can be added after a manual check"
   ]
  },
  {
   "cell_type": "code",
   "execution_count": 14,
   "metadata": {},
   "outputs": [],
   "source": [
    "missing_comb = [ ['Male', 'group 1', 'low', '1', 0],\n",
    " ['Male', 'group 3', 'low', '0', 0],\n",
    " ['Female', 'group 1', 'low', '1', 0],\n",
    " ['Female', 'group 1', 'medium', '1', 0],\n",
    " ['Male', 'group 1', 'medium', '1', 0]]\n",
    "conditional_prob_transformed = conditional_prob_transformed + missing_comb"
   ]
  },
  {
   "cell_type": "code",
   "execution_count": 15,
   "metadata": {},
   "outputs": [],
   "source": [
    "male_prob = data_transformed.groupby('Gender').size().div(len(data_transformed)).reset_index()[0][0]\n",
    "female_prob = data_transformed.groupby('Gender').size().div(len(data_transformed)).reset_index()[0][1]\n",
    "age1_prob = data_transformed.groupby('Age').size().div(len(data_transformed)).reset_index()[0][0]\n",
    "age2_prob = data_transformed.groupby('Age').size().div(len(data_transformed)).reset_index()[0][1]\n",
    "age3_prob = data_transformed.groupby('Age').size().div(len(data_transformed)).reset_index()[0][2]\n",
    "high_prob = data_transformed.groupby('EstimatedSalary').size().div(len(data_transformed)).reset_index()[0][0]\n",
    "low_prob = data_transformed.groupby('EstimatedSalary').size().div(len(data_transformed)).reset_index()[0][1]\n",
    "medium_prob = data_transformed.groupby('EstimatedSalary').size().div(len(data_transformed)).reset_index()[0][2]"
   ]
  },
  {
   "cell_type": "markdown",
   "metadata": {},
   "source": [
    "### Discrete Probability Distribution & Conditional Probability distribution"
   ]
  },
  {
   "cell_type": "code",
   "execution_count": 16,
   "metadata": {},
   "outputs": [],
   "source": [
    "gender = DiscreteDistribution({'Male': male_prob, 'Female': female_prob})\n",
    "age = DiscreteDistribution({'group 1': age1_prob, 'group 2': age2_prob, 'group 3': age3_prob})\n",
    "salary = DiscreteDistribution({'low': low_prob, 'medium': medium_prob, 'high': high_prob})\n",
    "purchased = ConditionalProbabilityTable(conditional_prob_transformed, [gender, age,salary])"
   ]
  },
  {
   "cell_type": "markdown",
   "metadata": {},
   "source": [
    "### Initialize State & Model"
   ]
  },
  {
   "cell_type": "code",
   "execution_count": 17,
   "metadata": {},
   "outputs": [
    {
     "name": "stdout",
     "output_type": "stream",
     "text": [
      "Bayesian Network initialized\n"
     ]
    }
   ],
   "source": [
    "s1 = Node(gender, name=\"gender\")\n",
    "s2 = Node(age, name=\"age\")\n",
    "s3 = Node(salary, name=\"salary\")\n",
    "s4 = Node(purchased, name=\"purchased\")\n",
    "\n",
    "model = BayesianNetwork(\"Customer Purchase Prediction\")\n",
    "model.add_states(s1, s2, s3, s4)\n",
    "model.add_edge(s1, s4)\n",
    "model.add_edge(s2, s4)\n",
    "model.add_edge(s3, s4)\n",
    "model.bake()\n",
    "print(\"Bayesian Network initialized\")"
   ]
  },
  {
   "cell_type": "markdown",
   "metadata": {},
   "source": [
    "### Predict whether the customer purchased things or not using the following data\n",
    "- Female Customer who is 33 years old with Rs. 33000/- salary"
   ]
  },
  {
   "cell_type": "code",
   "execution_count": 18,
   "metadata": {},
   "outputs": [
    {
     "name": "stdout",
     "output_type": "stream",
     "text": [
      "Customer does not purchase things\n"
     ]
    },
    {
     "name": "stderr",
     "output_type": "stream",
     "text": [
      "<ipython-input-18-b3f1199eba6f>:4: DeprecationWarning: `np.float` is a deprecated alias for the builtin `float`. To silence this warning, use `float` by itself. Doing this will not modify any behavior and is safe. If you specifically wanted the numpy scalar type, use `np.float64` here.\n",
      "Deprecated in NumPy 1.20; for more details and guidance: https://numpy.org/devdocs/release/1.20.0-notes.html#deprecations\n",
      "  result = model.predict([[gender_, age_,salary_, None]])\n"
     ]
    }
   ],
   "source": [
    "gender_ = 'Female'\n",
    "salary_ = categorise_salary(33000)\n",
    "age_ = categorize_age(33)\n",
    "result = model.predict([[gender_, age_,salary_, None]])\n",
    "if list(result[0])[-1] == '0':\n",
    "    print(\"Customer does not purchase things\")\n",
    "else:\n",
    "    print(\"Customer does purchases things\")"
   ]
  },
  {
   "cell_type": "markdown",
   "metadata": {},
   "source": [
    "### Infer the probability for the data with the following properties\n",
    "- A 32-year-old male with Rs. 1,15,000/- salary and who purchased nothing"
   ]
  },
  {
   "cell_type": "code",
   "execution_count": 19,
   "metadata": {},
   "outputs": [
    {
     "name": "stdout",
     "output_type": "stream",
     "text": [
      "Probability for the given data is 0.010841142857142853\n"
     ]
    }
   ],
   "source": [
    "gender_ = 'Male'\n",
    "salary_ = categorise_salary(115000)\n",
    "age_ = categorize_age(32)\n",
    "purchased_ = '0'\n",
    "result = model.probability([[gender_, age_,salary_, purchased_]])\n",
    "print('Probability for the given data is '+ str(result))"
   ]
  },
  {
   "cell_type": "markdown",
   "metadata": {},
   "source": [
    "### Find the probability of the customer purchasing the product with the following attribute values\n",
    "- Age 50, salary Rs.10000/- and Gender male"
   ]
  },
  {
   "cell_type": "code",
   "execution_count": 20,
   "metadata": {},
   "outputs": [
    {
     "name": "stdout",
     "output_type": "stream",
     "text": [
      "Probability for the given data is 0.028563187499999993\n"
     ]
    }
   ],
   "source": [
    "gender_ = 'Male'\n",
    "salary_ = categorise_salary(10000)\n",
    "age_ = categorize_age(50)\n",
    "purchased_ = '1'\n",
    "result = model.probability([[gender_, age_,salary_, purchased_]])\n",
    "print('Probability for the given data is '+ str(result))"
   ]
  },
  {
   "cell_type": "code",
   "execution_count": null,
   "metadata": {},
   "outputs": [],
   "source": []
  }
 ],
 "metadata": {
  "kernelspec": {
   "display_name": "Python 3",
   "language": "python",
   "name": "python3"
  },
  "language_info": {
   "codemirror_mode": {
    "name": "ipython",
    "version": 3
   },
   "file_extension": ".py",
   "mimetype": "text/x-python",
   "name": "python",
   "nbconvert_exporter": "python",
   "pygments_lexer": "ipython3",
   "version": "3.8.8"
  }
 },
 "nbformat": 4,
 "nbformat_minor": 4
}
