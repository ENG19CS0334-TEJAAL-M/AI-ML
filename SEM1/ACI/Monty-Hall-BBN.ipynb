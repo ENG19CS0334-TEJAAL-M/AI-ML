{
 "cells": [
  {
   "cell_type": "code",
   "execution_count": 1,
   "metadata": {},
   "outputs": [
    {
     "name": "stdout",
     "output_type": "stream",
     "text": [
      "Bayesian Network initialized\n"
     ]
    }
   ],
   "source": [
    "from pomegranate import *\n",
    "import warnings\n",
    "warnings.filterwarnings(\"ignore\")\n",
    "guest = DiscreteDistribution({'A': 1./3, 'B': 1./3, 'C': 1./3})\n",
    "prize = DiscreteDistribution({'A': 1./3, 'B': 1./3, 'C': 1./3})\n",
    "monty = ConditionalProbabilityTable(\n",
    "        [['A', 'A', 'A', 0.0],\n",
    "         ['A', 'A', 'B', 0.5],\n",
    "         ['A', 'A', 'C', 0.5],\n",
    "         ['A', 'B', 'A', 0.0],\n",
    "         ['A', 'B', 'B', 0.0],\n",
    "         ['A', 'B', 'C', 1.0],\n",
    "         ['A', 'C', 'A', 0.0],\n",
    "         ['A', 'C', 'B', 1.0],\n",
    "         ['A', 'C', 'C', 0.0],\n",
    "         ['B', 'A', 'A', 0.0],\n",
    "         ['B', 'A', 'B', 0.0],\n",
    "         ['B', 'A', 'C', 1.0],\n",
    "         ['B', 'B', 'A', 0.5],  \n",
    "         ['B', 'B', 'B', 0.0],\n",
    "         ['B', 'B', 'C', 0.5],\n",
    "         ['B', 'C', 'A', 1.0],\n",
    "         ['B', 'C', 'B', 0.0],\n",
    "         ['B', 'C', 'C', 0.0],\n",
    "         ['C', 'A', 'A', 0.0],\n",
    "         ['C', 'A', 'B', 1.0],\n",
    "         ['C', 'A', 'C', 0.0],\n",
    "         ['C', 'B', 'A', 1.0],\n",
    "         ['C', 'B', 'B', 0.0],\n",
    "         ['C', 'B', 'C', 0.0],\n",
    "         ['C', 'C', 'A', 0.5],\n",
    "         ['C', 'C', 'B', 0.5],\n",
    "         ['C', 'C', 'C', 0.0]], [guest, prize])\n",
    "s1 = Node(guest, name=\"guest\")\n",
    "s2 = Node(prize, name=\"prize\")\n",
    "s3 = Node(monty, name=\"monty\")\n",
    "model = BayesianNetwork(\"Monty Hall Problem\")\n",
    "model.add_states(s1, s2, s3)\n",
    "model.add_edge(s1, s3)\n",
    "model.add_edge(s2, s3)\n",
    "model.bake()\n",
    "print(\"Bayesian Network initialized\")\n",
    "\n"
   ]
  },
  {
   "cell_type": "code",
   "execution_count": 2,
   "metadata": {},
   "outputs": [
    {
     "name": "stdout",
     "output_type": "stream",
     "text": [
      "Let's check the model \n",
      "\n",
      "\n",
      " The probability of ['A', 'A', 'A'],['A', 'A', 'B'],['C', 'C', 'B'] using probability() methodis: \n",
      "\n",
      "[0.05555556 0.11111111 0.05555556]\n"
     ]
    }
   ],
   "source": [
    "print(\"Let's check the model \\n\")\n",
    "print(\"\\n The probability of ['A', 'A', 'A'],['A', 'A', 'B'],['C', 'C', 'B'] using probability() methodis: \\n\")\n",
    "print(model.probability([['A', 'A', 'C'],['C', 'A', 'B'],['C', 'C', 'B']]))\n",
    "\n"
   ]
  },
  {
   "cell_type": "code",
   "execution_count": 3,
   "metadata": {},
   "outputs": [
    {
     "name": "stdout",
     "output_type": "stream",
     "text": [
      "\n",
      "Run1\n",
      "Predicting the marginal probabilities for variables A, B and C (using predict_proba() method) \n",
      "\n",
      "[{\n",
      "     \"class\" : \"Distribution\",\n",
      "     \"dtype\" : \"str\",\n",
      "     \"name\" : \"DiscreteDistribution\",\n",
      "     \"parameters\" : [\n",
      "         {\n",
      "             \"A\" : 0.33333333333333337,\n",
      "             \"B\" : 0.33333333333333337,\n",
      "             \"C\" : 0.33333333333333337\n",
      "         }\n",
      "     ],\n",
      "     \"frozen\" : false\n",
      " }\n",
      " {\n",
      "     \"class\" : \"Distribution\",\n",
      "     \"dtype\" : \"str\",\n",
      "     \"name\" : \"DiscreteDistribution\",\n",
      "     \"parameters\" : [\n",
      "         {\n",
      "             \"A\" : 0.33333333333333337,\n",
      "             \"B\" : 0.33333333333333337,\n",
      "             \"C\" : 0.33333333333333337\n",
      "         }\n",
      "     ],\n",
      "     \"frozen\" : false\n",
      " }\n",
      " {\n",
      "     \"class\" : \"Distribution\",\n",
      "     \"dtype\" : \"str\",\n",
      "     \"name\" : \"DiscreteDistribution\",\n",
      "     \"parameters\" : [\n",
      "         {\n",
      "             \"C\" : 0.3333333333333333,\n",
      "             \"A\" : 0.3333333333333333,\n",
      "             \"B\" : 0.3333333333333333\n",
      "         }\n",
      "     ],\n",
      "     \"frozen\" : false\n",
      " }                                    ]\n"
     ]
    }
   ],
   "source": [
    "print(\"\\nRun1\\nPredicting the marginal probabilities for variables A, B and C (using predict_proba() method) \\n\")\n",
    "print(model.predict_proba({}))\n"
   ]
  },
  {
   "cell_type": "code",
   "execution_count": 4,
   "metadata": {},
   "outputs": [
    {
     "data": {
      "text/plain": [
       "0.11111111111111109"
      ]
     },
     "execution_count": 4,
     "metadata": {},
     "output_type": "execute_result"
    }
   ],
   "source": [
    "model.probability([['A', 'B', 'C']])\n"
   ]
  },
  {
   "cell_type": "code",
   "execution_count": 11,
   "metadata": {},
   "outputs": [
    {
     "data": {
      "text/plain": [
       "0.0"
      ]
     },
     "execution_count": 11,
     "metadata": {},
     "output_type": "execute_result"
    }
   ],
   "source": [
    "model.probability([['A', 'A', 'A']]) \n"
   ]
  },
  {
   "cell_type": "code",
   "execution_count": 6,
   "metadata": {},
   "outputs": [
    {
     "name": "stdout",
     "output_type": "stream",
     "text": [
      "\n",
      " \n",
      " Run2\n",
      "Probability of initially the guest choosing door A\n",
      "\n",
      "\n",
      "The output for the statement model.predict_proba([['A', None, None]])\n",
      "[array(['A', {\n",
      "                \"class\" : \"Distribution\",\n",
      "                \"dtype\" : \"str\",\n",
      "                \"name\" : \"DiscreteDistribution\",\n",
      "                \"parameters\" : [\n",
      "                    {\n",
      "                        \"A\" : 0.3333333333333333,\n",
      "                        \"B\" : 0.3333333333333333,\n",
      "                        \"C\" : 0.3333333333333333\n",
      "                    }\n",
      "                ],\n",
      "                \"frozen\" : false\n",
      "            }                                    ,\n",
      "       {\n",
      "           \"class\" : \"Distribution\",\n",
      "           \"dtype\" : \"str\",\n",
      "           \"name\" : \"DiscreteDistribution\",\n",
      "           \"parameters\" : [\n",
      "               {\n",
      "                   \"C\" : 0.49999999999999983,\n",
      "                   \"A\" : 0.0,\n",
      "                   \"B\" : 0.49999999999999983\n",
      "               }\n",
      "           ],\n",
      "           \"frozen\" : false\n",
      "       }                                     ], dtype=object)]\n"
     ]
    }
   ],
   "source": [
    "print(\"\\n \\n Run2\\nProbability of initially the guest choosing door A\\n\")\n",
    "print(\"\\nThe output for the statement model.predict_proba([['A', None, None]])\")\n",
    "print(model.predict_proba([['A', None, None]]))\n"
   ]
  },
  {
   "cell_type": "code",
   "execution_count": 7,
   "metadata": {},
   "outputs": [
    {
     "name": "stdout",
     "output_type": "stream",
     "text": [
      "\n",
      "\n",
      "Run3\n",
      "Prediction - Unknown or missing values using predict() method\n",
      "\n",
      "For example: for the following input [['A', 'B', None],['A', 'C', None],['C', 'B', None], The output is as follows:\n",
      "\n",
      "[array(['A', 'B', 'C'], dtype=object), array(['A', 'C', 'B'], dtype=object), array(['C', 'B', 'A'], dtype=object)]\n",
      "\n",
      "\n",
      "\n",
      "\n",
      "\n"
     ]
    }
   ],
   "source": [
    "print(\"\\n\\nRun3\\nPrediction - Unknown or missing values using predict() method\\n\")\n",
    "print(\"For example: for the following input [['A', 'B', None],['A', 'C', None],['C', 'B', None], The output is as follows:\\n\")\n",
    "print(model.predict([['A', 'B', None],['A', 'C', None],['C', 'B', None]]))\n",
    "print(\"\\n\\n\\n\\n\");\n"
   ]
  },
  {
   "cell_type": "code",
   "execution_count": 8,
   "metadata": {},
   "outputs": [
    {
     "name": "stdout",
     "output_type": "stream",
     "text": [
      "\n",
      "\n",
      "Predicting the probability that guest chooses A and Monty chooses C and Prize is behind door B (Using Dictionary)\n",
      "\n",
      "The output for the statement: model.predict_proba([{'guest': 'A', 'monty': 'C'}])\n",
      "\n",
      "[array(['A', {\n",
      "                \"class\" : \"Distribution\",\n",
      "                \"dtype\" : \"str\",\n",
      "                \"name\" : \"DiscreteDistribution\",\n",
      "                \"parameters\" : [\n",
      "                    {\n",
      "                        \"A\" : 0.3333333333333334,\n",
      "                        \"B\" : 0.6666666666666664,\n",
      "                        \"C\" : 0.0\n",
      "                    }\n",
      "                ],\n",
      "                \"frozen\" : false\n",
      "            }                                    , 'C'], dtype=object)]\n"
     ]
    }
   ],
   "source": [
    "print(\"\\n\\nPredicting the probability that guest chooses A and Monty chooses C and Prize is behind door B (Using Dictionary)\\n\")\n",
    "print(\"The output for the statement: model.predict_proba([{'guest': 'A', 'monty': 'C'}])\\n\")\n",
    "print(model.predict_proba([{'guest': 'A', 'monty': 'C'}]))"
   ]
  },
  {
   "cell_type": "code",
   "execution_count": null,
   "metadata": {},
   "outputs": [],
   "source": []
  }
 ],
 "metadata": {
  "kernelspec": {
   "display_name": "Python 3",
   "language": "python",
   "name": "python3"
  },
  "language_info": {
   "codemirror_mode": {
    "name": "ipython",
    "version": 3
   },
   "file_extension": ".py",
   "mimetype": "text/x-python",
   "name": "python",
   "nbconvert_exporter": "python",
   "pygments_lexer": "ipython3",
   "version": "3.8.8"
  }
 },
 "nbformat": 4,
 "nbformat_minor": 4
}
