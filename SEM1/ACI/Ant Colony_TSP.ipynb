{
  "cells": [
    {
      "cell_type": "markdown",
      "id": "e08be533",
      "metadata": {
        "id": "e08be533"
      },
      "source": [
        "# 1.  Import Packages"
      ]
    },
    {
      "cell_type": "code",
      "source": [
        "!pip install ACO-Pants"
      ],
      "metadata": {
        "colab": {
          "base_uri": "https://localhost:8080/"
        },
        "id": "hkD-MTDqIb7X",
        "outputId": "bc4e564e-e680-4698-9d13-9af11637cfea"
      },
      "id": "hkD-MTDqIb7X",
      "execution_count": 1,
      "outputs": [
        {
          "output_type": "stream",
          "name": "stdout",
          "text": [
            "Requirement already satisfied: ACO-Pants in /usr/local/lib/python3.11/dist-packages (0.5.2)\n"
          ]
        }
      ]
    },
    {
      "cell_type": "code",
      "execution_count": 2,
      "id": "4b5cc827",
      "metadata": {
        "id": "4b5cc827"
      },
      "outputs": [],
      "source": [
        "#import packages\n",
        "import pants\n",
        "import math\n",
        "import random"
      ]
    },
    {
      "cell_type": "markdown",
      "id": "b10c2b85",
      "metadata": {
        "id": "b10c2b85"
      },
      "source": [
        "# 2. Input\n",
        "#### The input for ACOPants is a list of coordinates (x, y) of the nodes, and providing a length function to the algorithm this is able to calculate the distances from node 𝑖 to 𝑗.\n",
        "Here we have a csv .file that contains information about cities all around the world from the webpage: http://simplemaps.com/data/world-cities.\n",
        "We will work with the cities from India and with the coordinates in decimal degrees (lat and lng)."
      ]
    },
    {
      "cell_type": "code",
      "execution_count": 3,
      "id": "86c0ac8d",
      "metadata": {
        "colab": {
          "base_uri": "https://localhost:8080/"
        },
        "id": "86c0ac8d",
        "outputId": "4fbbb38a-afdb-493c-88e3-a3189fb321f7"
      },
      "outputs": [
        {
          "output_type": "stream",
          "name": "stdout",
          "text": [
            "Dimention INDIAcities: (7108, 11)\n"
          ]
        }
      ],
      "source": [
        "import pandas as pd\n",
        "import numpy as np\n",
        "cities = pd.read_csv('AntColony_dataset_simplemaps.csv', decimal=\".\")\n",
        "INDIAcities = cities.loc[cities['country'] == 'India'] #only the cities that belong to INDIA\n",
        "print('Dimention INDIAcities:', INDIAcities.shape) #dimention of INDIAcities dataset\n"
      ]
    },
    {
      "cell_type": "markdown",
      "id": "f08da770",
      "metadata": {
        "id": "f08da770"
      },
      "source": [
        "# 3. View the data"
      ]
    },
    {
      "cell_type": "code",
      "execution_count": 4,
      "id": "40043e95",
      "metadata": {
        "colab": {
          "base_uri": "https://localhost:8080/",
          "height": 261
        },
        "id": "40043e95",
        "outputId": "89acf7e9-47d0-49e2-b807-126bf661794e"
      },
      "outputs": [
        {
          "output_type": "stream",
          "name": "stdout",
          "text": [
            "Dimention Indiancities: (100, 11)\n"
          ]
        },
        {
          "output_type": "execute_result",
          "data": {
            "text/plain": [
              "               city    city_ascii      lat      lng country iso2 iso3  \\\n",
              "4366        Kaithal       Kaithal  29.8015  76.3998   India   IN  IND   \n",
              "32406       Rānāpur       Ranapur  22.6470  74.5212   India   IN  IND   \n",
              "809    Trichinopoly  Trichinopoly  10.7903  78.7047   India   IN  IND   \n",
              "43950     Vaikuntam     Vaikuntam  11.5197  77.9398   India   IN  IND   \n",
              "28175      Nidgundi      Nidgundi  16.3583  75.9310   India   IN  IND   \n",
              "\n",
              "           admin_name capital  population          id  \n",
              "4366          Haryāna     NaN    144915.0  1356810758  \n",
              "32406  Madhya Pradesh     NaN     14007.0  1356515642  \n",
              "809        Tamil Nādu     NaN    916857.0  1356884472  \n",
              "43950      Tamil Nādu     NaN      9228.0  1356167064  \n",
              "28175       Karnātaka     NaN     16901.0  1356334960  "
            ],
            "text/html": [
              "\n",
              "  <div id=\"df-7960228d-a028-4cef-9420-7f5a14c64a7b\" class=\"colab-df-container\">\n",
              "    <div>\n",
              "<style scoped>\n",
              "    .dataframe tbody tr th:only-of-type {\n",
              "        vertical-align: middle;\n",
              "    }\n",
              "\n",
              "    .dataframe tbody tr th {\n",
              "        vertical-align: top;\n",
              "    }\n",
              "\n",
              "    .dataframe thead th {\n",
              "        text-align: right;\n",
              "    }\n",
              "</style>\n",
              "<table border=\"1\" class=\"dataframe\">\n",
              "  <thead>\n",
              "    <tr style=\"text-align: right;\">\n",
              "      <th></th>\n",
              "      <th>city</th>\n",
              "      <th>city_ascii</th>\n",
              "      <th>lat</th>\n",
              "      <th>lng</th>\n",
              "      <th>country</th>\n",
              "      <th>iso2</th>\n",
              "      <th>iso3</th>\n",
              "      <th>admin_name</th>\n",
              "      <th>capital</th>\n",
              "      <th>population</th>\n",
              "      <th>id</th>\n",
              "    </tr>\n",
              "  </thead>\n",
              "  <tbody>\n",
              "    <tr>\n",
              "      <th>4366</th>\n",
              "      <td>Kaithal</td>\n",
              "      <td>Kaithal</td>\n",
              "      <td>29.8015</td>\n",
              "      <td>76.3998</td>\n",
              "      <td>India</td>\n",
              "      <td>IN</td>\n",
              "      <td>IND</td>\n",
              "      <td>Haryāna</td>\n",
              "      <td>NaN</td>\n",
              "      <td>144915.0</td>\n",
              "      <td>1356810758</td>\n",
              "    </tr>\n",
              "    <tr>\n",
              "      <th>32406</th>\n",
              "      <td>Rānāpur</td>\n",
              "      <td>Ranapur</td>\n",
              "      <td>22.6470</td>\n",
              "      <td>74.5212</td>\n",
              "      <td>India</td>\n",
              "      <td>IN</td>\n",
              "      <td>IND</td>\n",
              "      <td>Madhya Pradesh</td>\n",
              "      <td>NaN</td>\n",
              "      <td>14007.0</td>\n",
              "      <td>1356515642</td>\n",
              "    </tr>\n",
              "    <tr>\n",
              "      <th>809</th>\n",
              "      <td>Trichinopoly</td>\n",
              "      <td>Trichinopoly</td>\n",
              "      <td>10.7903</td>\n",
              "      <td>78.7047</td>\n",
              "      <td>India</td>\n",
              "      <td>IN</td>\n",
              "      <td>IND</td>\n",
              "      <td>Tamil Nādu</td>\n",
              "      <td>NaN</td>\n",
              "      <td>916857.0</td>\n",
              "      <td>1356884472</td>\n",
              "    </tr>\n",
              "    <tr>\n",
              "      <th>43950</th>\n",
              "      <td>Vaikuntam</td>\n",
              "      <td>Vaikuntam</td>\n",
              "      <td>11.5197</td>\n",
              "      <td>77.9398</td>\n",
              "      <td>India</td>\n",
              "      <td>IN</td>\n",
              "      <td>IND</td>\n",
              "      <td>Tamil Nādu</td>\n",
              "      <td>NaN</td>\n",
              "      <td>9228.0</td>\n",
              "      <td>1356167064</td>\n",
              "    </tr>\n",
              "    <tr>\n",
              "      <th>28175</th>\n",
              "      <td>Nidgundi</td>\n",
              "      <td>Nidgundi</td>\n",
              "      <td>16.3583</td>\n",
              "      <td>75.9310</td>\n",
              "      <td>India</td>\n",
              "      <td>IN</td>\n",
              "      <td>IND</td>\n",
              "      <td>Karnātaka</td>\n",
              "      <td>NaN</td>\n",
              "      <td>16901.0</td>\n",
              "      <td>1356334960</td>\n",
              "    </tr>\n",
              "  </tbody>\n",
              "</table>\n",
              "</div>\n",
              "    <div class=\"colab-df-buttons\">\n",
              "\n",
              "  <div class=\"colab-df-container\">\n",
              "    <button class=\"colab-df-convert\" onclick=\"convertToInteractive('df-7960228d-a028-4cef-9420-7f5a14c64a7b')\"\n",
              "            title=\"Convert this dataframe to an interactive table.\"\n",
              "            style=\"display:none;\">\n",
              "\n",
              "  <svg xmlns=\"http://www.w3.org/2000/svg\" height=\"24px\" viewBox=\"0 -960 960 960\">\n",
              "    <path d=\"M120-120v-720h720v720H120Zm60-500h600v-160H180v160Zm220 220h160v-160H400v160Zm0 220h160v-160H400v160ZM180-400h160v-160H180v160Zm440 0h160v-160H620v160ZM180-180h160v-160H180v160Zm440 0h160v-160H620v160Z\"/>\n",
              "  </svg>\n",
              "    </button>\n",
              "\n",
              "  <style>\n",
              "    .colab-df-container {\n",
              "      display:flex;\n",
              "      gap: 12px;\n",
              "    }\n",
              "\n",
              "    .colab-df-convert {\n",
              "      background-color: #E8F0FE;\n",
              "      border: none;\n",
              "      border-radius: 50%;\n",
              "      cursor: pointer;\n",
              "      display: none;\n",
              "      fill: #1967D2;\n",
              "      height: 32px;\n",
              "      padding: 0 0 0 0;\n",
              "      width: 32px;\n",
              "    }\n",
              "\n",
              "    .colab-df-convert:hover {\n",
              "      background-color: #E2EBFA;\n",
              "      box-shadow: 0px 1px 2px rgba(60, 64, 67, 0.3), 0px 1px 3px 1px rgba(60, 64, 67, 0.15);\n",
              "      fill: #174EA6;\n",
              "    }\n",
              "\n",
              "    .colab-df-buttons div {\n",
              "      margin-bottom: 4px;\n",
              "    }\n",
              "\n",
              "    [theme=dark] .colab-df-convert {\n",
              "      background-color: #3B4455;\n",
              "      fill: #D2E3FC;\n",
              "    }\n",
              "\n",
              "    [theme=dark] .colab-df-convert:hover {\n",
              "      background-color: #434B5C;\n",
              "      box-shadow: 0px 1px 3px 1px rgba(0, 0, 0, 0.15);\n",
              "      filter: drop-shadow(0px 1px 2px rgba(0, 0, 0, 0.3));\n",
              "      fill: #FFFFFF;\n",
              "    }\n",
              "  </style>\n",
              "\n",
              "    <script>\n",
              "      const buttonEl =\n",
              "        document.querySelector('#df-7960228d-a028-4cef-9420-7f5a14c64a7b button.colab-df-convert');\n",
              "      buttonEl.style.display =\n",
              "        google.colab.kernel.accessAllowed ? 'block' : 'none';\n",
              "\n",
              "      async function convertToInteractive(key) {\n",
              "        const element = document.querySelector('#df-7960228d-a028-4cef-9420-7f5a14c64a7b');\n",
              "        const dataTable =\n",
              "          await google.colab.kernel.invokeFunction('convertToInteractive',\n",
              "                                                    [key], {});\n",
              "        if (!dataTable) return;\n",
              "\n",
              "        const docLinkHtml = 'Like what you see? Visit the ' +\n",
              "          '<a target=\"_blank\" href=https://colab.research.google.com/notebooks/data_table.ipynb>data table notebook</a>'\n",
              "          + ' to learn more about interactive tables.';\n",
              "        element.innerHTML = '';\n",
              "        dataTable['output_type'] = 'display_data';\n",
              "        await google.colab.output.renderOutput(dataTable, element);\n",
              "        const docLink = document.createElement('div');\n",
              "        docLink.innerHTML = docLinkHtml;\n",
              "        element.appendChild(docLink);\n",
              "      }\n",
              "    </script>\n",
              "  </div>\n",
              "\n",
              "\n",
              "    <div id=\"df-9fb65d92-64d4-4a4a-9454-235cd465e845\">\n",
              "      <button class=\"colab-df-quickchart\" onclick=\"quickchart('df-9fb65d92-64d4-4a4a-9454-235cd465e845')\"\n",
              "                title=\"Suggest charts\"\n",
              "                style=\"display:none;\">\n",
              "\n",
              "<svg xmlns=\"http://www.w3.org/2000/svg\" height=\"24px\"viewBox=\"0 0 24 24\"\n",
              "     width=\"24px\">\n",
              "    <g>\n",
              "        <path d=\"M19 3H5c-1.1 0-2 .9-2 2v14c0 1.1.9 2 2 2h14c1.1 0 2-.9 2-2V5c0-1.1-.9-2-2-2zM9 17H7v-7h2v7zm4 0h-2V7h2v10zm4 0h-2v-4h2v4z\"/>\n",
              "    </g>\n",
              "</svg>\n",
              "      </button>\n",
              "\n",
              "<style>\n",
              "  .colab-df-quickchart {\n",
              "      --bg-color: #E8F0FE;\n",
              "      --fill-color: #1967D2;\n",
              "      --hover-bg-color: #E2EBFA;\n",
              "      --hover-fill-color: #174EA6;\n",
              "      --disabled-fill-color: #AAA;\n",
              "      --disabled-bg-color: #DDD;\n",
              "  }\n",
              "\n",
              "  [theme=dark] .colab-df-quickchart {\n",
              "      --bg-color: #3B4455;\n",
              "      --fill-color: #D2E3FC;\n",
              "      --hover-bg-color: #434B5C;\n",
              "      --hover-fill-color: #FFFFFF;\n",
              "      --disabled-bg-color: #3B4455;\n",
              "      --disabled-fill-color: #666;\n",
              "  }\n",
              "\n",
              "  .colab-df-quickchart {\n",
              "    background-color: var(--bg-color);\n",
              "    border: none;\n",
              "    border-radius: 50%;\n",
              "    cursor: pointer;\n",
              "    display: none;\n",
              "    fill: var(--fill-color);\n",
              "    height: 32px;\n",
              "    padding: 0;\n",
              "    width: 32px;\n",
              "  }\n",
              "\n",
              "  .colab-df-quickchart:hover {\n",
              "    background-color: var(--hover-bg-color);\n",
              "    box-shadow: 0 1px 2px rgba(60, 64, 67, 0.3), 0 1px 3px 1px rgba(60, 64, 67, 0.15);\n",
              "    fill: var(--button-hover-fill-color);\n",
              "  }\n",
              "\n",
              "  .colab-df-quickchart-complete:disabled,\n",
              "  .colab-df-quickchart-complete:disabled:hover {\n",
              "    background-color: var(--disabled-bg-color);\n",
              "    fill: var(--disabled-fill-color);\n",
              "    box-shadow: none;\n",
              "  }\n",
              "\n",
              "  .colab-df-spinner {\n",
              "    border: 2px solid var(--fill-color);\n",
              "    border-color: transparent;\n",
              "    border-bottom-color: var(--fill-color);\n",
              "    animation:\n",
              "      spin 1s steps(1) infinite;\n",
              "  }\n",
              "\n",
              "  @keyframes spin {\n",
              "    0% {\n",
              "      border-color: transparent;\n",
              "      border-bottom-color: var(--fill-color);\n",
              "      border-left-color: var(--fill-color);\n",
              "    }\n",
              "    20% {\n",
              "      border-color: transparent;\n",
              "      border-left-color: var(--fill-color);\n",
              "      border-top-color: var(--fill-color);\n",
              "    }\n",
              "    30% {\n",
              "      border-color: transparent;\n",
              "      border-left-color: var(--fill-color);\n",
              "      border-top-color: var(--fill-color);\n",
              "      border-right-color: var(--fill-color);\n",
              "    }\n",
              "    40% {\n",
              "      border-color: transparent;\n",
              "      border-right-color: var(--fill-color);\n",
              "      border-top-color: var(--fill-color);\n",
              "    }\n",
              "    60% {\n",
              "      border-color: transparent;\n",
              "      border-right-color: var(--fill-color);\n",
              "    }\n",
              "    80% {\n",
              "      border-color: transparent;\n",
              "      border-right-color: var(--fill-color);\n",
              "      border-bottom-color: var(--fill-color);\n",
              "    }\n",
              "    90% {\n",
              "      border-color: transparent;\n",
              "      border-bottom-color: var(--fill-color);\n",
              "    }\n",
              "  }\n",
              "</style>\n",
              "\n",
              "      <script>\n",
              "        async function quickchart(key) {\n",
              "          const quickchartButtonEl =\n",
              "            document.querySelector('#' + key + ' button');\n",
              "          quickchartButtonEl.disabled = true;  // To prevent multiple clicks.\n",
              "          quickchartButtonEl.classList.add('colab-df-spinner');\n",
              "          try {\n",
              "            const charts = await google.colab.kernel.invokeFunction(\n",
              "                'suggestCharts', [key], {});\n",
              "          } catch (error) {\n",
              "            console.error('Error during call to suggestCharts:', error);\n",
              "          }\n",
              "          quickchartButtonEl.classList.remove('colab-df-spinner');\n",
              "          quickchartButtonEl.classList.add('colab-df-quickchart-complete');\n",
              "        }\n",
              "        (() => {\n",
              "          let quickchartButtonEl =\n",
              "            document.querySelector('#df-9fb65d92-64d4-4a4a-9454-235cd465e845 button');\n",
              "          quickchartButtonEl.style.display =\n",
              "            google.colab.kernel.accessAllowed ? 'block' : 'none';\n",
              "        })();\n",
              "      </script>\n",
              "    </div>\n",
              "\n",
              "    </div>\n",
              "  </div>\n"
            ],
            "application/vnd.google.colaboratory.intrinsic+json": {
              "type": "dataframe",
              "variable_name": "Indiancities",
              "summary": "{\n  \"name\": \"Indiancities\",\n  \"rows\": 100,\n  \"fields\": [\n    {\n      \"column\": \"city\",\n      \"properties\": {\n        \"dtype\": \"string\",\n        \"num_unique_values\": 100,\n        \"samples\": [\n          \"Riga\",\n          \"P\\u0101tiram\",\n          \"Sondiha\"\n        ],\n        \"semantic_type\": \"\",\n        \"description\": \"\"\n      }\n    },\n    {\n      \"column\": \"city_ascii\",\n      \"properties\": {\n        \"dtype\": \"string\",\n        \"num_unique_values\": 100,\n        \"samples\": [\n          \"Riga\",\n          \"Patiram\",\n          \"Sondiha\"\n        ],\n        \"semantic_type\": \"\",\n        \"description\": \"\"\n      }\n    },\n    {\n      \"column\": \"lat\",\n      \"properties\": {\n        \"dtype\": \"number\",\n        \"std\": 7.131545070716486,\n        \"min\": 8.5614,\n        \"max\": 34.0588,\n        \"num_unique_values\": 100,\n        \"samples\": [\n          26.6553,\n          25.3167,\n          24.895\n        ],\n        \"semantic_type\": \"\",\n        \"description\": \"\"\n      }\n    },\n    {\n      \"column\": \"lng\",\n      \"properties\": {\n        \"dtype\": \"number\",\n        \"std\": 4.492947857743175,\n        \"min\": 69.2633,\n        \"max\": 88.75,\n        \"num_unique_values\": 100,\n        \"samples\": [\n          85.442,\n          88.75,\n          87.0175\n        ],\n        \"semantic_type\": \"\",\n        \"description\": \"\"\n      }\n    },\n    {\n      \"column\": \"country\",\n      \"properties\": {\n        \"dtype\": \"category\",\n        \"num_unique_values\": 1,\n        \"samples\": [\n          \"India\"\n        ],\n        \"semantic_type\": \"\",\n        \"description\": \"\"\n      }\n    },\n    {\n      \"column\": \"iso2\",\n      \"properties\": {\n        \"dtype\": \"category\",\n        \"num_unique_values\": 1,\n        \"samples\": [\n          \"IN\"\n        ],\n        \"semantic_type\": \"\",\n        \"description\": \"\"\n      }\n    },\n    {\n      \"column\": \"iso3\",\n      \"properties\": {\n        \"dtype\": \"category\",\n        \"num_unique_values\": 1,\n        \"samples\": [\n          \"IND\"\n        ],\n        \"semantic_type\": \"\",\n        \"description\": \"\"\n      }\n    },\n    {\n      \"column\": \"admin_name\",\n      \"properties\": {\n        \"dtype\": \"category\",\n        \"num_unique_values\": 17,\n        \"samples\": [\n          \"Hary\\u0101na\"\n        ],\n        \"semantic_type\": \"\",\n        \"description\": \"\"\n      }\n    },\n    {\n      \"column\": \"capital\",\n      \"properties\": {\n        \"dtype\": \"category\",\n        \"num_unique_values\": 1,\n        \"samples\": [\n          \"admin\"\n        ],\n        \"semantic_type\": \"\",\n        \"description\": \"\"\n      }\n    },\n    {\n      \"column\": \"population\",\n      \"properties\": {\n        \"dtype\": \"number\",\n        \"std\": 368328.4203390442,\n        \"min\": 8508.0,\n        \"max\": 3073350.0,\n        \"num_unique_values\": 99,\n        \"samples\": [\n          29205.0\n        ],\n        \"semantic_type\": \"\",\n        \"description\": \"\"\n      }\n    },\n    {\n      \"column\": \"id\",\n      \"properties\": {\n        \"dtype\": \"number\",\n        \"std\": 282746,\n        \"min\": 1356011237,\n        \"max\": 1356948865,\n        \"num_unique_values\": 100,\n        \"samples\": [\n          1356117708\n        ],\n        \"semantic_type\": \"\",\n        \"description\": \"\"\n      }\n    }\n  ]\n}"
            }
          },
          "metadata": {},
          "execution_count": 4
        }
      ],
      "source": [
        "#Get sample of 100 cities\n",
        "Indiancities = INDIAcities.sample(100) #to get a sample of 100 rows to work with\n",
        "print('Dimention Indiancities:', Indiancities.shape)  #dimention UScities dataset\n",
        "Indiancities.head() #fisrt rows from the new dataset"
      ]
    },
    {
      "cell_type": "markdown",
      "id": "35783cf2",
      "metadata": {
        "id": "35783cf2"
      },
      "source": [
        "# 4. Define the Distance between edges"
      ]
    },
    {
      "cell_type": "code",
      "execution_count": 5,
      "id": "77d48aba",
      "metadata": {
        "id": "77d48aba"
      },
      "outputs": [],
      "source": [
        "#To calculate the distances from node 𝑖 to 𝑗, we are going to use Euclidean distance, which is the straight-line distance between two points or nodes.\n",
        "def euclidean(a, b):\n",
        "    return math.sqrt(pow(a[1] - b[1], 2) + pow(a[0] - b[0], 2))"
      ]
    },
    {
      "cell_type": "markdown",
      "id": "9b1e5ecd",
      "metadata": {
        "id": "9b1e5ecd"
      },
      "source": [
        "# 5. Node, Edge initialization"
      ]
    },
    {
      "cell_type": "code",
      "execution_count": 6,
      "id": "1699b84f",
      "metadata": {
        "colab": {
          "base_uri": "https://localhost:8080/"
        },
        "id": "1699b84f",
        "outputId": "61477a1a-5097-40fd-8ab2-5e5f165ad3d3"
      },
      "outputs": [
        {
          "output_type": "stream",
          "name": "stdout",
          "text": [
            "[(29.8015, 76.3998), (22.647, 74.5212), (10.7903, 78.7047), (11.5197, 77.9398), (16.3583, 75.931), (11.3669, 76.6415), (26.068, 83.184), (13.39, 77.86), (26.6046, 85.9473), (25.5841, 84.1265), (26.3963, 86.3884), (11.9992, 75.764), (23.626, 78.5726), (14.6855, 77.578), (17.0055, 78.9054), (25.9356, 85.4671), (11.65, 78.15), (8.7599, 77.7399), (11.3409, 77.7171), (25.4862, 84.737), (10.2167, 76.3833), (24.27, 80.17), (12.2267, 79.6504), (19.18, 77.05), (10.9628, 75.9519), (26.116, 86.355), (14.0583, 78.7517), (26.5325, 86.1552), (9.4361, 76.8819), (34.0588, 74.7539), (10.93, 77.72), (30.91, 75.85), (11.0764, 77.0045), (24.88, 74.63), (25.8767, 87.8414), (25.7583, 84.1489), (22.6012, 74.2471), (11.0816, 76.9446), (8.6747, 77.6379), (14.9679, 74.0865), (25.9096, 87.4061), (25.4309, 83.6665), (23.2149, 81.532), (17.7668, 79.3751), (24.8893, 79.9118), (19.4333, 78.4667), (24.75, 85.01), (25.05, 87.84), (22.5713, 75.8823), (24.95, 84.03), (18.2282, 83.7926), (26.1497, 86.3626), (23.1691, 73.3266), (25.3167, 88.75), (9.1725, 77.3956), (31.1887, 75.9949), (25.2107, 84.2551), (16.14, 74.81), (28.6317, 77.3186), (18.7316, 79.9837), (30.62, 74.25), (26.9, 75.8), (10.7064, 77.4575), (23.93, 88.25), (26.2126, 87.2491), (22.5387, 75.9111), (10.23, 77.48), (18.8726, 78.3432), (15.9232, 80.5856), (10.583, 76.9344), (24.895, 87.0175), (9.5855, 78.4545), (25.669, 85.6461), (13.1007, 77.5963), (26.1748, 86.1705), (16.9167, 81.8333), (33.7938, 75.107), (12.6317, 79.2164), (13.1637, 76.6664), (13.6333, 78.8), (25.8831, 85.6859), (30.3331, 77.9608), (21.42, 71.17), (26.6553, 85.442), (10.193, 78.3973), (21.9, 87.53), (28.72, 79.32), (23.35, 69.2633), (8.5614, 77.1263), (12.1922, 76.6653), (29.749, 78.024), (25.3944, 87.1264), (26.1593, 84.4087), (12.968, 79.9473), (17.77, 77.14), (21.525, 83.8727), (16.35, 75.2833), (9.7167, 77.8667), (23.84, 73.72), (30.23, 74.9519)]\n"
          ]
        }
      ],
      "source": [
        "#Since the input is a list of nodes(x,y):\n",
        "x = Indiancities['lat']\n",
        "y = Indiancities['lng']\n",
        "DD = list(zip(x,y)) #Indiancities represented in decimal degrees\n",
        "print(DD)"
      ]
    },
    {
      "cell_type": "markdown",
      "id": "67d64cbd",
      "metadata": {
        "id": "67d64cbd"
      },
      "source": [
        "# Hyper Parameters\n",
        "Optional arguments:\n",
        "-a A, --alpha A relative importance placed on pheromones; default=1\n",
        "-b B, --beta B relative importance placed on distances; default=3\n",
        "-l L, --limit L number of iterations to perform; default=100\n",
        "-p P, --rho P ratio of evaporated pheromone (0 <= P <= 1); default=0.8\n",
        "-e E, --elite E ratio of elite ant's pheromone; default=0.5\n",
        "-q Q, --Q Q total pheromone capacity of each ant (Q > 0); default=1\n",
        "-t T, --t0 T initial amount of pheromone on every edge (T > 0); default=0.01\n",
        "-c N, --count N number of ants used in each iteration (N > 0); default=10\n",
        "Arguments are very important and they can affect the result. Usually, it is used as many number of ants (N) as nodes. Also, is better to use a higher value of beta(distance) than beta(pheromone)."
      ]
    },
    {
      "cell_type": "markdown",
      "id": "5debb455",
      "metadata": {
        "id": "5debb455"
      },
      "source": [
        "# 6 Create the World"
      ]
    },
    {
      "cell_type": "code",
      "execution_count": 7,
      "id": "3d4a6bdb",
      "metadata": {
        "id": "3d4a6bdb"
      },
      "outputs": [],
      "source": [
        "#Here we will use a number of ants less than number of nodes (N= 5).\n",
        "#Number of iterations L = 5 instead of 100.\n",
        "#Alpha and beta with the same relative importance (A, B = 1)\n",
        "\n",
        "world = pants.World(DD, euclidean, N = 5, L = 5 , A = 1, B = 1)"
      ]
    },
    {
      "cell_type": "markdown",
      "id": "7e7c7649",
      "metadata": {
        "id": "7e7c7649"
      },
      "source": [
        "# 7 The solver and the solution"
      ]
    },
    {
      "cell_type": "code",
      "execution_count": 9,
      "id": "2fc633b4",
      "metadata": {
        "colab": {
          "base_uri": "https://localhost:8080/"
        },
        "id": "2fc633b4",
        "outputId": "c760d938-8e9e-459c-a7d8-ae75ee066fdd"
      },
      "outputs": [
        {
          "output_type": "stream",
          "name": "stdout",
          "text": [
            "DISTANCE: 175.94436127133\n",
            "[(11.0764, 77.0045), (11.0816, 76.9446), (10.7064, 77.4575), (10.23, 77.48), (10.2167, 76.3833), (11.5197, 77.9398), (11.65, 78.15), (11.3409, 77.7171), (10.93, 77.72), (10.193, 78.3973), (9.5855, 78.4545), (9.7167, 77.8667), (8.5614, 77.1263), (8.7599, 77.7399), (8.6747, 77.6379), (9.4361, 76.8819), (9.1725, 77.3956), (10.583, 76.9344), (10.9628, 75.9519), (11.3669, 76.6415), (12.1922, 76.6653), (11.9992, 75.764), (12.968, 79.9473), (12.6317, 79.2164), (13.1637, 76.6664), (14.6855, 77.578), (13.6333, 78.8), (13.39, 77.86), (13.1007, 77.5963), (14.0583, 78.7517), (12.2267, 79.6504), (10.7903, 78.7047), (14.9679, 74.0865), (16.3583, 75.931), (16.35, 75.2833), (16.14, 74.81), (17.0055, 78.9054), (17.7668, 79.3751), (18.7316, 79.9837), (19.4333, 78.4667), (18.8726, 78.3432), (17.77, 77.14), (19.18, 77.05), (24.27, 80.17), (24.8893, 79.9118), (23.626, 78.5726), (28.6317, 77.3186), (29.8015, 76.3998), (30.3331, 77.9608), (29.749, 78.024), (28.72, 79.32), (23.2149, 81.532), (25.4309, 83.6665), (25.2107, 84.2551), (24.95, 84.03), (25.5841, 84.1265), (25.7583, 84.1489), (25.4862, 84.737), (25.9356, 85.4671), (25.8831, 85.6859), (25.669, 85.6461), (26.5325, 86.1552), (26.6046, 85.9473), (26.1748, 86.1705), (26.1497, 86.3626), (26.116, 86.355), (26.3963, 86.3884), (26.2126, 87.2491), (25.9096, 87.4061), (25.8767, 87.8414), (25.05, 87.84), (25.3944, 87.1264), (24.895, 87.0175), (24.75, 85.01), (26.068, 83.184), (26.1593, 84.4087), (26.6553, 85.442), (25.3167, 88.75), (23.93, 88.25), (21.9, 87.53), (21.525, 83.8727), (22.5387, 75.9111), (22.5713, 75.8823), (22.647, 74.5212), (22.6012, 74.2471), (23.1691, 73.3266), (23.84, 73.72), (24.88, 74.63), (26.9, 75.8), (30.91, 75.85), (31.1887, 75.9949), (30.23, 74.9519), (30.62, 74.25), (34.0588, 74.7539), (33.7938, 75.107), (23.35, 69.2633), (21.42, 71.17), (15.9232, 80.5856), (16.9167, 81.8333), (18.2282, 83.7926)]\n"
          ]
        }
      ],
      "source": [
        "solver = pants.Solver()\n",
        "solution = solver.solve(world)\n",
        "print('DISTANCE:', solution.distance) #total distance of the tour performed\n",
        "tour = solution.tour    #nodes visited in order\n",
        "print(tour)"
      ]
    },
    {
      "cell_type": "code",
      "execution_count": 10,
      "id": "db3d6abe",
      "metadata": {
        "colab": {
          "base_uri": "https://localhost:8080/"
        },
        "id": "db3d6abe",
        "outputId": "bff3a450-6b9e-43f1-b560-3430623ef10e"
      },
      "outputs": [
        {
          "output_type": "execute_result",
          "data": {
            "text/plain": [
              "['Srvanampatti',\n",
              " 'Tudiyalūr',\n",
              " 'Chinnakkāmpālaiyam',\n",
              " 'Kodaikānal',\n",
              " 'Karukurti',\n",
              " 'Vaikuntam',\n",
              " 'Salem',\n",
              " 'Erode',\n",
              " 'Vellakkovil',\n",
              " 'Chokkalingapuram',\n",
              " 'Pārtibanūr',\n",
              " 'Kallupatti',\n",
              " 'Mannara',\n",
              " 'Nāranammālpuram',\n",
              " 'Gopālasamudram',\n",
              " 'Kavallemmāvu',\n",
              " 'Puliyankudi',\n",
              " 'Anamalais',\n",
              " 'Ponmundam',\n",
              " 'Nanjanād',\n",
              " 'Devirammanahalli',\n",
              " 'Aralam',\n",
              " 'Srīperumbūdūr',\n",
              " 'Aliyābād',\n",
              " 'Turuvekere',\n",
              " 'Pāpampeta',\n",
              " 'Kalikiri',\n",
              " 'Sidlaghatta',\n",
              " 'Yelahanka',\n",
              " 'Rāyachoti',\n",
              " 'Tindivanam',\n",
              " 'Trichinopoly',\n",
              " 'Poninguinim',\n",
              " 'Nidgundi',\n",
              " 'Mudhol',\n",
              " 'Nagnur',\n",
              " 'Indūrti',\n",
              " 'Ippagūdem',\n",
              " 'Mahādeopur',\n",
              " 'Ichora',\n",
              " 'Bālkonda',\n",
              " 'Ghāt Borūl',\n",
              " 'Pūrna',\n",
              " 'Panna',\n",
              " 'Rājnagar',\n",
              " 'Jaisinghnagar',\n",
              " 'Garhi',\n",
              " 'Kaithal',\n",
              " 'Saundhonwāli',\n",
              " 'Laksar',\n",
              " 'Shīshgarh',\n",
              " 'Burhar',\n",
              " 'Dildārnagar',\n",
              " 'Bikramganj',\n",
              " 'Sasarām',\n",
              " 'Bhojpur Kadīm',\n",
              " 'Bairia',\n",
              " 'Jalpura',\n",
              " 'Gaurihar Khāliqnagar',\n",
              " 'Shāhpur Baghauni',\n",
              " 'Darwa',\n",
              " 'Korahia',\n",
              " 'Sothgaon',\n",
              " 'Baghānt',\n",
              " 'Bānki',\n",
              " 'Bhit Bhagwānpur',\n",
              " 'Madna',\n",
              " 'Rāmpur',\n",
              " 'Jogaili',\n",
              " 'Dālkola',\n",
              " 'Rājmahal',\n",
              " 'Bhawānīpur',\n",
              " 'Sondiha',\n",
              " 'Gaya',\n",
              " 'Purwa Utar',\n",
              " 'Pachrukhi',\n",
              " 'Riga',\n",
              " 'Pātiram',\n",
              " 'Beldānga',\n",
              " 'Egra',\n",
              " 'Hīrākud',\n",
              " 'Simrol',\n",
              " 'Datoda',\n",
              " 'Rānāpur',\n",
              " 'Barjhar',\n",
              " 'Sathamba',\n",
              " 'Dūngarpur',\n",
              " 'Chittaurgarh',\n",
              " 'Jaipur',\n",
              " 'Ludhiāna',\n",
              " 'Banga',\n",
              " 'Bhatinda',\n",
              " 'Jalālābād',\n",
              " 'Bimun',\n",
              " 'Bijbiāra',\n",
              " 'Nakhtarāna',\n",
              " 'Chalāla',\n",
              " 'Ganapavaram',\n",
              " 'Kadiyam',\n",
              " 'Murapāka']"
            ]
          },
          "metadata": {},
          "execution_count": 10
        }
      ],
      "source": [
        "#To get the names of the cities visited from the nodes values:\n",
        "Indiancities.set_index(['lat','lng'])['city'].loc[tour].tolist()"
      ]
    },
    {
      "cell_type": "markdown",
      "id": "3c093026",
      "metadata": {
        "id": "3c093026"
      },
      "source": [
        "# Run with different set of parameters"
      ]
    },
    {
      "cell_type": "code",
      "execution_count": 11,
      "id": "e080464b",
      "metadata": {
        "colab": {
          "base_uri": "https://localhost:8080/"
        },
        "id": "e080464b",
        "outputId": "f7be2d72-2f9a-4d11-94c1-09b28c81b903"
      },
      "outputs": [
        {
          "output_type": "stream",
          "name": "stdout",
          "text": [
            "DISTANCE: 169.0912073216711\n",
            "[(9.7167, 77.8667), (10.23, 77.48), (10.93, 77.72), (11.3409, 77.7171), (11.5197, 77.9398), (11.65, 78.15), (10.7064, 77.4575), (8.7599, 77.7399), (8.6747, 77.6379), (9.4361, 76.8819), (10.2167, 76.3833), (10.583, 76.9344), (11.0764, 77.0045), (11.0816, 76.9446), (10.9628, 75.9519), (11.3669, 76.6415), (12.1922, 76.6653), (11.9992, 75.764), (13.1637, 76.6664), (14.6855, 77.578), (13.1007, 77.5963), (13.39, 77.86), (12.968, 79.9473), (12.6317, 79.2164), (12.2267, 79.6504), (10.7903, 78.7047), (10.193, 78.3973), (9.5855, 78.4545), (8.5614, 77.1263), (9.1725, 77.3956), (13.6333, 78.8), (14.0583, 78.7517), (14.9679, 74.0865), (16.35, 75.2833), (16.14, 74.81), (16.3583, 75.931), (17.77, 77.14), (18.8726, 78.3432), (17.7668, 79.3751), (17.0055, 78.9054), (19.4333, 78.4667), (19.18, 77.05), (23.1691, 73.3266), (23.84, 73.72), (26.9, 75.8), (29.749, 78.024), (30.3331, 77.9608), (31.1887, 75.9949), (30.91, 75.85), (30.23, 74.9519), (30.62, 74.25), (34.0588, 74.7539), (33.7938, 75.107), (29.8015, 76.3998), (28.6317, 77.3186), (28.72, 79.32), (24.27, 80.17), (24.8893, 79.9118), (23.626, 78.5726), (22.5713, 75.8823), (22.5387, 75.9111), (22.6012, 74.2471), (22.647, 74.5212), (23.35, 69.2633), (21.42, 71.17), (24.88, 74.63), (26.068, 83.184), (26.1593, 84.4087), (25.4309, 83.6665), (25.7583, 84.1489), (25.5841, 84.1265), (25.2107, 84.2551), (24.95, 84.03), (25.4862, 84.737), (24.75, 85.01), (25.9356, 85.4671), (25.8831, 85.6859), (25.669, 85.6461), (26.116, 86.355), (26.1497, 86.3626), (26.1748, 86.1705), (26.5325, 86.1552), (26.6046, 85.9473), (26.3963, 86.3884), (25.9096, 87.4061), (26.2126, 87.2491), (25.3944, 87.1264), (24.895, 87.0175), (25.8767, 87.8414), (26.6553, 85.442), (25.05, 87.84), (25.3167, 88.75), (23.93, 88.25), (21.9, 87.53), (21.525, 83.8727), (18.2282, 83.7926), (16.9167, 81.8333), (15.9232, 80.5856), (18.7316, 79.9837), (23.2149, 81.532)]\n"
          ]
        }
      ],
      "source": [
        "#Here we will use a number of ants bigger than the number of nodes (N= 100).\n",
        "#Number of iterations L = 150.\n",
        "#Alpha and beta with the different relative importance, distance (beta) will be more importat. (A = 2, B = 3)\n",
        "\n",
        "world = pants.World(DD, euclidean, N = 150, L = 150 , A = 2, B = 3)\n",
        "solver = pants.Solver()\n",
        "solution = solver.solve(world)\n",
        "print('DISTANCE:', solution.distance) #total distance of the tour performed\n",
        "tour1 = solution.tour    #nodes visited in order\n",
        "print(tour1)"
      ]
    },
    {
      "cell_type": "code",
      "execution_count": null,
      "id": "d73115d3",
      "metadata": {
        "id": "d73115d3",
        "outputId": "b81574c2-b039-44c3-c438-9fa0f8999a63"
      },
      "outputs": [
        {
          "data": {
            "text/plain": [
              "['Pāra',\n",
              " 'Pānuria',\n",
              " 'Tūlin',\n",
              " 'Jhalidā',\n",
              " 'Srikhanda',\n",
              " 'Dubrājpur',\n",
              " 'Raipur',\n",
              " 'Jhikra',\n",
              " 'Amgachia',\n",
              " 'Jagdispur',\n",
              " 'Multi',\n",
              " 'Jaynagar-Majilpur',\n",
              " 'Pātra',\n",
              " 'Amtala',\n",
              " 'Bhagirathpur',\n",
              " 'Jājigrām',\n",
              " 'Kāthia',\n",
              " 'Mehegrām',\n",
              " 'Rudra Nagar',\n",
              " 'Baswa',\n",
              " 'Barddhamān',\n",
              " 'Khandaghosh',\n",
              " 'Galsi',\n",
              " 'Gopālpur',\n",
              " 'Bagela',\n",
              " 'Rānīganj',\n",
              " 'Baidyabāti',\n",
              " 'Singur',\n",
              " 'Mashāt',\n",
              " 'Kamargani',\n",
              " 'Khulna',\n",
              " 'Brahmapur',\n",
              " 'Meliyāputtu',\n",
              " 'Narsīpatnam',\n",
              " 'Prattipādu',\n",
              " 'Peddāpuram',\n",
              " 'Panasapādu',\n",
              " 'Nātavaram',\n",
              " 'Ponnūru',\n",
              " 'Karlapālem',\n",
              " 'Chiluvūru',\n",
              " 'Kolakalūru',\n",
              " 'Bezwāda',\n",
              " 'Chandragūdem',\n",
              " 'Vissannapeta',\n",
              " 'Channubanda',\n",
              " 'Kallūr',\n",
              " 'Anigandlapādu',\n",
              " 'Chiwemla',\n",
              " 'Gajwel',\n",
              " 'Vemalwāda',\n",
              " 'Timmāpuram',\n",
              " 'Nāspur',\n",
              " 'Warangal',\n",
              " 'Cherukūru',\n",
              " 'Pittalavānipālem',\n",
              " 'Tadikalapūdi',\n",
              " 'Kalavalapalle',\n",
              " 'Matsyapuri',\n",
              " 'Bhīmavaram',\n",
              " 'Undi',\n",
              " 'Bandamūrlanka',\n",
              " 'Muppālla',\n",
              " 'Kottapālem',\n",
              " 'Udayagiri',\n",
              " 'Rāmasamudram',\n",
              " 'Gavunipalli',\n",
              " 'Somapalle',\n",
              " 'Mulakalacheruvu',\n",
              " 'Kosuvāripalle',\n",
              " 'Lepākshi',\n",
              " 'Madakasīra',\n",
              " 'Pulivendla',\n",
              " 'Lakkireddipalle',\n",
              " 'Penumūr',\n",
              " 'Vidavalūru',\n",
              " 'Mūlaguntapādu',\n",
              " 'Kotūr',\n",
              " 'Lingāl',\n",
              " 'Devarkadra',\n",
              " 'Bāgalvād',\n",
              " 'Kyādgeri',\n",
              " 'Panaji',\n",
              " 'Morgim',\n",
              " 'Kālkuni',\n",
              " 'Shrīrangapattana',\n",
              " 'Sante Kasalgere',\n",
              " 'Salem',\n",
              " 'Tanjore',\n",
              " 'Tuticorin',\n",
              " 'Khed',\n",
              " 'Dhūlia',\n",
              " 'Gurgaon',\n",
              " 'Hanumāngarh',\n",
              " 'Sandhwān',\n",
              " 'Ludhiāna',\n",
              " 'Bandipura',\n",
              " 'Gondiā',\n",
              " 'Jatani',\n",
              " 'Kumārgrām']"
            ]
          },
          "execution_count": 12,
          "metadata": {},
          "output_type": "execute_result"
        }
      ],
      "source": [
        "Indiancities.set_index(['lat','lng'])['city'].loc[tour1].tolist()"
      ]
    }
  ],
  "metadata": {
    "kernelspec": {
      "display_name": "Python 3",
      "language": "python",
      "name": "python3"
    },
    "language_info": {
      "codemirror_mode": {
        "name": "ipython",
        "version": 3
      },
      "file_extension": ".py",
      "mimetype": "text/x-python",
      "name": "python",
      "nbconvert_exporter": "python",
      "pygments_lexer": "ipython3",
      "version": "3.8.8"
    },
    "colab": {
      "provenance": []
    }
  },
  "nbformat": 4,
  "nbformat_minor": 5
}