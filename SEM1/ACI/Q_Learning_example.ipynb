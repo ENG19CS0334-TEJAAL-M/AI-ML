{
  "nbformat": 4,
  "nbformat_minor": 0,
  "metadata": {
    "colab": {
      "provenance": []
    },
    "kernelspec": {
      "name": "python3",
      "display_name": "Python 3"
    }
  },
  "cells": [
    {
      "metadata": {
        "id": "gxxpHDIs_lvg",
        "colab": {
          "base_uri": "https://localhost:8080/"
        },
        "outputId": "6abf292d-4a81-423b-a40b-36a118f1523a"
      },
      "cell_type": "code",
      "source": [
        "!pip install numpy #to install Python libraries using pip\n",
        "!pip install gym #Library for RL"
      ],
      "execution_count": null,
      "outputs": [
        {
          "output_type": "stream",
          "name": "stdout",
          "text": [
            "Requirement already satisfied: numpy in /usr/local/lib/python3.10/dist-packages (1.26.4)\n",
            "Requirement already satisfied: gym in /usr/local/lib/python3.10/dist-packages (0.25.2)\n",
            "Requirement already satisfied: numpy>=1.18.0 in /usr/local/lib/python3.10/dist-packages (from gym) (1.26.4)\n",
            "Requirement already satisfied: cloudpickle>=1.2.0 in /usr/local/lib/python3.10/dist-packages (from gym) (2.2.1)\n",
            "Requirement already satisfied: gym-notices>=0.0.4 in /usr/local/lib/python3.10/dist-packages (from gym) (0.0.8)\n"
          ]
        }
      ]
    },
    {
      "metadata": {
        "id": "oU8zRXv8QHlm"
      },
      "cell_type": "code",
      "source": [
        "import numpy as np #data handling\n",
        "import gym   #simulated environments\n",
        "import random #randomness in the learning process\n"
      ],
      "execution_count": null,
      "outputs": []
    },
    {
      "metadata": {
        "id": "mh9jBR_cQ5_a"
      },
      "cell_type": "code",
      "source": [
        "env = gym.make(\"FrozenLake-v1\")"
      ],
      "execution_count": null,
      "outputs": []
    },
    {
      "metadata": {
        "id": "Uc0xDVd_Q-C8"
      },
      "cell_type": "code",
      "source": [
        "action_size = env.action_space.n   #left, right, up, down in FrozenLake\n",
        "state_size = env.observation_space.n  #16 grid positions"
      ],
      "execution_count": null,
      "outputs": []
    },
    {
      "metadata": {
        "id": "17XBPCecAsZG",
        "colab": {
          "base_uri": "https://localhost:8080/"
        },
        "outputId": "983cc5ee-70d2-47aa-be9e-3c62cebe6248"
      },
      "cell_type": "code",
      "source": [
        "# Create our Q table with state_size rows and action_size columns (64x4)\n",
        "qtable = np.zeros((state_size, action_size))\n",
        "print(qtable)"
      ],
      "execution_count": null,
      "outputs": [
        {
          "output_type": "stream",
          "name": "stdout",
          "text": [
            "[[0. 0. 0. 0.]\n",
            " [0. 0. 0. 0.]\n",
            " [0. 0. 0. 0.]\n",
            " [0. 0. 0. 0.]\n",
            " [0. 0. 0. 0.]\n",
            " [0. 0. 0. 0.]\n",
            " [0. 0. 0. 0.]\n",
            " [0. 0. 0. 0.]\n",
            " [0. 0. 0. 0.]\n",
            " [0. 0. 0. 0.]\n",
            " [0. 0. 0. 0.]\n",
            " [0. 0. 0. 0.]\n",
            " [0. 0. 0. 0.]\n",
            " [0. 0. 0. 0.]\n",
            " [0. 0. 0. 0.]\n",
            " [0. 0. 0. 0.]]\n"
          ]
        }
      ]
    },
    {
      "metadata": {
        "id": "WEGeWKKsAu7X"
      },
      "cell_type": "markdown",
      "source": [
        "## Step 3: Create the hyperparameters ⚙️\n",
        "- Here, we'll specify the hyperparameters"
      ]
    },
    {
      "metadata": {
        "id": "FJhPxx7UAunE"
      },
      "cell_type": "code",
      "source": [
        "total_episodes =50000        # Total episodes-times the Q-learning algorithm will run\n",
        "learning_rate = 0.01         # Learning rate-how much the Q-values are updated-aggressive or conservative\n",
        "max_steps = 99               # Max steps per episode\n",
        "gamma = 0.75                 # Discounting rate-weight to future or immediate rewards\n",
        "\n",
        "# Exploration parameters\n",
        "epsilon = 0.5                 # Exploration rate - probability of choosing a random action\n",
        "max_epsilon = 1.0             # Exploration probability at start\n",
        "min_epsilon = 0.01            # Minimum exploration probability\n",
        "decay_rate = 0.005            # Exponential decay rate for exploration prob -rate at which epsilon decreases over time"
      ],
      "execution_count": null,
      "outputs": []
    },
    {
      "metadata": {
        "id": "rcdaN_DbA3ES"
      },
      "cell_type": "markdown",
      "source": [
        "## The Q learning algorithm\n",
        "- Now we implement the Q learning algorithm:\n",
        "  ![alt text](http://simoninithomas.com/drlc/Qlearning//qtable_algo.png)\n"
      ]
    },
    {
      "metadata": {
        "id": "5Dqqo_8LA5De",
        "colab": {
          "base_uri": "https://localhost:8080/"
        },
        "outputId": "b5d56493-0ab2-4ca6-a530-bcc119bff68d"
      },
      "cell_type": "code",
      "source": [
        "# List of rewards\n",
        "rewards = []\n",
        "\n",
        "# 2 For life or until learning is stopped\n",
        "for episode in range(total_episodes):\n",
        "    # Reset the environment\n",
        "    state = env.reset()\n",
        "    step = 0\n",
        "    done = False  #a flag to indicate whether the episode has ended\n",
        "    total_rewards = 0\n",
        "\n",
        "    for step in range(max_steps):\n",
        "        # 3. Choose an action a in the current world state (s)\n",
        "        ## First we randomize a number\n",
        "        exp_exp_tradeoff = random.uniform(0, 1)\n",
        "        #exploit its knowledge or explore the environment\n",
        "\n",
        "        ## If this number > greater than epsilon --> exploitation (taking the biggest Q value for this state)\n",
        "        # Controls the balance between exploration and exploitation.\n",
        "        #  Initially, the agent will explore more, and as training progresses, the agent will exploit more.\n",
        "        if exp_exp_tradeoff > epsilon:\n",
        "            action = np.argmax(qtable[state,:])\n",
        "            #print(exp_exp_tradeoff, \"action\", action)\n",
        "\n",
        "        # Else doing a random choice --> exploration\n",
        "        else:\n",
        "            action = env.action_space.sample()\n",
        "            #print(\"action random\", action)\n",
        "\n",
        "\n",
        "        # Take the action (a) and observe the outcome state(s') and reward (r)\n",
        "        new_state, reward, done, info = env.step(action)\n",
        "\n",
        "        # Update Q(s,a):= Q(s,a) + lr [R(s,a) + gamma * max Q(s',a') - Q(s,a)]\n",
        "        # Bellman equation\n",
        "        # qtable[new_state,:] : all the actions we can take from new state\n",
        "        qtable[state, action] = qtable[state, action] + learning_rate * (reward + gamma * np.max(qtable[new_state, :]) - qtable[state, action])\n",
        "\n",
        "        total_rewards += reward\n",
        "\n",
        "        # Our new state is state\n",
        "        state = new_state\n",
        "\n",
        "        # If done (if we're dead) : finish episode\n",
        "        if done == True:\n",
        "            break\n",
        "\n",
        "    # Reduce epsilon (because we need less and less exploration)\n",
        "    epsilon = min_epsilon + (max_epsilon - min_epsilon)*np.exp(-decay_rate*episode)\n",
        "    rewards.append(total_rewards)\n",
        "\n",
        "\n",
        "print (\"Score over time: \" +  str(sum(rewards)/total_episodes))\n",
        "print(qtable)"
      ],
      "execution_count": null,
      "outputs": [
        {
          "output_type": "stream",
          "name": "stdout",
          "text": [
            "Score over time: 0.09856\n",
            "[[4.57797095e-03 4.71229766e-03 7.48922452e-03 4.26622151e-03]\n",
            " [2.45649282e-03 4.95119282e-03 5.16387234e-03 7.60114965e-03]\n",
            " [1.66712484e-02 8.77224279e-03 1.21198608e-02 5.18661952e-03]\n",
            " [4.16467568e-09 4.43253726e-03 3.26996627e-05 6.55113317e-10]\n",
            " [1.60842746e-02 6.03465195e-03 5.23970669e-03 3.04876369e-03]\n",
            " [0.00000000e+00 0.00000000e+00 0.00000000e+00 0.00000000e+00]\n",
            " [4.34246920e-02 1.38050682e-02 1.61952162e-02 1.04476941e-03]\n",
            " [0.00000000e+00 0.00000000e+00 0.00000000e+00 0.00000000e+00]\n",
            " [4.85797172e-03 1.37071439e-02 1.33247590e-02 4.17280915e-02]\n",
            " [4.00337652e-02 9.64595267e-02 3.34091534e-02 2.19175448e-02]\n",
            " [1.34481382e-01 4.65661464e-02 3.90764012e-02 5.70081076e-03]\n",
            " [0.00000000e+00 0.00000000e+00 0.00000000e+00 0.00000000e+00]\n",
            " [0.00000000e+00 0.00000000e+00 0.00000000e+00 0.00000000e+00]\n",
            " [1.41237264e-02 5.74208686e-02 1.82312129e-01 5.57876103e-02]\n",
            " [6.38003997e-02 1.60024578e-01 4.67541514e-01 1.30569167e-01]\n",
            " [0.00000000e+00 0.00000000e+00 0.00000000e+00 0.00000000e+00]]\n"
          ]
        }
      ]
    },
    {
      "metadata": {
        "id": "R5czk9qTBQIU"
      },
      "cell_type": "markdown",
      "source": [
        "## Use our Q-table to play FrozenLake\n",
        "- After 10 000 episodes, our Q-table can be used as a \"cheatsheet\" to play FrozenLake\"\n",
        "- By running this cell you can see our agent playing FrozenLake."
      ]
    },
    {
      "cell_type": "code",
      "source": [],
      "metadata": {
        "id": "D5P4rQSZFJi9"
      },
      "execution_count": null,
      "outputs": []
    },
    {
      "cell_type": "code",
      "source": [
        "!pip install pygame"
      ],
      "metadata": {
        "id": "tPgT-G7pYbAI",
        "colab": {
          "base_uri": "https://localhost:8080/"
        },
        "outputId": "c0ebba65-3217-41d2-8272-a53a6d2a0c02"
      },
      "execution_count": null,
      "outputs": [
        {
          "output_type": "stream",
          "name": "stdout",
          "text": [
            "Requirement already satisfied: pygame in /usr/local/lib/python3.10/dist-packages (2.6.0)\n"
          ]
        }
      ]
    },
    {
      "cell_type": "code",
      "source": [
        "import pygame"
      ],
      "metadata": {
        "id": "m1oGfAreYe7R"
      },
      "execution_count": null,
      "outputs": []
    },
    {
      "metadata": {
        "id": "Bt8UsREaBNkJ",
        "colab": {
          "base_uri": "https://localhost:8080/"
        },
        "outputId": "874a9d4b-f906-4d77-9053-a60eba4b3cdb"
      },
      "cell_type": "code",
      "source": [
        "env.reset()\n",
        "\n",
        "for episode in range(5):\n",
        "    state = env.reset()\n",
        "    step = 0\n",
        "    done = False\n",
        "    print(\"****************************************************\")\n",
        "    print(\"EPISODE \", episode)\n",
        "\n",
        "    for step in range(max_steps):\n",
        "\n",
        "        # Take the action (index) that have the maximum expected future reward given that state\n",
        "        action = np.argmax(qtable[state,:])\n",
        "\n",
        "        new_state, reward, done, info = env.step(action)\n",
        "\n",
        "        if done:\n",
        "            # Here, we decide to only print the last state (to see if our agent is on the goal or fall into an hole)\n",
        "            #env.render()\n",
        "            if new_state == 15:\n",
        "                print(\"We reached our Goal 🏆\")\n",
        "            else:\n",
        "                print(\"We fell into a hole ☠️\")\n",
        "\n",
        "            # We print the number of step it took.\n",
        "            print(\"Number of steps\", step)\n",
        "\n",
        "            break\n",
        "        state = new_state\n",
        "env.close()"
      ],
      "execution_count": null,
      "outputs": [
        {
          "output_type": "stream",
          "name": "stdout",
          "text": [
            "****************************************************\n",
            "EPISODE  0\n",
            "We reached our Goal 🏆\n",
            "Number of steps 9\n",
            "****************************************************\n",
            "EPISODE  1\n",
            "We reached our Goal 🏆\n",
            "Number of steps 30\n",
            "****************************************************\n",
            "EPISODE  2\n",
            "We fell into a hole ☠️\n",
            "Number of steps 10\n",
            "****************************************************\n",
            "EPISODE  3\n",
            "We fell into a hole ☠️\n",
            "Number of steps 71\n",
            "****************************************************\n",
            "EPISODE  4\n",
            "We reached our Goal 🏆\n",
            "Number of steps 16\n"
          ]
        }
      ]
    }
  ]
}