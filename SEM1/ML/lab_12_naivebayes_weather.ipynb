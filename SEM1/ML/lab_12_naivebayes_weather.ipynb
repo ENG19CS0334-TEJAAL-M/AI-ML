{
  "cells": [
    {
      "cell_type": "markdown",
      "metadata": {
        "id": "view-in-github",
        "colab_type": "text"
      },
      "source": [
        "<a href=\"https://colab.research.google.com/github/ENG19CS0334-TEJAAL-M/AI-ML/blob/main/SEM1/ML/lab_12_naivebayes_weather.ipynb\" target=\"_parent\"><img src=\"https://colab.research.google.com/assets/colab-badge.svg\" alt=\"Open In Colab\"/></a>"
      ]
    },
    {
      "cell_type": "markdown",
      "metadata": {
        "id": "x6NASzOxzOYa"
      },
      "source": [
        "# Naive Bayes classifiers on Weather dataset"
      ]
    },
    {
      "cell_type": "markdown",
      "metadata": {
        "id": "r4BY541ozOYc"
      },
      "source": [
        "Naive Bayes classification is a probabilistic approach for classification. It is based on Bayes Theorem. Naive Bayes classification uses any of the probability distributions, Gaussian distribution, Multinomial Distribution, Bernoulli distribution.\n"
      ]
    },
    {
      "cell_type": "markdown",
      "metadata": {
        "id": "a1H8dYGXzOYc"
      },
      "source": [
        "## 1. Import the libraries"
      ]
    },
    {
      "cell_type": "code",
      "execution_count": 1,
      "metadata": {
        "id": "3wZ8xMMrzOYd"
      },
      "outputs": [],
      "source": [
        "import numpy as np\n",
        "import pandas as pd\n",
        "import matplotlib.pyplot as plt"
      ]
    },
    {
      "cell_type": "markdown",
      "metadata": {
        "id": "2G7ej0o7zOYd"
      },
      "source": [
        "## 2. Prepare the Dataset\n",
        "\n",
        "The dataset is based on the following."
      ]
    },
    {
      "cell_type": "code",
      "execution_count": 3,
      "metadata": {
        "id": "s5uSIbVGzOYe"
      },
      "outputs": [],
      "source": [
        "# Convert the above data into Python lists. The ordering in the above data is followed.\n",
        "\n",
        "Outlook = ['sunny' ,'sunny', 'overcast', 'rainy', 'rainy', 'rainy', 'overcast',\n",
        "           'sunny', 'sunny', 'rainy', 'sunny', 'overcast', 'overcast', 'rainy']\n",
        "\n",
        "Temp = ['hot', 'hot', 'hot', 'mild', 'cool', 'cool', 'cool', 'mild', 'cool',\n",
        "       'mild','mild','mild','hot','mild']\n",
        "\n",
        "Humidity = ['high', 'high', 'high', 'high', 'normal', 'normal', 'normal', 'high',\n",
        "           'normal','normal','normal' , 'high', 'normal', 'high']\n",
        "\n",
        "Windy = ['false' ,'true' ,'false' ,'false' ,'false' ,'true' ,'true' ,'false' ,\n",
        "         'false' ,'false' ,'true' ,'true' ,'false' ,'true' ]\n",
        "\n",
        "Play = ['no','no','yes','yes','yes','no','yes','no',\n",
        "        'yes','yes','yes','yes','yes','no']\n"
      ]
    },
    {
      "cell_type": "code",
      "execution_count": 4,
      "metadata": {
        "colab": {
          "base_uri": "https://localhost:8080/"
        },
        "id": "_cnLXi0_zOYe",
        "outputId": "8f808f5d-75da-4edc-e4b4-d810ebc2055d"
      },
      "outputs": [
        {
          "output_type": "stream",
          "name": "stdout",
          "text": [
            "    Outlook  Temp Humidity  Windy Play\n",
            "0     sunny   hot     high  false   no\n",
            "1     sunny   hot     high   true   no\n",
            "2  overcast   hot     high  false  yes\n",
            "3     rainy  mild     high  false  yes\n",
            "4     rainy  cool   normal  false  yes\n"
          ]
        }
      ],
      "source": [
        "# create a dataframe from the above lists.\n",
        "\n",
        "weatherdata = pd.DataFrame(\n",
        "    {'Outlook': Outlook,\n",
        "     'Temp': Temp,\n",
        "     'Humidity': Humidity,\n",
        "     'Windy': Windy,\n",
        "     'Play': Play\n",
        "    })\n",
        "print(weatherdata.head())"
      ]
    },
    {
      "cell_type": "code",
      "execution_count": 5,
      "metadata": {
        "colab": {
          "base_uri": "https://localhost:8080/"
        },
        "id": "stgyPZ7rzOYe",
        "outputId": "99276d21-89ef-4a7f-c80e-b17a1231a1ac"
      },
      "outputs": [
        {
          "output_type": "stream",
          "name": "stdout",
          "text": [
            "   outlook  temp  humidity  windy\n",
            "0        2     1         0      0\n",
            "1        2     1         0      1\n",
            "2        0     1         0      0\n",
            "3        1     2         0      0\n",
            "4        1     0         1      0\n",
            "Play =  [0 0 1 1 1 0 1 0 1 1 1 1 1 0]\n"
          ]
        }
      ],
      "source": [
        "# Encode the list as 0,1,2,...\n",
        "\n",
        "from sklearn import preprocessing\n",
        "\n",
        "le = preprocessing.LabelEncoder()\n",
        "\n",
        "# apply the label encoder for each list\n",
        "outlook = le.fit_transform(Outlook)      # 2,2,0,1,1\n",
        "temp = le.fit_transform(Temp)            # 1,1,1,2,0\n",
        "humidity = le.fit_transform(Humidity)    # 0,0,0,0,1\n",
        "windy = le.fit_transform(Windy)          # 0,1,0,0,0\n",
        "play = le.fit_transform(Play)            # 0,0,1,1,1\n",
        "\n",
        "\n",
        "# create a dataframe from the encoded lists.\n",
        "weatherFeatures = pd.DataFrame(\n",
        "    {'outlook': outlook,\n",
        "     'temp': temp,\n",
        "     'humidity': humidity,\n",
        "     'windy': windy,\n",
        "    })\n",
        "print(weatherFeatures.head())\n",
        "\n",
        "print('Play = ', play)"
      ]
    },
    {
      "cell_type": "markdown",
      "metadata": {
        "id": "6QMdg7qkzOYf"
      },
      "source": [
        "## Visualize the dataset"
      ]
    },
    {
      "cell_type": "code",
      "execution_count": 6,
      "metadata": {
        "id": "J-fW4xJczOYf"
      },
      "outputs": [],
      "source": [
        "data2d = weatherFeatures.loc[:,['outlook','windy']]"
      ]
    },
    {
      "cell_type": "code",
      "execution_count": 7,
      "metadata": {
        "colab": {
          "base_uri": "https://localhost:8080/",
          "height": 472
        },
        "id": "P4k9Hw_szOYf",
        "outputId": "e3123b3e-e852-433a-8c4f-3e688cc4993f"
      },
      "outputs": [
        {
          "output_type": "display_data",
          "data": {
            "text/plain": [
              "<Figure size 640x480 with 1 Axes>"
            ],
            "image/png": "[encoded data removed]"
          },
          "metadata": {}
        }
      ],
      "source": [
        "pos = data2d.loc[play == 1]\n",
        "neg = data2d.loc[play == 0]\n",
        "\n",
        "plt.scatter(pos.iloc[:, 0], pos.iloc[:, 1], label='Play')\n",
        "plt.scatter(neg.iloc[:, 0], neg.iloc[:, 1],  label='Not play')\n",
        "\n",
        "plt.xlabel('Outlook')\n",
        "plt.ylabel('Windy')\n",
        "plt.title('Weather data')\n",
        "plt.legend()\n",
        "plt.show()\n",
        "\n"
      ]
    },
    {
      "cell_type": "markdown",
      "metadata": {
        "id": "pP4y1hMdzOYf"
      },
      "source": [
        "## 3. Build the classifier  \n",
        "## 4. Make predictions for new Data"
      ]
    },
    {
      "cell_type": "code",
      "execution_count": 8,
      "metadata": {
        "colab": {
          "base_uri": "https://localhost:8080/"
        },
        "id": "nIum0PiezOYf",
        "outputId": "81369ca4-25cf-4c6b-a3f4-0fec1890a910"
      },
      "outputs": [
        {
          "output_type": "stream",
          "name": "stdout",
          "text": [
            "Predicted Value for training data: [0 0 1 1 1 1 1 0 1 1 1 1 1 0]\n",
            "Predicted Value for new data: [1]\n"
          ]
        },
        {
          "output_type": "stream",
          "name": "stderr",
          "text": [
            "/usr/local/lib/python3.12/dist-packages/sklearn/utils/validation.py:2739: UserWarning: X does not have valid feature names, but GaussianNB was fitted with feature names\n",
            "  warnings.warn(\n"
          ]
        }
      ],
      "source": [
        "from sklearn.naive_bayes import GaussianNB\n",
        "\n",
        "# create an object of the GaussianNB classifier\n",
        "gnb_classifier = GaussianNB()\n",
        "\n",
        "# train the classifier\n",
        "gnb_classifier.fit(weatherFeatures, play)\n",
        "\n",
        "\n",
        "# predict for training data\n",
        "predicted= gnb_classifier.predict(weatherFeatures)\n",
        "print(\"Predicted Value for training data:\", predicted)\n",
        "\n",
        "# predict for new data # 0:overcast, 2:mild, 1:normal, 1:true\n",
        "y= gnb_classifier.predict([[0,2,1,1]])\n",
        "print(\"Predicted Value for new data:\", y)\n"
      ]
    },
    {
      "cell_type": "code",
      "execution_count": 9,
      "metadata": {
        "colab": {
          "base_uri": "https://localhost:8080/"
        },
        "id": "bSjKD6aHzOYf",
        "outputId": "2a3aecd8-cde0-4c72-ebcb-76d0153063a2"
      },
      "outputs": [
        {
          "output_type": "stream",
          "name": "stdout",
          "text": [
            "Predicted Value for training data: [0 0 1 0 1 1 1 0 1 1 1 1 1 0]\n",
            "Predicted Value for new data: [1]\n"
          ]
        },
        {
          "output_type": "stream",
          "name": "stderr",
          "text": [
            "/usr/local/lib/python3.12/dist-packages/sklearn/utils/validation.py:2739: UserWarning: X does not have valid feature names, but BernoulliNB was fitted with feature names\n",
            "  warnings.warn(\n"
          ]
        }
      ],
      "source": [
        "from sklearn.naive_bayes import BernoulliNB\n",
        "\n",
        "# create an object of the GaussianNB classifier\n",
        "bnb = BernoulliNB()\n",
        "\n",
        "# train the classifier\n",
        "bnb.fit(weatherFeatures, play)\n",
        "\n",
        "\n",
        "# predict for training data\n",
        "predicted= bnb.predict(weatherFeatures)\n",
        "print(\"Predicted Value for training data:\", predicted)\n",
        "\n",
        "\n",
        "# predict for new data # 0:overcast, 2:mild, 1:normal, 1:true\n",
        "y= bnb.predict([[0,2,1,1]])\n",
        "print(\"Predicted Value for new data:\", y)\n"
      ]
    },
    {
      "cell_type": "code",
      "execution_count": 10,
      "metadata": {
        "colab": {
          "base_uri": "https://localhost:8080/"
        },
        "id": "k0yPjoSGzOYf",
        "outputId": "48068368-282b-4202-bab6-3ede92a33df9"
      },
      "outputs": [
        {
          "output_type": "stream",
          "name": "stdout",
          "text": [
            "Predicted Value for training data: [0 0 1 1 1 1 1 1 1 1 1 1 1 1]\n",
            "Predicted Value for new data: [1]\n"
          ]
        },
        {
          "output_type": "stream",
          "name": "stderr",
          "text": [
            "/usr/local/lib/python3.12/dist-packages/sklearn/utils/validation.py:2739: UserWarning: X does not have valid feature names, but MultinomialNB was fitted with feature names\n",
            "  warnings.warn(\n"
          ]
        }
      ],
      "source": [
        "from sklearn.naive_bayes import MultinomialNB\n",
        "\n",
        "mnb = MultinomialNB()\n",
        "\n",
        "# train the classifier\n",
        "mnb.fit(weatherFeatures, play)\n",
        "\n",
        "\n",
        "# predict for training data\n",
        "predicted= mnb.predict(weatherFeatures)\n",
        "print(\"Predicted Value for training data:\", predicted)\n",
        "\n",
        "\n",
        "# predict for new data # 0:overcast, 2:mild, 1:normal, 1:true\n",
        "y= mnb.predict([[0,2,1,1]])\n",
        "print(\"Predicted Value for new data:\", y)\n"
      ]
    },
    {
      "cell_type": "markdown",
      "metadata": {
        "id": "k0U9bnr_zOYf"
      },
      "source": [
        "## 5. Performance Measures"
      ]
    },
    {
      "cell_type": "code",
      "execution_count": 11,
      "metadata": {
        "colab": {
          "base_uri": "https://localhost:8080/"
        },
        "id": "tfQIMgiFzOYf",
        "outputId": "27399d8d-071a-4733-bddd-0a7671b723e7"
      },
      "outputs": [
        {
          "output_type": "stream",
          "name": "stdout",
          "text": [
            "GaussianNB =  92.85714285714286\n",
            "BernoulliNB =  85.71428571428571\n",
            "MultinomialNB =  78.57142857142857\n"
          ]
        }
      ],
      "source": [
        "# display the accuracy\n",
        "\n",
        "print('GaussianNB = ', gnb_classifier.score(weatherFeatures, play)*100 )\n",
        "\n",
        "print('BernoulliNB = ', bnb.score(weatherFeatures, play)*100 )\n",
        "\n",
        "print('MultinomialNB = ', mnb.score(weatherFeatures, play)*100 )"
      ]
    },
    {
      "cell_type": "markdown",
      "metadata": {
        "id": "QvUdhdp7zOYg"
      },
      "source": [
        "## 6. Visualize the decision boundary"
      ]
    },
    {
      "cell_type": "code",
      "execution_count": 12,
      "metadata": {
        "colab": {
          "base_uri": "https://localhost:8080/",
          "height": 528
        },
        "id": "dtab5EdszOYg",
        "outputId": "c1476c0b-20b2-4bbb-bbc2-9d6db836a366"
      },
      "outputs": [
        {
          "output_type": "stream",
          "name": "stderr",
          "text": [
            "/usr/local/lib/python3.12/dist-packages/sklearn/utils/validation.py:2739: UserWarning: X does not have valid feature names, but GaussianNB was fitted with feature names\n",
            "  warnings.warn(\n"
          ]
        },
        {
          "output_type": "display_data",
          "data": {
            "text/plain": [
              "<Figure size 640x480 with 1 Axes>"
            ],
            "image/png": "[encoded data removed]"
          },
          "metadata": {}
        }
      ],
      "source": [
        "# Visualize  the classifier\n",
        "\n",
        "# get min of X\n",
        "x_min, x_max = data2d.iloc[:, 0].min() - .5, data2d.iloc[:, 0].max() + .5\n",
        "\n",
        "# create a meshgrid\n",
        "xx, yy  = np.meshgrid(np.linspace(x_min, x_max, num=100), np.linspace(x_min, x_max+1, num=100))\n",
        "\n",
        "gnb = GaussianNB()\n",
        "gnb.fit(data2d,play)\n",
        "\n",
        "# predict for the meshgrid\n",
        "z = gnb.predict( np.c_[xx.ravel(), yy.ravel()] )\n",
        "z = z.reshape(xx.shape)\n",
        "\n",
        "# plot the meshgrid\n",
        "plt.pcolormesh(xx, yy, z, cmap=plt.cm.Paired)\n",
        "\n",
        "# plot decision boundary\n",
        "plt.contour(xx, yy, z)\n",
        "\n",
        "# plot the dataset\n",
        "plt.scatter(pos.iloc[:, 0], pos.iloc[:, 1], label='Play')\n",
        "plt.scatter(neg.iloc[:, 0], neg.iloc[:, 1],  label='Not play')\n",
        "\n",
        "plt.xlabel('Outlook')\n",
        "plt.ylabel('Windy')\n",
        "plt.xticks(np.arange(-0.5, 2.6, step=0.5))\n",
        "plt.yticks(np.arange(-0.5, 2.6, step=0.5))\n",
        "plt.ylim(-0.5,2.5)\n",
        "plt.ylim(-0.5,1.5)\n",
        "plt.title('Weather data decision boundary')\n",
        "plt.legend()\n",
        "plt.show()"
      ]
    },
    {
      "cell_type": "code",
      "source": [],
      "metadata": {
        "id": "dfCsWdtQzjal"
      },
      "execution_count": null,
      "outputs": []
    }
  ],
  "metadata": {
    "kernelspec": {
      "display_name": "Python 3",
      "language": "python",
      "name": "python3"
    },
    "language_info": {
      "codemirror_mode": {
        "name": "ipython",
        "version": 3
      },
      "file_extension": ".py",
      "mimetype": "text/x-python",
      "name": "python",
      "nbconvert_exporter": "python",
      "pygments_lexer": "ipython3",
      "version": "3.7.3"
    },
    "colab": {
      "provenance": [],
      "include_colab_link": true
    }
  },
  "nbformat": 4,
  "nbformat_minor": 0
}