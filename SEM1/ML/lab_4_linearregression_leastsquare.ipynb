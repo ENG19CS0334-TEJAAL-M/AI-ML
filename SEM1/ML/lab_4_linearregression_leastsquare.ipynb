{
  "cells": [
    {
      "cell_type": "markdown",
      "metadata": {
        "id": "view-in-github",
        "colab_type": "text"
      },
      "source": [
        "<a href=\"https://colab.research.google.com/github/ENG19CS0334-TEJAAL-M/AI-ML/blob/main/SEM1/ML/lab_4_linearregression_leastsquare.ipynb\" target=\"_parent\"><img src=\"https://colab.research.google.com/assets/colab-badge.svg\" alt=\"Open In Colab\"/></a>"
      ]
    },
    {
      "cell_type": "markdown",
      "metadata": {
        "id": "-dkx3uPWJwrw"
      },
      "source": [
        "# Linear Regression with Least Squares Estimate"
      ]
    },
    {
      "cell_type": "markdown",
      "metadata": {
        "id": "Jp5YlbhAJwry"
      },
      "source": [
        "## Linear Regression with implementation of least square estimates"
      ]
    },
    {
      "cell_type": "markdown",
      "metadata": {
        "id": "n5TUuE2cJwry"
      },
      "source": [
        "The linear regression line is defined as $$y = \\theta_0 + \\theta_1 x $$"
      ]
    },
    {
      "cell_type": "markdown",
      "metadata": {
        "id": "fdr2logrJwry"
      },
      "source": [
        "The parameters $\\theta_0$ and $\\theta_1$ can be computed using Least square estimates."
      ]
    },
    {
      "cell_type": "markdown",
      "metadata": {
        "id": "_3Kf8FsIJwry"
      },
      "source": [
        "$$\\theta_1 = \\frac{\\sum_{i=1}^n ( x^i - \\bar x ) ( y^i - \\bar y ) }{\\sum_{i=1}^n ( x^i - \\bar x )^2 } $$"
      ]
    },
    {
      "cell_type": "markdown",
      "metadata": {
        "id": "Flp7HJSnJwry"
      },
      "source": [
        "$$ \\theta_0 = \\bar y - \\theta_1 \\bar x $$"
      ]
    },
    {
      "cell_type": "markdown",
      "metadata": {
        "id": "W_8mcPeTJwry"
      },
      "source": [
        "Use the above method to fit a regression line for the salary dataset."
      ]
    },
    {
      "cell_type": "markdown",
      "metadata": {
        "id": "j-K7cEnGJwry"
      },
      "source": [
        "Reference: https://towardsdatascience.com/"
      ]
    },
    {
      "cell_type": "markdown",
      "metadata": {
        "id": "nhIyl_3eJwry"
      },
      "source": [
        "### Step 1: Import libraries and dataset"
      ]
    },
    {
      "cell_type": "code",
      "execution_count": 2,
      "metadata": {
        "id": "JXhmZrHXJwrz"
      },
      "outputs": [],
      "source": [
        "## Import all the necessary libraries\n",
        "\n",
        "import numpy as np\n",
        "import matplotlib.pyplot as plt\n",
        "import pandas as pd\n",
        "\n",
        "%matplotlib inline"
      ]
    },
    {
      "cell_type": "code",
      "execution_count": 5,
      "metadata": {
        "colab": {
          "base_uri": "https://localhost:8080/"
        },
        "id": "Q_MVNLGOJwrz",
        "outputId": "6610d954-a729-4982-904a-d19871971e72"
      },
      "outputs": [
        {
          "output_type": "stream",
          "name": "stdout",
          "text": [
            "(30, 1)\n",
            "(30,)\n"
          ]
        }
      ],
      "source": [
        "## Import the dataset\n",
        "\n",
        "data = pd.read_csv('salary_data.csv')\n",
        "# change the path as necessary\n",
        "\n",
        "X = data.iloc[:, :-1].values # copy all columns excluding last column\n",
        "Y = data.iloc[:, 1].values   # copy the last column only\n",
        "\n",
        "# View the size of the arrays X and Y\n",
        "print(X.shape)\n",
        "print(Y.shape)"
      ]
    },
    {
      "cell_type": "code",
      "execution_count": 6,
      "metadata": {
        "colab": {
          "base_uri": "https://localhost:8080/",
          "height": 472
        },
        "id": "PzdESOITJwr0",
        "outputId": "38e6e14a-d9df-4ab6-e38e-0f9ae7a57179"
      },
      "outputs": [
        {
          "output_type": "display_data",
          "data": {
            "text/plain": [
              "<Figure size 640x480 with 1 Axes>"
            ],
            "image/png": "[encoded data removed]"
          },
          "metadata": {}
        }
      ],
      "source": [
        "# Visualize the dataset\n",
        "\n",
        "plt.scatter(X, Y, color='blue')\n",
        "plt.title('Salary VS Experience (Observations)')\n",
        "plt.xlabel('Year of Experience')\n",
        "plt.ylabel('Salary')\n",
        "plt.show()"
      ]
    },
    {
      "cell_type": "markdown",
      "metadata": {
        "id": "O2FhfB0AJwr0"
      },
      "source": [
        "Step 2 is skipped."
      ]
    },
    {
      "cell_type": "markdown",
      "metadata": {
        "id": "iH62QYhfJwr0"
      },
      "source": [
        "### Step 3: Create and train the machine learning model"
      ]
    },
    {
      "cell_type": "code",
      "execution_count": 7,
      "metadata": {
        "id": "aaQSTeUxJwr0"
      },
      "outputs": [],
      "source": [
        "# Build the model\n",
        "\n",
        "# Find the means\n",
        "X_mean = np.mean(X)\n",
        "Y_mean = np.mean(Y)\n",
        "\n",
        "# Find the summation parts\n",
        "num = 0\n",
        "den = 0\n",
        "for i in range(len(X)):\n",
        "    num += (X[i] - X_mean)*(Y[i] - Y_mean)\n",
        "    den += (X[i] - X_mean)**2\n",
        "\n",
        "# Find the parameters\n",
        "theta1 = num / den\n",
        "theta0 = Y_mean - theta1 * X_mean\n",
        "\n"
      ]
    },
    {
      "cell_type": "markdown",
      "metadata": {
        "id": "CqH51J_9Jwr0"
      },
      "source": [
        "### Step 4: Visualize the results"
      ]
    },
    {
      "cell_type": "code",
      "execution_count": 8,
      "metadata": {
        "colab": {
          "base_uri": "https://localhost:8080/"
        },
        "id": "hvTs_YPKJwr0",
        "outputId": "6c90bcef-5a03-41d5-d71e-d2969ba3798b"
      },
      "outputs": [
        {
          "output_type": "stream",
          "name": "stdout",
          "text": [
            "Theta1 =  [9449.96232146]\n",
            "Theta0 =  [25792.20019867]\n"
          ]
        }
      ],
      "source": [
        "# The coefficients\n",
        "\n",
        "# print the parameter theta1\n",
        "print('Theta1 = ', theta1)\n",
        "# print the parameter theta0\n",
        "print('Theta0 = ', theta0)"
      ]
    },
    {
      "cell_type": "markdown",
      "metadata": {
        "id": "86xTuNyGJwr0"
      },
      "source": [
        "### Step 5: Prediction"
      ]
    },
    {
      "cell_type": "code",
      "execution_count": 9,
      "metadata": {
        "colab": {
          "base_uri": "https://localhost:8080/"
        },
        "id": "_sc4aFLUJwr0",
        "outputId": "3fe56baf-4e39-4c35-f447-b31c213fabb4"
      },
      "outputs": [
        {
          "output_type": "stream",
          "name": "stdout",
          "text": [
            "For x= 7 yrs of experience, predicted salary =  [91941.93644885]\n"
          ]
        }
      ],
      "source": [
        "# Predict the values for the given X\n",
        "Y_pred = theta1 * X + theta0\n",
        "\n",
        "# Predict values for say x = 7\n",
        "x = 7\n",
        "\n",
        "y_pred = theta1 * x + theta0\n",
        "\n",
        "print('For x= 7 yrs of experience, predicted salary = ', y_pred)"
      ]
    },
    {
      "cell_type": "code",
      "execution_count": 10,
      "metadata": {
        "colab": {
          "base_uri": "https://localhost:8080/",
          "height": 472
        },
        "id": "lu10sLClJwr0",
        "outputId": "fe796692-ae38-49dc-de8d-64c6ee467abe"
      },
      "outputs": [
        {
          "output_type": "display_data",
          "data": {
            "text/plain": [
              "<Figure size 640x480 with 1 Axes>"
            ],
            "image/png": "[encoded data removed]"
          },
          "metadata": {}
        }
      ],
      "source": [
        "# Visualize the dataset and plot the residuals\n",
        "\n",
        "fig, ax = plt.subplots()\n",
        "Y = Y.reshape(-1,1)\n",
        "\n",
        "ax.scatter(X, Y, color='blue')       # observed values\n",
        "ax.scatter(X, Y_pred, color='green') # predicted values\n",
        "ax.vlines(X,Y, Y_pred, color='red')  # residual lines\n",
        "plt.plot([min(X), max(X)], [min(Y_pred), max(Y_pred)], color='black')  # regression line\n",
        "\n",
        "plt.title('Salary VS Experience')\n",
        "plt.xlabel('Year of Experience')\n",
        "plt.ylabel('Salary')\n",
        "plt.show()"
      ]
    },
    {
      "cell_type": "markdown",
      "metadata": {
        "id": "_GYbZ7GkJwr1"
      },
      "source": [
        "### Step 6: Performance measures"
      ]
    },
    {
      "cell_type": "code",
      "execution_count": 11,
      "metadata": {
        "colab": {
          "base_uri": "https://localhost:8080/"
        },
        "id": "PIvbgJsYJwr1",
        "outputId": "cf44e4a6-7c1f-409d-9917-f37cfd766fef"
      },
      "outputs": [
        {
          "output_type": "stream",
          "name": "stdout",
          "text": [
            "Mean squared error = 31270951.72\n",
            "Variance score = 0.96\n"
          ]
        }
      ],
      "source": [
        "from sklearn.metrics import mean_squared_error, r2_score\n",
        "\n",
        "# The mean squared error\n",
        "print(\"Mean squared error = %.2f\" % mean_squared_error(Y, Y_pred))\n",
        "\n",
        "# Explained variance score: 1 is perfect prediction\n",
        "print('Variance score = %.2f' % r2_score(Y, Y_pred))"
      ]
    },
    {
      "cell_type": "code",
      "source": [],
      "metadata": {
        "id": "AQhNPCMuJ_eG"
      },
      "execution_count": null,
      "outputs": []
    }
  ],
  "metadata": {
    "kernelspec": {
      "display_name": "Python 3",
      "language": "python",
      "name": "python3"
    },
    "language_info": {
      "codemirror_mode": {
        "name": "ipython",
        "version": 3
      },
      "file_extension": ".py",
      "mimetype": "text/x-python",
      "name": "python",
      "nbconvert_exporter": "python",
      "pygments_lexer": "ipython3",
      "version": "3.7.3"
    },
    "colab": {
      "provenance": [],
      "include_colab_link": true
    }
  },
  "nbformat": 4,
  "nbformat_minor": 0
}