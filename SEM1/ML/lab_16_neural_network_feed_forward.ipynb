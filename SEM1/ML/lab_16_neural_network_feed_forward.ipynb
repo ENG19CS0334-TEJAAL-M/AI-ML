{
  "cells": [
    {
      "cell_type": "markdown",
      "metadata": {
        "id": "view-in-github",
        "colab_type": "text"
      },
      "source": [
        "<a href=\"https://colab.research.google.com/github/ENG19CS0334-TEJAAL-M/AI-ML/blob/main/SEM1/ML/lab_16_neural_network_feed_forward.ipynb\" target=\"_parent\"><img src=\"https://colab.research.google.com/assets/colab-badge.svg\" alt=\"Open In Colab\"/></a>"
      ]
    },
    {
      "cell_type": "markdown",
      "metadata": {
        "id": "--ZJJ58ThSmv"
      },
      "source": [
        "# Neural Network\n",
        "\n",
        "This exercise gives an implementation of a neural network with feed forward propagation.\n",
        "\n",
        "Neural Network\n",
        "    - A neural network has input layers, hidden layers and output layers.\n",
        "    - It uses an activation function. In this exercise we are using sigmoid activation function.\n",
        "    - Learning of weights is done using gradient descent algorithm.\n",
        "\n",
        "Ref: Neural Networks and Deep Learning (deeplearning.ai) by Andrew Ng, Adjunct Professor, Stanford University @ Coursera."
      ]
    },
    {
      "cell_type": "markdown",
      "metadata": {
        "id": "lqpWAFq1hSmy"
      },
      "source": [
        "## 1. Import the necessary libraries"
      ]
    },
    {
      "cell_type": "code",
      "execution_count": 1,
      "metadata": {
        "id": "WwWF-q7lhSmz"
      },
      "outputs": [],
      "source": [
        "import numpy as np\n",
        "import matplotlib.pyplot as plt\n",
        "import matplotlib\n",
        "\n",
        "%matplotlib inline\n"
      ]
    },
    {
      "cell_type": "markdown",
      "metadata": {
        "id": "06PvjMHShSm0"
      },
      "source": [
        "## 2 - Neural Network model\n",
        "\n",
        "**Mathematically**:\n",
        "\n",
        "For one example $x $:\n",
        "\n",
        "For layer 1:\n",
        "\n",
        "\n",
        "$$z^{[1]} =  W^{[1]} x + b^{[1]}\\tag{1}$$  \n",
        "\n",
        "\n",
        "$$a^{[2]} = \\sigma(z^{[1]} ) \\tag{2}$$\n",
        "\n",
        "\n",
        "For layer 2:\n",
        "\n",
        "$$z^{[2]} = W^{[2]} a^{[2]} + b^{[2]}\\tag{3}$$\n",
        "\n",
        "\n",
        "$$ a^{[3]} = \\sigma(z^{[2]})\\tag{4}$$\n",
        "\n",
        "\n",
        "Predicted values for the output layer is given as follows:\n",
        "\n",
        "$$ \\hat{y} = \\begin{cases} 1 & \\mbox{if } a^{[3]} > 0.5 \\\\ 0 & \\mbox{otherwise } \\end{cases}\\tag{5}$$\n",
        "\n",
        "\n",
        "Given the predictions on all the examples, you can also compute the cost $J$ as follows:\n",
        "\n",
        "$$J = - \\frac{1}{m} \\sum\\limits_{i = 0}^{m} \\large\\left(\\small y\\log\\left(a^{[3]}\\right) + (1-y)\\log\\left(1- a^{[3]}\\right)  \\large  \\right) \\small \\tag{6}$$\n",
        "\n",
        "\n",
        "\n",
        "\n",
        "\n",
        "**Methodology**:\n",
        "\n",
        "The general methodology to build a Neural Network is to:\n",
        "    1. Define the neural network structure ( # of input units,  # of hidden units, etc).\n",
        "    2. Initialize the model's parameters\n",
        "    3. Loop:\n",
        "        - Implement forward propagation\n",
        "        - Compute loss\n",
        "        - Update parameters (gradient descent)\n"
      ]
    },
    {
      "cell_type": "markdown",
      "metadata": {
        "id": "4H8iOF1ihSm0"
      },
      "source": [
        "### (a) Define the neural network structure"
      ]
    },
    {
      "cell_type": "code",
      "execution_count": 2,
      "metadata": {
        "id": "CsSKR3_HhSm1"
      },
      "outputs": [],
      "source": [
        "# Define the neural network structure -- layer sizes\n",
        "\n",
        "def initialize_sizes(X, Y):\n",
        "    n_x = X.shape[1]\n",
        "    n_h = X.shape[1] + 1 # my assumption\n",
        "    n_y = Y.shape[1]\n",
        "    size = {'n_x': n_x,\n",
        "            'n_h': n_h,\n",
        "            'n_y': n_y}\n",
        "    return size"
      ]
    },
    {
      "cell_type": "markdown",
      "metadata": {
        "id": "T3xejbl-hSm1"
      },
      "source": [
        "### (b) Initialize the model's parameters"
      ]
    },
    {
      "cell_type": "code",
      "execution_count": 3,
      "metadata": {
        "id": "md3yyj6XhSm1"
      },
      "outputs": [],
      "source": [
        "# initialize parameters or weights\n",
        "\n",
        "def initialize_parameter(size):\n",
        "    n_x = size['n_x']\n",
        "    n_h = size['n_h']\n",
        "    n_y = size['n_y']\n",
        "    W1 = np.random.randn(n_x, n_h) * 0.01\n",
        "    b1 = np.random.randn(1,n_h)\n",
        "    W2 = np.random.randn(n_h, n_y) * 0.01\n",
        "    b2 = np.random.randn(1,n_y)\n",
        "    parameters = {'W1': W1,\n",
        "                  'b1': b1,\n",
        "                  'W2': W2,\n",
        "                  'b2': b2 }\n",
        "    return parameters"
      ]
    },
    {
      "cell_type": "markdown",
      "metadata": {
        "id": "blNe6lg3hSm2"
      },
      "source": [
        "### (c) Define the activation function"
      ]
    },
    {
      "cell_type": "code",
      "execution_count": 4,
      "metadata": {
        "id": "iw8c6X9ihSm2"
      },
      "outputs": [],
      "source": [
        "def sigmoid(z):\n",
        "    return 1/(1 + np.exp(-z))"
      ]
    },
    {
      "cell_type": "markdown",
      "metadata": {
        "id": "v9WEw_tJhSm3"
      },
      "source": [
        "### (c) forward propagation"
      ]
    },
    {
      "cell_type": "code",
      "execution_count": 5,
      "metadata": {
        "id": "my4hg6nFhSm3"
      },
      "outputs": [],
      "source": [
        "# forward propagation\n",
        "\n",
        "def forward_propagation(X, parameters):\n",
        "    learning_rate = 0.001\n",
        "    W1 = parameters['W1']\n",
        "    b1 = parameters['b1']\n",
        "    W2 = parameters['W2']\n",
        "    b2 = parameters['b2']\n",
        "\n",
        "\n",
        "    # Implement Forward Propagation to calculate actiation A (probabilites)\n",
        "    Z1 = np.dot(X, W1) + b1\n",
        "    A1 = sigmoid(Z1)\n",
        "    Z2 = np.dot(A1, W2) + b2\n",
        "    A2 = sigmoid(Z2)\n",
        "\n",
        "    cache = {\"Z1\": Z1,\n",
        "             \"A1\": A1,\n",
        "             \"Z2\": Z2,\n",
        "             \"A2\": A2}\n",
        "\n",
        "    return A2, cache\n"
      ]
    },
    {
      "cell_type": "markdown",
      "metadata": {
        "id": "kkn7XSexhSm4"
      },
      "source": [
        "### (d) Compute loss"
      ]
    },
    {
      "cell_type": "code",
      "execution_count": 6,
      "metadata": {
        "id": "geMFfDouhSm4"
      },
      "outputs": [],
      "source": [
        "def compute_cost(A2, Y):\n",
        "\n",
        "    # compute cost\n",
        "    m = Y.shape[0] # number of samples\n",
        "\n",
        "    logprobs = np.multiply(np.log(A2),Y)\n",
        "    cost = - np.sum(logprobs)\n",
        "    float(np.squeeze(cost))\n",
        "\n",
        "    return cost"
      ]
    },
    {
      "cell_type": "markdown",
      "metadata": {
        "id": "gJ076JWRhSm5"
      },
      "source": [
        "### (e) Compute gradients using Back propagation"
      ]
    },
    {
      "cell_type": "code",
      "execution_count": 7,
      "metadata": {
        "id": "bVZBpKRshSm6"
      },
      "outputs": [],
      "source": [
        "def sigmoid_derivative(z):\n",
        "    return z * (1-z)"
      ]
    },
    {
      "cell_type": "code",
      "execution_count": 8,
      "metadata": {
        "id": "RmhPI8IMhSm6"
      },
      "outputs": [],
      "source": [
        "def backward_propagation(X, Y, parameters, cache):\n",
        "\n",
        "    m = X.shape[0] # number of samples\n",
        "\n",
        "    # First, retrieve W1 and W2 from the dictionary \"parameters\".\n",
        "    W1 = parameters['W1']\n",
        "    W2 = parameters['W2']\n",
        "\n",
        "    # Retrieve also A1 and A2 from dictionary \"cache\".\n",
        "    A1 = cache['A1']\n",
        "    A2 = cache['A2']\n",
        "\n",
        "    # Backward propagation: calculate dW1, db1, dW2, db2.\n",
        "    # layer 2\n",
        "    dZ2 = A2 - Y\n",
        "    dW2 = (1/m) * np.dot(A1.T, dZ2)\n",
        "    db2 = (1/m) * np.sum(dZ2, axis = 0, keepdims = True)\n",
        "    # layer 1\n",
        "    dZ1 = np.multiply(W2.T, dZ2) * sigmoid_derivative(A1)\n",
        "    dW1 = (1/m) * np.dot(X.T, dZ1)\n",
        "    db1 = (1/m) * np.sum(dZ1, axis = 0, keepdims = True)\n",
        "    ### END CODE HERE ###\n",
        "\n",
        "    grads = {\"dW1\": dW1,\n",
        "             \"db1\": db1,\n",
        "             \"dW2\": dW2,\n",
        "             \"db2\": db2}\n",
        "\n",
        "    return grads"
      ]
    },
    {
      "cell_type": "markdown",
      "metadata": {
        "id": "xvyMhAiKhSm6"
      },
      "source": [
        "### (f) Update parameters"
      ]
    },
    {
      "cell_type": "code",
      "execution_count": 9,
      "metadata": {
        "id": "VWcuW4hBhSm7"
      },
      "outputs": [],
      "source": [
        "def update_parameters(parameters, grads, learning_rate = 1.2):\n",
        "\n",
        "    # Retrieve each parameter from the dictionary \"parameters\"\n",
        "\n",
        "    W1 = parameters['W1']\n",
        "    b1 = parameters['b1']\n",
        "    W2 = parameters['W2']\n",
        "    b2 = parameters['b2']\n",
        "\n",
        "\n",
        "    # Retrieve each gradient from the dictionary \"grads\"\n",
        "\n",
        "    dW1 = grads['dW1']\n",
        "    db1 = grads['db1']\n",
        "    dW2 = grads['dW2']\n",
        "    db2 = grads['db2']\n",
        "\n",
        "\n",
        "    # Update rule for each parameter\n",
        "\n",
        "    W1 = W1 - learning_rate * dW1\n",
        "    b1 = b1 - learning_rate * db1\n",
        "    W2 = W2 - learning_rate * dW2\n",
        "    b2 = b2 - learning_rate * db2\n",
        "\n",
        "\n",
        "    parameters = {\"W1\": W1,\n",
        "                  \"b1\": b1,\n",
        "                  \"W2\": W2,\n",
        "                  \"b2\": b2}\n",
        "\n",
        "    return parameters"
      ]
    },
    {
      "cell_type": "markdown",
      "metadata": {
        "id": "YqSauO_whSm7"
      },
      "source": [
        "### (g) Prediction"
      ]
    },
    {
      "cell_type": "code",
      "execution_count": 10,
      "metadata": {
        "id": "hgY65KOvhSm7"
      },
      "outputs": [],
      "source": [
        "def predict(X, parameters):\n",
        "\n",
        "    # Computes probabilities using forward propagation\n",
        "    A2, cache = forward_propagation(X, parameters)\n",
        "\n",
        "    # Classify to 0/1 using 0.5 as the threshold.\n",
        "    predictions = np.where(A2 < 0.5, 0, 1)\n",
        "\n",
        "    return predictions"
      ]
    },
    {
      "cell_type": "markdown",
      "metadata": {
        "id": "9HzfJV8ihSm8"
      },
      "source": [
        "### (g) Visualization"
      ]
    },
    {
      "cell_type": "code",
      "execution_count": 11,
      "metadata": {
        "id": "lci6d3fQhSm8"
      },
      "outputs": [],
      "source": [
        "# visualise the input\n",
        "def visualize(X, Y):\n",
        "    colors = (\"red\", \"blue\")\n",
        "    labels = Y.flatten()\n",
        "    plt.scatter(X[:, 0], X[:, 1], alpha=0.8, c=labels,\n",
        "                cmap = matplotlib.colors.ListedColormap(colors) )\n",
        "    plt.title('Scatter plot')\n",
        "    plt.xlabel('X 1')\n",
        "    plt.ylabel('X 2')\n",
        "    plt.xticks([0,1])\n",
        "    plt.yticks(np.arange(0, 1.1, step=1))\n",
        "    plt.show()"
      ]
    },
    {
      "cell_type": "code",
      "execution_count": 12,
      "metadata": {
        "id": "amOY-GZXhSm8"
      },
      "outputs": [],
      "source": [
        "# visualize the predicted values and the decision boundary\n",
        "\n",
        "def decision_boundary(X, Y, parameters):\n",
        "    W2 = parameters['W2']\n",
        "    b2 = parameters['b2']\n",
        "    colors = (\"red\", \"blue\")\n",
        "\n",
        "    x_min, x_max = X[:, 0].min() - 1, X[:, 0].max() + 1\n",
        "    y_min, y_max = X[:, 1].min() - 1, X[:, 1].max() + 1\n",
        "\n",
        "    h = .02  # step size in the mesh\n",
        "\n",
        "    xx, yy = np.meshgrid(np.arange(x_min, x_max, h), np.arange(y_min, y_max, h))\n",
        "    Z = predict(np.c_[xx.ravel(), yy.ravel()], parameters)\n",
        "\n",
        "    # Put the result into a color plot\n",
        "    Z = Z.reshape(xx.shape)\n",
        "\n",
        "    plt.figure(1, figsize=(4, 3))\n",
        "    plt.pcolormesh(xx, yy, Z, cmap=plt.cm.Paired)\n",
        "\n",
        "    # Plot also the training points\n",
        "    plt.scatter(X[:, 0], X[:, 1], c=Y.flatten(), edgecolors='k',\n",
        "                cmap = matplotlib.colors.ListedColormap(colors))\n",
        "\n",
        "    plt.xlim(xx.min(), xx.max())\n",
        "    plt.ylim(yy.min(), yy.max())\n",
        "    plt.xticks(())\n",
        "    plt.yticks(())\n",
        "    plt.title('Scatter plot')\n",
        "    plt.xlabel('X 1')\n",
        "    plt.ylabel('X 2')\n",
        "    plt.show()"
      ]
    },
    {
      "cell_type": "code",
      "execution_count": 13,
      "metadata": {
        "id": "kclXO6rxhSm8"
      },
      "outputs": [],
      "source": [
        "# plot the cost function\n",
        "def plot_cost_function(cost_history):\n",
        "    plt.plot(cost_history)\n",
        "    plt.title('Cost Function')\n",
        "    plt.xlabel(\"Number of iterations\")\n",
        "    plt.ylabel(\"Cost\")\n",
        "    plt.show()"
      ]
    },
    {
      "cell_type": "markdown",
      "metadata": {
        "id": "e4hqGa6PhSm-"
      },
      "source": [
        "## 3. Implementation of OR gate"
      ]
    },
    {
      "cell_type": "code",
      "execution_count": 14,
      "metadata": {
        "id": "CmbvUs1khSm-"
      },
      "outputs": [],
      "source": [
        "# This example is an implementation of OR gate\n",
        "\n",
        "# Number of input neurons = 2\n",
        "# Number of output neurons = 1\n",
        "\n",
        "# Training input sample\n",
        "X = np.array([[0,0],\n",
        "            [0,1],\n",
        "            [1,0],\n",
        "            [1,1]])\n",
        "\n",
        "# Training output sample\n",
        "Y = np.array([[0],[1],[1],[1]])\n",
        "\n",
        "#visualize(X,Y)"
      ]
    },
    {
      "cell_type": "code",
      "execution_count": 15,
      "metadata": {
        "colab": {
          "base_uri": "https://localhost:8080/"
        },
        "id": "HUebNTnyhSm-",
        "outputId": "ab51aeeb-2d37-46c1-fb91-447ee5a23820"
      },
      "outputs": [
        {
          "output_type": "stream",
          "name": "stdout",
          "text": [
            "Before training\n",
            "{'n_x': 2, 'n_h': 3, 'n_y': 1}\n",
            "W1 =  [[-0.00653885  0.00988557 -0.010573  ]\n",
            " [ 0.00480525  0.0267854  -0.02120023]]\n",
            "b1 =  [[-1.01042669 -1.66728141 -1.74813861]]\n",
            "W2 =  [[-0.00167235]\n",
            " [-0.01395681]\n",
            " [-0.0011706 ]]\n",
            "b2 =  [[-0.1866454]]\n",
            "\n",
            " Training... \n",
            "\n",
            "Cost after iteration 0: 2.377177\n",
            "Cost after iteration 100: 0.332455\n",
            "Cost after iteration 200: 0.073235\n",
            "Cost after iteration 300: 0.035215\n",
            "Cost after iteration 400: 0.022353\n",
            "Cost after iteration 500: 0.016126\n",
            "Cost after iteration 600: 0.012510\n",
            "Cost after iteration 700: 0.010167\n",
            "Cost after iteration 800: 0.008534\n",
            "Cost after iteration 900: 0.007335\n",
            "Cost after iteration 1000: 0.006419\n",
            "Cost after iteration 1100: 0.005698\n",
            "Cost after iteration 1200: 0.005117\n",
            "Cost after iteration 1300: 0.004640\n",
            "Cost after iteration 1400: 0.004240\n",
            "Cost after iteration 1500: 0.003901\n",
            "Cost after iteration 1600: 0.003611\n",
            "Cost after iteration 1700: 0.003359\n",
            "Cost after iteration 1800: 0.003138\n",
            "Cost after iteration 1900: 0.002944\n",
            "After training\n",
            "W1 =  [[5.91598601 2.66521335 0.57688994]\n",
            " [5.91142819 2.67560417 0.56209621]]\n",
            "b1 =  [[-3.17425875 -1.70426191 -1.78630419]]\n",
            "W2 =  [[11.28561581]\n",
            " [ 3.29213831]\n",
            " [ 0.24612465]]\n",
            "b2 =  [[-6.35838061]]\n"
          ]
        }
      ],
      "source": [
        "print('Before training')\n",
        "size = initialize_sizes(X, Y)\n",
        "print(size)\n",
        "\n",
        "weights = initialize_parameter(size)\n",
        "print('W1 = ', weights['W1'])\n",
        "print('b1 = ', weights['b1'])\n",
        "print('W2 = ', weights['W2'])\n",
        "print('b2 = ', weights['b2'])\n",
        "\n",
        "\n",
        "print('\\n Training... \\n')\n",
        "cost_history = []\n",
        "\n",
        "for i in range(0, 2000):\n",
        "\n",
        "    # Forward propagation.\n",
        "    A2, cache = forward_propagation(X, weights)\n",
        "\n",
        "    # Cost function.\n",
        "    cost = compute_cost(A2, Y )\n",
        "    cost_history.append(cost)\n",
        "\n",
        "    # Backpropagation.\n",
        "    grads = backward_propagation(X, Y, weights, cache)\n",
        "\n",
        "    # Gradient descent parameter update.\n",
        "    weights = update_parameters(weights, grads)\n",
        "\n",
        "    # Print the cost every 100 iterations\n",
        "    if i % 100 == 0:\n",
        "        print (\"Cost after iteration %i: %f\" %(i, cost))\n",
        "\n",
        "print('After training')\n",
        "print('W1 = ', weights['W1'])\n",
        "print('b1 = ', weights['b1'])\n",
        "print('W2 = ', weights['W2'])\n",
        "print('b2 = ', weights['b2'])\n"
      ]
    },
    {
      "cell_type": "code",
      "execution_count": 16,
      "metadata": {
        "colab": {
          "base_uri": "https://localhost:8080/"
        },
        "id": "HLoLs5K5hSm_",
        "outputId": "e169739e-51d5-4395-bef0-14633ab64586"
      },
      "outputs": [
        {
          "output_type": "stream",
          "name": "stdout",
          "text": [
            "Actual output [0 1 1 1]\n",
            "Predicted output [0 1 1 1]\n",
            "Accuracy: 100%\n"
          ]
        }
      ],
      "source": [
        "# Actual observation\n",
        "y = Y.flatten()\n",
        "print('Actual output', y)\n",
        "\n",
        "# predicted values\n",
        "yhat = predict(X, weights).flatten()\n",
        "print('Predicted output', yhat)\n",
        "\n",
        "# Compute accuracy\n",
        "\n",
        "print ('Accuracy: %d' % float((np.dot(y, yhat.T) + np.dot(1-y, 1-yhat.T))\n",
        "                              /float(y.size)*100) + '%')\n"
      ]
    },
    {
      "cell_type": "code",
      "execution_count": 17,
      "metadata": {
        "colab": {
          "base_uri": "https://localhost:8080/",
          "height": 764
        },
        "id": "gWYodxaThSm_",
        "outputId": "02d5f25c-321e-4682-825b-8ef02669d984"
      },
      "outputs": [
        {
          "output_type": "display_data",
          "data": {
            "text/plain": [
              "<Figure size 400x300 with 1 Axes>"
            ],
            "image/png": "[encoded data removed]"
          },
          "metadata": {}
        },
        {
          "output_type": "display_data",
          "data": {
            "text/plain": [
              "<Figure size 640x480 with 1 Axes>"
            ],
            "image/png": "[encoded data removed]"
          },
          "metadata": {}
        }
      ],
      "source": [
        "# Visualization of decision boundary and loss function\n",
        "decision_boundary(X, Y, weights)\n",
        "plot_cost_function(cost_history)"
      ]
    },
    {
      "cell_type": "markdown",
      "metadata": {
        "id": "eLrYuHF-hSm_"
      },
      "source": [
        "# Implementation of XOR"
      ]
    },
    {
      "cell_type": "code",
      "execution_count": 18,
      "metadata": {
        "id": "Wqw90zo2hSm_"
      },
      "outputs": [],
      "source": [
        "# This example is an implementation of XOR gate\n",
        "\n",
        "# Number of input neurons = 2\n",
        "# Number of output neurons = 1\n",
        "\n",
        "# Training input sample\n",
        "xor_X = np.array([[0,0],\n",
        "            [0,1],\n",
        "            [1,0],\n",
        "            [1,1]])\n",
        "\n",
        "# Training output sample\n",
        "xor_Y = np.array([[0],[1],[1],[0]])\n",
        "\n",
        "#visualize(xor_X, xor_Y)"
      ]
    },
    {
      "cell_type": "code",
      "execution_count": 19,
      "metadata": {
        "colab": {
          "base_uri": "https://localhost:8080/"
        },
        "id": "EkkrK1WQhSm_",
        "outputId": "1a366f2c-1761-4f04-e829-d4ec68c83965"
      },
      "outputs": [
        {
          "output_type": "stream",
          "name": "stdout",
          "text": [
            "Before training\n",
            "{'n_x': 2, 'n_h': 3, 'n_y': 1}\n",
            "W1 =  [[0.01134101 0.00380998 0.00478596]\n",
            " [0.00749347 0.0045136  0.0035077 ]]\n",
            "b1 =  [[ 0.66376918 -0.06014882  0.11150022]]\n",
            "W2 =  [[-0.01966678]\n",
            " [ 0.01290707]\n",
            " [-0.00208   ]]\n",
            "b2 =  [[-1.30872641]]\n",
            "\n",
            " Training... \n",
            "\n",
            "Cost after iteration 0: 3.108117\n",
            "Cost after iteration 1000: 0.927286\n",
            "Cost after iteration 2000: 0.014202\n",
            "Cost after iteration 3000: 0.006312\n",
            "Cost after iteration 4000: 0.004021\n",
            "Cost after iteration 5000: 0.002940\n",
            "Cost after iteration 6000: 0.002313\n",
            "Cost after iteration 7000: 0.001905\n",
            "Cost after iteration 8000: 0.001618\n",
            "Cost after iteration 9000: 0.001405\n",
            "Cost after iteration 10000: 0.001242\n",
            "Cost after iteration 11000: 0.001112\n",
            "Cost after iteration 12000: 0.001007\n",
            "Cost after iteration 13000: 0.000920\n",
            "Cost after iteration 14000: 0.000846\n",
            "Cost after iteration 15000: 0.000784\n",
            "Cost after iteration 16000: 0.000730\n",
            "Cost after iteration 17000: 0.000682\n",
            "Cost after iteration 18000: 0.000641\n",
            "Cost after iteration 19000: 0.000604\n",
            "After training\n",
            "W1 =  [[8.34055641 4.78163328 4.88225266]\n",
            " [8.34056028 4.78163563 4.88225137]]\n",
            "b1 =  [[-4.00331791 -7.52772388 -7.67558192]]\n",
            "W2 =  [[ 17.43667688]\n",
            " [ -9.97856359]\n",
            " [-10.31411729]]\n",
            "b2 =  [[-7.85441168]]\n"
          ]
        }
      ],
      "source": [
        "print('Before training')\n",
        "xor_size = initialize_sizes(xor_X, xor_Y)\n",
        "print(xor_size)\n",
        "\n",
        "xor_weights = initialize_parameter(xor_size)\n",
        "print('W1 = ', xor_weights['W1'])\n",
        "print('b1 = ', xor_weights['b1'])\n",
        "print('W2 = ', xor_weights['W2'])\n",
        "print('b2 = ', xor_weights['b2'])\n",
        "\n",
        "print('\\n Training... \\n')\n",
        "xor_cost_history = []\n",
        "\n",
        "for i in range(0, 20000):\n",
        "\n",
        "    # Forward propagation.\n",
        "    xor_A2, xor_cache = forward_propagation(xor_X, xor_weights)\n",
        "\n",
        "    # Cost function.\n",
        "    xor_cost = compute_cost(xor_A2, xor_Y )\n",
        "    xor_cost_history.append(xor_cost)\n",
        "\n",
        "    # Backpropagation.\n",
        "    xor_grads = backward_propagation(xor_X, xor_Y, xor_weights, xor_cache)\n",
        "\n",
        "    # Gradient descent parameter update.\n",
        "    xor_weights = update_parameters(xor_weights, xor_grads)\n",
        "\n",
        "    ### END CODE HERE ###\n",
        "\n",
        "    # Print the cost every 1000 iterations\n",
        "    if i % 1000 == 0:\n",
        "        print (\"Cost after iteration %i: %f\" %(i, xor_cost))\n",
        "\n",
        "print('After training')\n",
        "print('W1 = ', xor_weights['W1'])\n",
        "print('b1 = ', xor_weights['b1'])\n",
        "print('W2 = ', xor_weights['W2'])\n",
        "print('b2 = ', xor_weights['b2'])\n"
      ]
    },
    {
      "cell_type": "code",
      "execution_count": 20,
      "metadata": {
        "colab": {
          "base_uri": "https://localhost:8080/"
        },
        "id": "f_orAnmthSm_",
        "outputId": "52b8712e-df70-4fde-92e7-3007fbfd6faf"
      },
      "outputs": [
        {
          "output_type": "stream",
          "name": "stdout",
          "text": [
            "Actual output [0 1 1 0]\n",
            "Predicted output [0 1 1 0]\n",
            "Accuracy: 100%\n"
          ]
        }
      ],
      "source": [
        "# Actual observation\n",
        "xor_y = xor_Y.flatten()\n",
        "print('Actual output', xor_y)\n",
        "\n",
        "# predicted values\n",
        "xor_yhat = predict(xor_X, xor_weights).flatten()\n",
        "print('Predicted output', xor_yhat)\n",
        "\n",
        "# Compute accuracy\n",
        "\n",
        "print ('Accuracy: %d' % float((np.dot(xor_y, xor_yhat.T) + np.dot(1-xor_y, 1-xor_yhat.T))\n",
        "                              /float(xor_y.size)*100) + '%')\n"
      ]
    },
    {
      "cell_type": "code",
      "execution_count": 21,
      "metadata": {
        "colab": {
          "base_uri": "https://localhost:8080/",
          "height": 764
        },
        "id": "dAxBdCi9hSnA",
        "outputId": "f032e61b-2905-45ea-8741-78c72f9c0b87"
      },
      "outputs": [
        {
          "output_type": "display_data",
          "data": {
            "text/plain": [
              "<Figure size 400x300 with 1 Axes>"
            ],
            "image/png": "[encoded data removed]"
          },
          "metadata": {}
        },
        {
          "output_type": "display_data",
          "data": {
            "text/plain": [
              "<Figure size 640x480 with 1 Axes>"
            ],
            "image/png": "[encoded data removed]"
          },
          "metadata": {}
        }
      ],
      "source": [
        "# Visualization of decision boundary and loss function\n",
        "decision_boundary(xor_X, xor_Y, xor_weights)\n",
        "plot_cost_function(xor_cost_history)"
      ]
    }
  ],
  "metadata": {
    "kernelspec": {
      "display_name": "Python 3",
      "language": "python",
      "name": "python3"
    },
    "language_info": {
      "codemirror_mode": {
        "name": "ipython",
        "version": 3
      },
      "file_extension": ".py",
      "mimetype": "text/x-python",
      "name": "python",
      "nbconvert_exporter": "python",
      "pygments_lexer": "ipython3",
      "version": "3.7.3"
    },
    "colab": {
      "provenance": [],
      "include_colab_link": true
    }
  },
  "nbformat": 4,
  "nbformat_minor": 0
}