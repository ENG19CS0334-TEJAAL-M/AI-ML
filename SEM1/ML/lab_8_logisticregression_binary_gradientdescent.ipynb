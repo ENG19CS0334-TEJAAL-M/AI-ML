{
  "cells": [
    {
      "cell_type": "markdown",
      "metadata": {
        "id": "view-in-github",
        "colab_type": "text"
      },
      "source": [
        "<a href=\"https://colab.research.google.com/github/ENG19CS0334-TEJAAL-M/AI-ML/blob/main/SEM1/ML/lab_8_logisticregression_binary_gradientdescent.ipynb\" target=\"_parent\"><img src=\"https://colab.research.google.com/assets/colab-badge.svg\" alt=\"Open In Colab\"/></a>"
      ]
    },
    {
      "cell_type": "markdown",
      "metadata": {
        "id": "f-3LDqPPVu7E"
      },
      "source": [
        "# Logistic regression for binary classification using Gradient Descent algorithm"
      ]
    },
    {
      "cell_type": "markdown",
      "metadata": {
        "id": "wxqnDLbbVu7H"
      },
      "source": [
        "<b>Logistic Regression model</b>  is used to model the probability of a certain class or event existing such as pass/fail, win/lose, alive/dead or healthy/sick.\n",
        "\n",
        "A <b>binary logistic model</b> has a dependent variable with two possible values, such as pass/fail which is represented by labels 1/0.\n",
        "\n",
        "<div align=\"right\">   Reference: Wikipedia </div>\n"
      ]
    },
    {
      "cell_type": "markdown",
      "metadata": {
        "id": "n2sfXgPyVu7I"
      },
      "source": [
        "In <b>logistic classification</b>, the classification is based on the hypothesis $ h_\\theta(x) $:\n",
        "\n",
        "If $ h_\\theta(x) \\geq 0.5 $ predict $ y = 1 $.\n",
        "\n",
        "If $ h_\\theta(x) < 0.5 $ predict $ y = 0 $.\n",
        "\n",
        "In other words,  $ 0 \\leq h_\\theta(x) \\leq 1 $.\n",
        "    "
      ]
    },
    {
      "cell_type": "markdown",
      "metadata": {
        "id": "OtYRbeJ6Vu7I"
      },
      "source": [
        " ![title](images/LogisticRegression.png)\n",
        "\n",
        "<div align=\"right\">   Reference: techdifferences.com </div>  "
      ]
    },
    {
      "cell_type": "markdown",
      "metadata": {
        "id": "biB876njVu7I"
      },
      "source": [
        "The model uses the <b>hypothesis</b> $$ h = h_\\theta(x) = g(\\theta^T x) $$\n",
        "    \n",
        "The <b>Sigmoid function</b> $ g $ is defined as $$ g(z) = \\frac{1}{1+e^{-z}} $$\n",
        "\n",
        "To compute the parameters $\\theta$ use the <b>Cost function</b>:\n",
        "$$ J(\\theta) = \\frac{1}{m} \\big( -y^T log(h) - (1-y)^T log (1-h) \\big) $$\n",
        "and minimize the cost function over $\\theta$ using Gradient Descent algorithm.\n",
        "\n",
        "\n",
        "<b>Gradient descent algorithm</b> is given as\n",
        "\n",
        "repeat until convergence {\n",
        "\\begin{align*}\n",
        "    \\theta_1 &= \\theta_1 - \\alpha \\frac{1}{m}\\sum_{i=1}^{m} \\big ( h_\\theta (x^{(i)}) - y^{(i)} \\big ) * x^{(i)} \\\\\n",
        "    \\theta_0 &= \\theta_0 - \\alpha \\frac{1}{m}\\sum_{i=1}^{m} \\big ( h_\\theta (x^{(i)}) - y^{(i)} \\big )\n",
        "\\end{align*}\n",
        "}\n",
        "\n",
        "<div align=\"right\"> Reference: Coursera course on Machine Learning by Andrew Ng </div>"
      ]
    },
    {
      "cell_type": "markdown",
      "metadata": {
        "id": "GV3N_i_yVu7I"
      },
      "source": [
        "<img src=\"images/LogisticRegression_breastCancer.png\" alt=\"Drawing\" style=\"width: 500px;\"/>\n",
        "<div align=\"right\">   Reference: mapr.com </div>"
      ]
    },
    {
      "cell_type": "markdown",
      "metadata": {
        "id": "gb7xBsBcVu7J"
      },
      "source": [
        "## 1. Import the libraries"
      ]
    },
    {
      "cell_type": "code",
      "execution_count": 1,
      "metadata": {
        "id": "EpjCEa4ZVu7J"
      },
      "outputs": [],
      "source": [
        "import numpy as np\n",
        "import pandas as pd\n",
        "import math\n",
        "import matplotlib.pyplot as plt\n",
        "import seaborn as sns"
      ]
    },
    {
      "cell_type": "markdown",
      "metadata": {
        "id": "d8riIwVvVu7K"
      },
      "source": [
        "## 2. Import and visualize the dataset"
      ]
    },
    {
      "cell_type": "code",
      "execution_count": 3,
      "metadata": {
        "colab": {
          "base_uri": "https://localhost:8080/"
        },
        "id": "63gqFmHNVu7K",
        "outputId": "6661d624-002d-4277-ff5a-1a6a4ec5530e"
      },
      "outputs": [
        {
          "output_type": "stream",
          "name": "stdout",
          "text": [
            "       Exam1     Exam2   Admitted\n",
            "0  34.623660  78.024693         0\n",
            "1  30.286711  43.894998         0\n",
            "2  35.847409  72.902198         0\n",
            "3  60.182599  86.308552         1\n",
            "4  79.032736  75.344376         1\n"
          ]
        }
      ],
      "source": [
        "# Import the dataset\n",
        "\n",
        "df = pd.read_csv('Admission.csv')\n",
        "# change the path as necessary\n",
        "# Reference dataset taken from Coursera course on Machine Learning by Andrew Ng\n",
        "print(df.head())"
      ]
    },
    {
      "cell_type": "code",
      "execution_count": 4,
      "metadata": {
        "id": "MuXk48CDVu7K"
      },
      "outputs": [],
      "source": [
        "# X = first two columns; Exam 1 and Exam 2\n",
        "X = df.iloc[:, :-1]\n",
        "\n",
        "# y = target values, last column\n",
        "Y = df.iloc[:, -1]\n",
        "\n",
        "# filter out the applicants that got admitted\n",
        "admitted = df.loc[Y == 1]\n",
        "\n",
        "# filter out the applicants that did not get admitted\n",
        "not_admitted = df.loc[Y == 0]\n"
      ]
    },
    {
      "cell_type": "code",
      "execution_count": 5,
      "metadata": {
        "colab": {
          "base_uri": "https://localhost:8080/",
          "height": 472
        },
        "id": "KJoXtHOJVu7L",
        "outputId": "4fd3ae38-3f21-44ce-d0a4-e33071fa57ff"
      },
      "outputs": [
        {
          "output_type": "display_data",
          "data": {
            "text/plain": [
              "<Figure size 640x480 with 1 Axes>"
            ],
            "image/png": "[encoded data removed]"
          },
          "metadata": {}
        }
      ],
      "source": [
        "# Visualize\n",
        "plt.scatter(admitted.iloc[:, 0], admitted.iloc[:, 1], label='Admitted')\n",
        "plt.scatter(not_admitted.iloc[:, 0], not_admitted.iloc[:, 1],  label='Not Admitted')\n",
        "plt.legend()\n",
        "plt.title('Scatter plot')\n",
        "plt.xlabel('Exam 1')\n",
        "plt.ylabel('Exam 2')\n",
        "plt.show()"
      ]
    },
    {
      "cell_type": "markdown",
      "metadata": {
        "id": "vUOWRSoBVu7L"
      },
      "source": [
        "## 3. Preprocessing the data"
      ]
    },
    {
      "cell_type": "code",
      "execution_count": 7,
      "metadata": {
        "colab": {
          "base_uri": "https://localhost:8080/"
        },
        "id": "N4CS-jchVu7L",
        "outputId": "7dfc5db0-5b3b-46d9-e6dc-3ef2218a2997"
      },
      "outputs": [
        {
          "output_type": "stream",
          "name": "stdout",
          "text": [
            "Size of X (100, 4)\n",
            "Size of Y  (100, 1)\n"
          ]
        }
      ],
      "source": [
        "from sklearn import preprocessing\n",
        "\n",
        "# scale the data\n",
        "# Min max scaler transforms features by scaling each feature to a given range, default is (0,1).\n",
        "# The transformation is given by:\n",
        "# X_std = (X - X.min(axis=0)) / (X.max(axis=0) - X.min(axis=0))\n",
        "# X_scaled = X_std * (max - min) + min\n",
        "\n",
        "# theta0 + theta1 * x\n",
        "min_max_scaler = preprocessing.MinMaxScaler()\n",
        "X = min_max_scaler.fit_transform(X)\n",
        "\n",
        "# add bias = 1 at column 0\n",
        "X = np.c_[np.ones((X.shape[0], 1)), X]\n",
        "print('Size of X' , X.shape)\n",
        "\n",
        "# make y also a numpy array\n",
        "Y = Y.to_numpy()[:, np.newaxis]\n",
        "print('Size of Y ' , Y.shape)"
      ]
    },
    {
      "cell_type": "markdown",
      "metadata": {
        "id": "9j1McRM_Vu7L"
      },
      "source": [
        "## 4. Define relevant functions"
      ]
    },
    {
      "cell_type": "markdown",
      "metadata": {
        "id": "qew7-A2MVu7L"
      },
      "source": [
        "#### Sigmoid function $$ g(z) = \\frac{1}{1+e^{-z}} $$\n",
        "\n",
        "#### Hypothesis $$ h_\\theta (x) = g ( \\theta^T x ) $$\n",
        "\n",
        "#### Cost function\n",
        "$$ J(\\theta) = \\frac{1}{m} \\big( -y^T log(h) - (1-y)^T log (1-h) \\big) $$\n",
        "where $ h = g ( \\theta^T x ) $\n"
      ]
    },
    {
      "cell_type": "code",
      "execution_count": 8,
      "metadata": {
        "id": "fw513Y9NVu7L"
      },
      "outputs": [],
      "source": [
        "def sigmoid(a):\n",
        "    return 1.0 / (1 + np.exp(-a))\n",
        "\n",
        "def cost(x, y, theta):\n",
        "    m = x.shape[0]\n",
        "    h = sigmoid(np.matmul(x, theta))\n",
        "    cost = (np.matmul(-y.T, np.log(h)) - np.matmul((1 -y.T), np.log(1 - h)))/m\n",
        "    return cost\n",
        "\n",
        "def gradient_Descent(theta, alpha, x , y):\n",
        "    m = x.shape[0]\n",
        "    h = sigmoid(np.matmul(x, theta))\n",
        "    grad = np.matmul(x.T, (h - y)) / m;\n",
        "    J = cost(x, y, theta)\n",
        "    theta = theta - alpha * grad * J\n",
        "    return theta"
      ]
    },
    {
      "cell_type": "markdown",
      "metadata": {
        "id": "7D4QmFyEVu7L"
      },
      "source": [
        "## 5. Build the logistic regression model"
      ]
    },
    {
      "cell_type": "markdown",
      "metadata": {
        "id": "esKyM3nOVu7L"
      },
      "source": [
        "### Using gradient descent"
      ]
    },
    {
      "cell_type": "code",
      "execution_count": 9,
      "metadata": {
        "colab": {
          "base_uri": "https://localhost:8080/"
        },
        "id": "Pwk-45YTVu7M",
        "outputId": "2355fe85-af93-4c00-c409-9af2690c15a6"
      },
      "outputs": [
        {
          "output_type": "stream",
          "name": "stdout",
          "text": [
            "Size of Theta  (4, 1)\n",
            "[[0.]\n",
            " [0.]\n",
            " [0.]\n",
            " [0.]]\n"
          ]
        }
      ],
      "source": [
        "# create and initialize theta parameters. # X 100 x 3\n",
        "\n",
        "Theta = np.zeros((X.shape[1], 1))\n",
        "print('Size of Theta ' , Theta.shape)\n",
        "print(Theta)"
      ]
    },
    {
      "cell_type": "code",
      "execution_count": 10,
      "metadata": {
        "colab": {
          "base_uri": "https://localhost:8080/"
        },
        "id": "c8MSN8ULVu7M",
        "outputId": "e44b9a46-da13-4804-dedb-7308ae7ab9f2"
      },
      "outputs": [
        {
          "output_type": "stream",
          "name": "stdout",
          "text": [
            "epoch = 0, cost = [[0.6917313]]\n",
            "epoch = 10000, cost = [[0.30630304]]\n",
            "epoch = 20000, cost = [[0.26646831]]\n",
            "epoch = 30000, cost = [[0.24873341]]\n",
            "epoch = 40000, cost = [[0.23835523]]\n",
            "epoch = 50000, cost = [[0.23146086]]\n",
            "epoch = 60000, cost = [[0.22652913]]\n",
            "epoch = 70000, cost = [[0.22282558]]\n",
            "epoch = 80000, cost = [[0.2199469]]\n",
            "epoch = 90000, cost = [[0.21765115]]\n",
            "epoch = 100000, cost = [[0.21578349]]\n",
            "Training completed\n"
          ]
        }
      ],
      "source": [
        "n_iterations = 100000\n",
        "learning_rate = 0.05 # hyperparameter - fixed by trail and error methods\n",
        "\n",
        "# to store the cost values\n",
        "cost_history = []\n",
        "\n",
        "for i in range( n_iterations+1 ):\n",
        "    Theta = gradient_Descent(Theta, learning_rate, X, Y)\n",
        "    J_new = cost(X, Y, Theta)\n",
        "    cost_history.append(J_new.flatten())\n",
        "    if i % 10000 == 0:\n",
        "        print('epoch = {}, cost = {}' .format(i, J_new))\n",
        "\n",
        "print('Training completed')\n",
        "\n",
        "# while( new_cost - old_cost < epsilon)\n",
        "# change the values theta"
      ]
    },
    {
      "cell_type": "code",
      "execution_count": 11,
      "metadata": {
        "colab": {
          "base_uri": "https://localhost:8080/"
        },
        "id": "nwQyHe_JVu7M",
        "outputId": "787e9393-0059-479f-b24d-08c50f31abdd"
      },
      "outputs": [
        {
          "output_type": "stream",
          "name": "stdout",
          "text": [
            "[-8.81211407  0.         10.03068616  9.44167873]\n"
          ]
        }
      ],
      "source": [
        "print(Theta.flatten()) # theta0, theta1 theta2"
      ]
    },
    {
      "cell_type": "markdown",
      "metadata": {
        "id": "czUmLNUQVu7M"
      },
      "source": [
        "## 6. Make predicitons\n",
        "\n"
      ]
    },
    {
      "cell_type": "code",
      "execution_count": 12,
      "metadata": {
        "id": "mcYfPKCKVu7M"
      },
      "outputs": [],
      "source": [
        "h = sigmoid(np.matmul(X, Theta)) # h(x) = g(theta.T *x)\n",
        "y_pred = (h > .5).astype(int)\n"
      ]
    },
    {
      "cell_type": "markdown",
      "metadata": {
        "id": "ke8ncRzpVu7M"
      },
      "source": [
        "## 7. Visualize"
      ]
    },
    {
      "cell_type": "code",
      "execution_count": 13,
      "metadata": {
        "colab": {
          "base_uri": "https://localhost:8080/",
          "height": 472
        },
        "id": "1UDcnLpXVu7M",
        "outputId": "b1b6f4d9-f966-4f5c-80c6-e8f6b3910576"
      },
      "outputs": [
        {
          "output_type": "display_data",
          "data": {
            "text/plain": [
              "<Figure size 640x480 with 1 Axes>"
            ],
            "image/png": "[encoded data removed]"
          },
          "metadata": {}
        }
      ],
      "source": [
        "# plot the cost function\n",
        "\n",
        "plt.plot(cost_history)\n",
        "plt.title('Cost Function using Gradient Descent')\n",
        "plt.xlabel(\"Number of iterations\")\n",
        "plt.ylabel(\"Cost\")\n",
        "plt.show()"
      ]
    },
    {
      "cell_type": "markdown",
      "metadata": {
        "id": "I8RFv5BHVu7M"
      },
      "source": [
        "## 8. Performance Measures"
      ]
    },
    {
      "cell_type": "code",
      "execution_count": 14,
      "metadata": {
        "colab": {
          "base_uri": "https://localhost:8080/"
        },
        "id": "TxIuGps1Vu7M",
        "outputId": "fd72edbb-f0e6-4bf8-bc1d-113892ce8c8e"
      },
      "outputs": [
        {
          "output_type": "stream",
          "name": "stdout",
          "text": [
            "89.0\n"
          ]
        }
      ],
      "source": [
        "# Compute the accuracy\n",
        "\n",
        "accuracy = np.mean(y_pred == Y)\n",
        "\n",
        "print(accuracy * 100)"
      ]
    },
    {
      "cell_type": "code",
      "execution_count": 15,
      "metadata": {
        "colab": {
          "base_uri": "https://localhost:8080/"
        },
        "id": "FFCfiA6sVu7M",
        "outputId": "e544692f-f6de-4ea4-c86d-897961020f5d"
      },
      "outputs": [
        {
          "output_type": "stream",
          "name": "stdout",
          "text": [
            "[0 0 0 1 1 0 1 1 1 1 0 0 1 1 0 1 1 0 1 1 0 1 0 0 1 1 1 0 0 0 1 1 0 1 0 0 0\n",
            " 1 0 0 1 0 1 0 0 0 1 1 1 1 1 1 1 0 0 0 1 0 1 1 1 0 0 0 0 0 1 0 1 1 0 1 1 1\n",
            " 1 1 1 1 0 0 1 1 1 1 1 1 0 1 1 0 1 1 0 1 1 1 1 1 1 1]\n"
          ]
        }
      ],
      "source": [
        "print(Y.flatten())"
      ]
    },
    {
      "cell_type": "code",
      "execution_count": 16,
      "metadata": {
        "colab": {
          "base_uri": "https://localhost:8080/"
        },
        "id": "dqx9TDf0Vu7N",
        "outputId": "982e5a69-1c3d-4922-9f19-475cf1263f67"
      },
      "outputs": [
        {
          "output_type": "stream",
          "name": "stdout",
          "text": [
            "[0 0 0 1 1 0 1 0 1 1 1 0 1 1 0 1 0 0 1 1 0 1 0 0 1 1 1 1 0 0 1 1 0 0 0 0 1\n",
            " 1 0 0 1 0 1 1 0 0 1 1 1 1 1 1 1 0 0 0 1 1 1 1 1 0 0 0 0 0 1 0 1 1 0 1 1 1\n",
            " 1 1 1 1 0 1 1 1 1 0 1 1 0 1 1 0 1 1 0 1 1 1 1 1 0 1]\n"
          ]
        }
      ],
      "source": [
        "print(y_pred.flatten())"
      ]
    },
    {
      "cell_type": "code",
      "source": [],
      "metadata": {
        "id": "_4ik76hHWOH9"
      },
      "execution_count": null,
      "outputs": []
    }
  ],
  "metadata": {
    "kernelspec": {
      "display_name": "Python 3",
      "language": "python",
      "name": "python3"
    },
    "language_info": {
      "codemirror_mode": {
        "name": "ipython",
        "version": 3
      },
      "file_extension": ".py",
      "mimetype": "text/x-python",
      "name": "python",
      "nbconvert_exporter": "python",
      "pygments_lexer": "ipython3",
      "version": "3.7.3"
    },
    "colab": {
      "provenance": [],
      "include_colab_link": true
    }
  },
  "nbformat": 4,
  "nbformat_minor": 0
}