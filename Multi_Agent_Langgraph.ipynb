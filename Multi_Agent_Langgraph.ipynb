{
  "cells": [
    {
      "cell_type": "markdown",
      "metadata": {
        "id": "view-in-github",
        "colab_type": "text"
      },
      "source": [
        "<a href=\"https://colab.research.google.com/github/ENG19CS0334-TEJAAL-M/AI-ML/blob/main/Multi_Agent_Langgraph.ipynb\" target=\"_parent\"><img src=\"https://colab.research.google.com/assets/colab-badge.svg\" alt=\"Open In Colab\"/></a>"
      ]
    },
    {
      "cell_type": "code",
      "source": [
        "!pip install langgraph\n",
        "!pip install langchain_groq"
      ],
      "metadata": {
        "colab": {
          "base_uri": "https://localhost:8080/"
        },
        "id": "eyBDou6a9849",
        "outputId": "ea9a67ef-6574-4f9d-eeae-a43c101ce7ec"
      },
      "id": "eyBDou6a9849",
      "execution_count": 8,
      "outputs": [
        {
          "output_type": "stream",
          "name": "stdout",
          "text": [
            "Collecting langgraph\n",
            "  Downloading langgraph-0.6.6-py3-none-any.whl.metadata (6.8 kB)\n",
            "Requirement already satisfied: langchain-core>=0.1 in /usr/local/lib/python3.12/dist-packages (from langgraph) (0.3.74)\n",
            "Collecting langgraph-checkpoint<3.0.0,>=2.1.0 (from langgraph)\n",
            "  Downloading langgraph_checkpoint-2.1.1-py3-none-any.whl.metadata (4.2 kB)\n",
            "Collecting langgraph-prebuilt<0.7.0,>=0.6.0 (from langgraph)\n",
            "  Downloading langgraph_prebuilt-0.6.4-py3-none-any.whl.metadata (4.5 kB)\n",
            "Collecting langgraph-sdk<0.3.0,>=0.2.2 (from langgraph)\n",
            "  Downloading langgraph_sdk-0.2.5-py3-none-any.whl.metadata (1.5 kB)\n",
            "Requirement already satisfied: pydantic>=2.7.4 in /usr/local/lib/python3.12/dist-packages (from langgraph) (2.11.7)\n",
            "Requirement already satisfied: xxhash>=3.5.0 in /usr/local/lib/python3.12/dist-packages (from langgraph) (3.5.0)\n",
            "Requirement already satisfied: langsmith>=0.3.45 in /usr/local/lib/python3.12/dist-packages (from langchain-core>=0.1->langgraph) (0.4.16)\n",
            "Requirement already satisfied: tenacity!=8.4.0,<10.0.0,>=8.1.0 in /usr/local/lib/python3.12/dist-packages (from langchain-core>=0.1->langgraph) (8.5.0)\n",
            "Requirement already satisfied: jsonpatch<2.0,>=1.33 in /usr/local/lib/python3.12/dist-packages (from langchain-core>=0.1->langgraph) (1.33)\n",
            "Requirement already satisfied: PyYAML>=5.3 in /usr/local/lib/python3.12/dist-packages (from langchain-core>=0.1->langgraph) (6.0.2)\n",
            "Requirement already satisfied: typing-extensions>=4.7 in /usr/local/lib/python3.12/dist-packages (from langchain-core>=0.1->langgraph) (4.15.0)\n",
            "Requirement already satisfied: packaging>=23.2 in /usr/local/lib/python3.12/dist-packages (from langchain-core>=0.1->langgraph) (25.0)\n",
            "Collecting ormsgpack>=1.10.0 (from langgraph-checkpoint<3.0.0,>=2.1.0->langgraph)\n",
            "  Downloading ormsgpack-1.10.0-cp312-cp312-manylinux_2_17_x86_64.manylinux2014_x86_64.whl.metadata (43 kB)\n",
            "\u001b[2K     \u001b[90m━━━━━━━━━━━━━━━━━━━━━━━━━━━━━━━━━━━━━━━━\u001b[0m \u001b[32m43.7/43.7 kB\u001b[0m \u001b[31m2.1 MB/s\u001b[0m eta \u001b[36m0:00:00\u001b[0m\n",
            "\u001b[?25hRequirement already satisfied: httpx>=0.25.2 in /usr/local/lib/python3.12/dist-packages (from langgraph-sdk<0.3.0,>=0.2.2->langgraph) (0.28.1)\n",
            "Requirement already satisfied: orjson>=3.10.1 in /usr/local/lib/python3.12/dist-packages (from langgraph-sdk<0.3.0,>=0.2.2->langgraph) (3.11.2)\n",
            "Requirement already satisfied: annotated-types>=0.6.0 in /usr/local/lib/python3.12/dist-packages (from pydantic>=2.7.4->langgraph) (0.7.0)\n",
            "Requirement already satisfied: pydantic-core==2.33.2 in /usr/local/lib/python3.12/dist-packages (from pydantic>=2.7.4->langgraph) (2.33.2)\n",
            "Requirement already satisfied: typing-inspection>=0.4.0 in /usr/local/lib/python3.12/dist-packages (from pydantic>=2.7.4->langgraph) (0.4.1)\n",
            "Requirement already satisfied: anyio in /usr/local/lib/python3.12/dist-packages (from httpx>=0.25.2->langgraph-sdk<0.3.0,>=0.2.2->langgraph) (4.10.0)\n",
            "Requirement already satisfied: certifi in /usr/local/lib/python3.12/dist-packages (from httpx>=0.25.2->langgraph-sdk<0.3.0,>=0.2.2->langgraph) (2025.8.3)\n",
            "Requirement already satisfied: httpcore==1.* in /usr/local/lib/python3.12/dist-packages (from httpx>=0.25.2->langgraph-sdk<0.3.0,>=0.2.2->langgraph) (1.0.9)\n",
            "Requirement already satisfied: idna in /usr/local/lib/python3.12/dist-packages (from httpx>=0.25.2->langgraph-sdk<0.3.0,>=0.2.2->langgraph) (3.10)\n",
            "Requirement already satisfied: h11>=0.16 in /usr/local/lib/python3.12/dist-packages (from httpcore==1.*->httpx>=0.25.2->langgraph-sdk<0.3.0,>=0.2.2->langgraph) (0.16.0)\n",
            "Requirement already satisfied: jsonpointer>=1.9 in /usr/local/lib/python3.12/dist-packages (from jsonpatch<2.0,>=1.33->langchain-core>=0.1->langgraph) (3.0.0)\n",
            "Requirement already satisfied: requests-toolbelt>=1.0.0 in /usr/local/lib/python3.12/dist-packages (from langsmith>=0.3.45->langchain-core>=0.1->langgraph) (1.0.0)\n",
            "Requirement already satisfied: requests>=2.0.0 in /usr/local/lib/python3.12/dist-packages (from langsmith>=0.3.45->langchain-core>=0.1->langgraph) (2.32.4)\n",
            "Requirement already satisfied: zstandard>=0.23.0 in /usr/local/lib/python3.12/dist-packages (from langsmith>=0.3.45->langchain-core>=0.1->langgraph) (0.24.0)\n",
            "Requirement already satisfied: charset_normalizer<4,>=2 in /usr/local/lib/python3.12/dist-packages (from requests>=2.0.0->langsmith>=0.3.45->langchain-core>=0.1->langgraph) (3.4.3)\n",
            "Requirement already satisfied: urllib3<3,>=1.21.1 in /usr/local/lib/python3.12/dist-packages (from requests>=2.0.0->langsmith>=0.3.45->langchain-core>=0.1->langgraph) (2.5.0)\n",
            "Requirement already satisfied: sniffio>=1.1 in /usr/local/lib/python3.12/dist-packages (from anyio->httpx>=0.25.2->langgraph-sdk<0.3.0,>=0.2.2->langgraph) (1.3.1)\n",
            "Downloading langgraph-0.6.6-py3-none-any.whl (153 kB)\n",
            "\u001b[2K   \u001b[90m━━━━━━━━━━━━━━━━━━━━━━━━━━━━━━━━━━━━━━━━\u001b[0m \u001b[32m153.3/153.3 kB\u001b[0m \u001b[31m6.1 MB/s\u001b[0m eta \u001b[36m0:00:00\u001b[0m\n",
            "\u001b[?25hDownloading langgraph_checkpoint-2.1.1-py3-none-any.whl (43 kB)\n",
            "\u001b[2K   \u001b[90m━━━━━━━━━━━━━━━━━━━━━━━━━━━━━━━━━━━━━━━━\u001b[0m \u001b[32m43.9/43.9 kB\u001b[0m \u001b[31m3.4 MB/s\u001b[0m eta \u001b[36m0:00:00\u001b[0m\n",
            "\u001b[?25hDownloading langgraph_prebuilt-0.6.4-py3-none-any.whl (28 kB)\n",
            "Downloading langgraph_sdk-0.2.5-py3-none-any.whl (54 kB)\n",
            "\u001b[2K   \u001b[90m━━━━━━━━━━━━━━━━━━━━━━━━━━━━━━━━━━━━━━━━\u001b[0m \u001b[32m54.1/54.1 kB\u001b[0m \u001b[31m4.1 MB/s\u001b[0m eta \u001b[36m0:00:00\u001b[0m\n",
            "\u001b[?25hDownloading ormsgpack-1.10.0-cp312-cp312-manylinux_2_17_x86_64.manylinux2014_x86_64.whl (216 kB)\n",
            "\u001b[2K   \u001b[90m━━━━━━━━━━━━━━━━━━━━━━━━━━━━━━━━━━━━━━━━\u001b[0m \u001b[32m216.7/216.7 kB\u001b[0m \u001b[31m17.6 MB/s\u001b[0m eta \u001b[36m0:00:00\u001b[0m\n",
            "\u001b[?25hInstalling collected packages: ormsgpack, langgraph-sdk, langgraph-checkpoint, langgraph-prebuilt, langgraph\n",
            "Successfully installed langgraph-0.6.6 langgraph-checkpoint-2.1.1 langgraph-prebuilt-0.6.4 langgraph-sdk-0.2.5 ormsgpack-1.10.0\n",
            "Collecting langchain_groq\n",
            "  Downloading langchain_groq-0.3.7-py3-none-any.whl.metadata (2.6 kB)\n",
            "Requirement already satisfied: langchain-core<1.0.0,>=0.3.72 in /usr/local/lib/python3.12/dist-packages (from langchain_groq) (0.3.74)\n",
            "Collecting groq<1,>=0.30.0 (from langchain_groq)\n",
            "  Downloading groq-0.31.0-py3-none-any.whl.metadata (16 kB)\n",
            "Requirement already satisfied: anyio<5,>=3.5.0 in /usr/local/lib/python3.12/dist-packages (from groq<1,>=0.30.0->langchain_groq) (4.10.0)\n",
            "Requirement already satisfied: distro<2,>=1.7.0 in /usr/local/lib/python3.12/dist-packages (from groq<1,>=0.30.0->langchain_groq) (1.9.0)\n",
            "Requirement already satisfied: httpx<1,>=0.23.0 in /usr/local/lib/python3.12/dist-packages (from groq<1,>=0.30.0->langchain_groq) (0.28.1)\n",
            "Requirement already satisfied: pydantic<3,>=1.9.0 in /usr/local/lib/python3.12/dist-packages (from groq<1,>=0.30.0->langchain_groq) (2.11.7)\n",
            "Requirement already satisfied: sniffio in /usr/local/lib/python3.12/dist-packages (from groq<1,>=0.30.0->langchain_groq) (1.3.1)\n",
            "Requirement already satisfied: typing-extensions<5,>=4.10 in /usr/local/lib/python3.12/dist-packages (from groq<1,>=0.30.0->langchain_groq) (4.15.0)\n",
            "Requirement already satisfied: langsmith>=0.3.45 in /usr/local/lib/python3.12/dist-packages (from langchain-core<1.0.0,>=0.3.72->langchain_groq) (0.4.16)\n",
            "Requirement already satisfied: tenacity!=8.4.0,<10.0.0,>=8.1.0 in /usr/local/lib/python3.12/dist-packages (from langchain-core<1.0.0,>=0.3.72->langchain_groq) (8.5.0)\n",
            "Requirement already satisfied: jsonpatch<2.0,>=1.33 in /usr/local/lib/python3.12/dist-packages (from langchain-core<1.0.0,>=0.3.72->langchain_groq) (1.33)\n",
            "Requirement already satisfied: PyYAML>=5.3 in /usr/local/lib/python3.12/dist-packages (from langchain-core<1.0.0,>=0.3.72->langchain_groq) (6.0.2)\n",
            "Requirement already satisfied: packaging>=23.2 in /usr/local/lib/python3.12/dist-packages (from langchain-core<1.0.0,>=0.3.72->langchain_groq) (25.0)\n",
            "Requirement already satisfied: idna>=2.8 in /usr/local/lib/python3.12/dist-packages (from anyio<5,>=3.5.0->groq<1,>=0.30.0->langchain_groq) (3.10)\n",
            "Requirement already satisfied: certifi in /usr/local/lib/python3.12/dist-packages (from httpx<1,>=0.23.0->groq<1,>=0.30.0->langchain_groq) (2025.8.3)\n",
            "Requirement already satisfied: httpcore==1.* in /usr/local/lib/python3.12/dist-packages (from httpx<1,>=0.23.0->groq<1,>=0.30.0->langchain_groq) (1.0.9)\n",
            "Requirement already satisfied: h11>=0.16 in /usr/local/lib/python3.12/dist-packages (from httpcore==1.*->httpx<1,>=0.23.0->groq<1,>=0.30.0->langchain_groq) (0.16.0)\n",
            "Requirement already satisfied: jsonpointer>=1.9 in /usr/local/lib/python3.12/dist-packages (from jsonpatch<2.0,>=1.33->langchain-core<1.0.0,>=0.3.72->langchain_groq) (3.0.0)\n",
            "Requirement already satisfied: orjson>=3.9.14 in /usr/local/lib/python3.12/dist-packages (from langsmith>=0.3.45->langchain-core<1.0.0,>=0.3.72->langchain_groq) (3.11.2)\n",
            "Requirement already satisfied: requests-toolbelt>=1.0.0 in /usr/local/lib/python3.12/dist-packages (from langsmith>=0.3.45->langchain-core<1.0.0,>=0.3.72->langchain_groq) (1.0.0)\n",
            "Requirement already satisfied: requests>=2.0.0 in /usr/local/lib/python3.12/dist-packages (from langsmith>=0.3.45->langchain-core<1.0.0,>=0.3.72->langchain_groq) (2.32.4)\n",
            "Requirement already satisfied: zstandard>=0.23.0 in /usr/local/lib/python3.12/dist-packages (from langsmith>=0.3.45->langchain-core<1.0.0,>=0.3.72->langchain_groq) (0.24.0)\n",
            "Requirement already satisfied: annotated-types>=0.6.0 in /usr/local/lib/python3.12/dist-packages (from pydantic<3,>=1.9.0->groq<1,>=0.30.0->langchain_groq) (0.7.0)\n",
            "Requirement already satisfied: pydantic-core==2.33.2 in /usr/local/lib/python3.12/dist-packages (from pydantic<3,>=1.9.0->groq<1,>=0.30.0->langchain_groq) (2.33.2)\n",
            "Requirement already satisfied: typing-inspection>=0.4.0 in /usr/local/lib/python3.12/dist-packages (from pydantic<3,>=1.9.0->groq<1,>=0.30.0->langchain_groq) (0.4.1)\n",
            "Requirement already satisfied: charset_normalizer<4,>=2 in /usr/local/lib/python3.12/dist-packages (from requests>=2.0.0->langsmith>=0.3.45->langchain-core<1.0.0,>=0.3.72->langchain_groq) (3.4.3)\n",
            "Requirement already satisfied: urllib3<3,>=1.21.1 in /usr/local/lib/python3.12/dist-packages (from requests>=2.0.0->langsmith>=0.3.45->langchain-core<1.0.0,>=0.3.72->langchain_groq) (2.5.0)\n",
            "Downloading langchain_groq-0.3.7-py3-none-any.whl (16 kB)\n",
            "Downloading groq-0.31.0-py3-none-any.whl (131 kB)\n",
            "\u001b[2K   \u001b[90m━━━━━━━━━━━━━━━━━━━━━━━━━━━━━━━━━━━━━━━━\u001b[0m \u001b[32m131.4/131.4 kB\u001b[0m \u001b[31m4.5 MB/s\u001b[0m eta \u001b[36m0:00:00\u001b[0m\n",
            "\u001b[?25hInstalling collected packages: groq, langchain_groq\n",
            "Successfully installed groq-0.31.0 langchain_groq-0.3.7\n"
          ]
        }
      ]
    },
    {
      "cell_type": "code",
      "source": [
        "from typing import List, Optional, TypedDict"
      ],
      "metadata": {
        "id": "z236Mb-o99Zi"
      },
      "id": "z236Mb-o99Zi",
      "execution_count": 10,
      "outputs": []
    },
    {
      "cell_type": "markdown",
      "source": [
        "## STATE MANAGEMENT"
      ],
      "metadata": {
        "id": "PmeKSj1XAcbA"
      },
      "id": "PmeKSj1XAcbA"
    },
    {
      "cell_type": "code",
      "source": [
        "class AgentState(TypedDict, total=False):   #not necessary all variable are to be present\n",
        "    user_input: str #var1\n",
        "    task_list: List[str] #var2\n",
        "    final_output: Optional[str] #var3"
      ],
      "metadata": {
        "id": "L_Rwg7bc-Vtf"
      },
      "id": "L_Rwg7bc-Vtf",
      "execution_count": 11,
      "outputs": []
    },
    {
      "cell_type": "markdown",
      "source": [
        "## create api key\n",
        " https://console.groq.com/home"
      ],
      "metadata": {
        "id": "6aNc3IBZAk2Q"
      },
      "id": "6aNc3IBZAk2Q"
    },
    {
      "cell_type": "code",
      "source": [
        "from google.colab import userdata\n",
        "groq_api_key = userdata.get('GROQ_API_KEY')"
      ],
      "metadata": {
        "id": "Rox6fgyJAhVG"
      },
      "id": "Rox6fgyJAhVG",
      "execution_count": 12,
      "outputs": []
    },
    {
      "cell_type": "code",
      "source": [
        "from langchain_groq import ChatGroq   #chatgrok is a class\n",
        "llm = ChatGroq(groq_api_key=groq_api_key, model_name=\"llama-3.1-8b-instant\")\n",
        "llm"
      ],
      "metadata": {
        "colab": {
          "base_uri": "https://localhost:8080/"
        },
        "id": "XeO8X6lHAtsp",
        "outputId": "695a3229-4a0e-4978-c097-b1460cb86640"
      },
      "id": "XeO8X6lHAtsp",
      "execution_count": 27,
      "outputs": [
        {
          "output_type": "execute_result",
          "data": {
            "text/plain": [
              "ChatGroq(client=<groq.resources.chat.completions.Completions object at 0x7bd0a2906780>, async_client=<groq.resources.chat.completions.AsyncCompletions object at 0x7bd0a29074a0>, model_name='llama-3.1-8b-instant', model_kwargs={}, groq_api_key=SecretStr('**********'))"
            ]
          },
          "metadata": {},
          "execution_count": 27
        }
      ]
    },
    {
      "cell_type": "markdown",
      "source": [
        "## CreatingAI agent 1-Planner Node"
      ],
      "metadata": {
        "id": "IOUg9AnDBXZe"
      },
      "id": "IOUg9AnDBXZe"
    },
    {
      "cell_type": "code",
      "source": [
        "def planner_node(state: dict) -> dict:\n",
        "    prompt = f\"Break this task into 2-3 steps: {state['user_input']}\"\n",
        "    response  = llm.invoke(prompt)  # Assuming you have a function defined to call the LLM\n",
        "    steps = response.content   #rough content\n",
        "\n",
        "    step_lines = [line.strip(\"- \").strip() for line in steps.split(\"\\n\") if line.strip()]\n",
        "    print(\"Planner Output:\", step_lines)\n",
        "    print(\"Planner just Rough steps :\", steps)\n",
        "    return {\"task_list\": step_lines}"
      ],
      "metadata": {
        "id": "bV0QDLDeBWI3"
      },
      "id": "bV0QDLDeBWI3",
      "execution_count": 28,
      "outputs": []
    },
    {
      "cell_type": "markdown",
      "source": [
        "## CreatingAI agent 2-Executor Node"
      ],
      "metadata": {
        "id": "tDWo4p1hC47W"
      },
      "id": "tDWo4p1hC47W"
    },
    {
      "cell_type": "code",
      "source": [
        "def executor_node(state: dict) -> dict:\n",
        "    steps = state.get(\"task_list\", [])\n",
        "    final_output = \" -> \".join(steps) + \" -> Done!\"\n",
        "    return {\"final_output\": final_output}"
      ],
      "metadata": {
        "id": "FTK-H4FjC4m8"
      },
      "id": "FTK-H4FjC4m8",
      "execution_count": 29,
      "outputs": []
    },
    {
      "cell_type": "markdown",
      "source": [
        "## Create Langgraph"
      ],
      "metadata": {
        "id": "umAkHVXcDjH3"
      },
      "id": "umAkHVXcDjH3"
    },
    {
      "cell_type": "code",
      "source": [
        "import langgraph.graph"
      ],
      "metadata": {
        "id": "JDld9pJfDioX"
      },
      "id": "JDld9pJfDioX",
      "execution_count": 30,
      "outputs": []
    },
    {
      "cell_type": "code",
      "source": [
        "from langgraph.graph import StateGraph"
      ],
      "metadata": {
        "id": "PQRR5UghAzNW"
      },
      "id": "PQRR5UghAzNW",
      "execution_count": 31,
      "outputs": []
    },
    {
      "cell_type": "code",
      "source": [
        "graph = StateGraph(state_schema=AgentState)"
      ],
      "metadata": {
        "id": "ElX95a_mDpHe"
      },
      "id": "ElX95a_mDpHe",
      "execution_count": 32,
      "outputs": []
    },
    {
      "cell_type": "code",
      "source": [
        "graph.add_node(\"planner\", planner_node)\n",
        "graph.add_node(\"executor\", executor_node)\n",
        "\n",
        "graph.set_entry_point(\"planner\")\n",
        "graph.add_edge(\"planner\", \"executor\")\n",
        "graph.set_finish_point(\"executor\")"
      ],
      "metadata": {
        "colab": {
          "base_uri": "https://localhost:8080/"
        },
        "id": "qwj6v9N9DrFE",
        "outputId": "12c88f0a-26b4-4866-88c5-7f916325be5b"
      },
      "id": "qwj6v9N9DrFE",
      "execution_count": 33,
      "outputs": [
        {
          "output_type": "execute_result",
          "data": {
            "text/plain": [
              "<langgraph.graph.state.StateGraph at 0x7bd0a2907770>"
            ]
          },
          "metadata": {},
          "execution_count": 33
        }
      ]
    },
    {
      "cell_type": "code",
      "source": [
        "graph_compiled = graph.compile()"
      ],
      "metadata": {
        "id": "ED_4P45lD37B"
      },
      "id": "ED_4P45lD37B",
      "execution_count": 34,
      "outputs": []
    },
    {
      "cell_type": "code",
      "source": [
        "\n",
        "from IPython.display import Image, display\n",
        "try:\n",
        "    display(Image(graph_compiled.get_graph().draw_mermaid_png()))\n",
        "except Exception:\n",
        "    pass"
      ],
      "metadata": {
        "colab": {
          "base_uri": "https://localhost:8080/",
          "height": 350
        },
        "id": "bY8xX7DBEPui",
        "outputId": "c59efd6a-0487-46b6-c808-67a61be6a2ca"
      },
      "id": "bY8xX7DBEPui",
      "execution_count": 35,
      "outputs": [
        {
          "output_type": "display_data",
          "data": {
            "image/png": "[encoded data removed]",
            "text/plain": [
              "<IPython.core.display.Image object>"
            ]
          },
          "metadata": {}
        }
      ]
    },
    {
      "cell_type": "code",
      "source": [
        "state = {\"user_input\": \"How do solar panels work?\"}\n",
        "final_state = graph_compiled.invoke(state)"
      ],
      "metadata": {
        "colab": {
          "base_uri": "https://localhost:8080/"
        },
        "id": "kEIIunVRERem",
        "outputId": "68806d7c-6d42-469b-9a2e-0f18918443c8"
      },
      "id": "kEIIunVRERem",
      "execution_count": 36,
      "outputs": [
        {
          "output_type": "stream",
          "name": "stdout",
          "text": [
            "Planner Output: [\"Here's a 3-step explanation of how solar panels work:\", '**Step 1: Absorbing Sunlight**', 'Solar panels are made up of many small photovoltaic (PV) cells, typically silicon-based, that convert sunlight into electrical energy. When sunlight hits a PV cell, it excites the electrons in the material, causing them to flow freely. This flow of electrons is called an electric current.', '**Step 2: Converting Sunlight into Electricity**', 'The PV cells in a solar panel are connected together in a specific pattern to create an electric circuit. When sunlight hits the PV cells, it generates a direct current (DC) electricity. This DC electricity is then sent through a process called inverter conversion, which converts the DC electricity into alternating current (AC) electricity, the type of electricity used in homes and businesses.', '**Step 3: Powering Electrical Devices**', 'Finally, the AC electricity generated by the solar panel is fed into the electrical grid or used to power electrical devices directly. If the solar panel is connected to a grid, any excess energy generated during the day can be stored in a battery or sold back to the grid. The electricity can power lights, appliances, and other devices, reducing our reliance on non-renewable energy sources and lowering our carbon footprint.']\n",
            "Planner just Rough steps : Here's a 3-step explanation of how solar panels work:\n",
            "\n",
            "**Step 1: Absorbing Sunlight**\n",
            "Solar panels are made up of many small photovoltaic (PV) cells, typically silicon-based, that convert sunlight into electrical energy. When sunlight hits a PV cell, it excites the electrons in the material, causing them to flow freely. This flow of electrons is called an electric current.\n",
            "\n",
            "**Step 2: Converting Sunlight into Electricity**\n",
            "The PV cells in a solar panel are connected together in a specific pattern to create an electric circuit. When sunlight hits the PV cells, it generates a direct current (DC) electricity. This DC electricity is then sent through a process called inverter conversion, which converts the DC electricity into alternating current (AC) electricity, the type of electricity used in homes and businesses.\n",
            "\n",
            "**Step 3: Powering Electrical Devices**\n",
            "Finally, the AC electricity generated by the solar panel is fed into the electrical grid or used to power electrical devices directly. If the solar panel is connected to a grid, any excess energy generated during the day can be stored in a battery or sold back to the grid. The electricity can power lights, appliances, and other devices, reducing our reliance on non-renewable energy sources and lowering our carbon footprint.\n"
          ]
        }
      ]
    },
    {
      "cell_type": "code",
      "source": [
        "state = {\"user_input\": \"What are the stesp in Retail market end to end deployment in Lowes company?\"}\n",
        "final_state = graph_compiled.invoke(state)"
      ],
      "metadata": {
        "colab": {
          "base_uri": "https://localhost:8080/"
        },
        "id": "cjXzWgA8EZop",
        "outputId": "f42b3b2a-4557-423d-c2c4-abb07f94d7c5"
      },
      "id": "cjXzWgA8EZop",
      "execution_count": 39,
      "outputs": [
        {
          "output_type": "stream",
          "name": "stdout",
          "text": [
            "Planner Output: [\"Here are the steps involved in the retail market end-to-end deployment in Lowe's company:\", '**Step 1: Planning and Inventory Management (Pre-Deployment)**', \"1. **Inventory Planning**: Lowe's procurement team identifies the products needed, including new products, seasonal items, and products with high demand.\", '2. **Warehouse and Logistics**: The products are received at the distribution center, where they are stored, inspected, and prepared for shipping to stores.', '3. **Store Level Inventory**: The products are received at the store level, where they are stocked on shelves and made available for customers.', '4. **Point of Sale (POS) System**: The POS system is configured to manage inventory levels, track sales, and process refunds and exchanges.', '**Step 2: In-Store Execution (Deployment)**', '1. **Store Setup**: Merchandisers and store managers ensure that products are properly stocked, displayed, and priced.', '2. **Sales Floor Execution**: Sales associates are trained to assist customers with product information, answer questions, and process sales transactions.', '3. **Inventory Management**: Store managers and inventory coordinators monitor inventory levels, identify low-stock items, and reorder products as needed.', '4. **Customer Service**: Customer service representatives are available to assist customers with returns, exchanges, and other issues.', '**Step 3: Post-Deployment and Analysis**', '1. **Sales and Inventory Analysis**: Store managers and district managers analyze sales data and inventory levels to identify trends, opportunities, and areas for improvement.', '2. **Customer Feedback**: Customer feedback is collected through various channels, including surveys, social media, and in-store feedback forms.', \"3. **Continuous Improvement**: Based on sales and customer feedback data, Lowe's implements changes to products, services, and store layouts to improve customer satisfaction and drive sales growth.\", \"These steps ensure that products are properly stocked, displayed, and supported by knowledgeable sales associates, resulting in a positive customer experience and driving sales growth for Lowe's.\"]\n",
            "Planner just Rough steps : Here are the steps involved in the retail market end-to-end deployment in Lowe's company:\n",
            "\n",
            "**Step 1: Planning and Inventory Management (Pre-Deployment)**\n",
            "\n",
            "1. **Inventory Planning**: Lowe's procurement team identifies the products needed, including new products, seasonal items, and products with high demand.\n",
            "2. **Warehouse and Logistics**: The products are received at the distribution center, where they are stored, inspected, and prepared for shipping to stores.\n",
            "3. **Store Level Inventory**: The products are received at the store level, where they are stocked on shelves and made available for customers.\n",
            "4. **Point of Sale (POS) System**: The POS system is configured to manage inventory levels, track sales, and process refunds and exchanges.\n",
            "\n",
            "**Step 2: In-Store Execution (Deployment)**\n",
            "\n",
            "1. **Store Setup**: Merchandisers and store managers ensure that products are properly stocked, displayed, and priced.\n",
            "2. **Sales Floor Execution**: Sales associates are trained to assist customers with product information, answer questions, and process sales transactions.\n",
            "3. **Inventory Management**: Store managers and inventory coordinators monitor inventory levels, identify low-stock items, and reorder products as needed.\n",
            "4. **Customer Service**: Customer service representatives are available to assist customers with returns, exchanges, and other issues.\n",
            "\n",
            "**Step 3: Post-Deployment and Analysis**\n",
            "\n",
            "1. **Sales and Inventory Analysis**: Store managers and district managers analyze sales data and inventory levels to identify trends, opportunities, and areas for improvement.\n",
            "2. **Customer Feedback**: Customer feedback is collected through various channels, including surveys, social media, and in-store feedback forms.\n",
            "3. **Continuous Improvement**: Based on sales and customer feedback data, Lowe's implements changes to products, services, and store layouts to improve customer satisfaction and drive sales growth.\n",
            "\n",
            "These steps ensure that products are properly stocked, displayed, and supported by knowledgeable sales associates, resulting in a positive customer experience and driving sales growth for Lowe's.\n"
          ]
        }
      ]
    },
    {
      "cell_type": "code",
      "source": [
        "print(final_state[\"final_output\"])"
      ],
      "metadata": {
        "colab": {
          "base_uri": "https://localhost:8080/"
        },
        "id": "A3G4PGzhPJed",
        "outputId": "9bdc41fc-9619-41c0-a62b-293f0ea5d93f"
      },
      "id": "A3G4PGzhPJed",
      "execution_count": 40,
      "outputs": [
        {
          "output_type": "stream",
          "name": "stdout",
          "text": [
            "Here are the steps involved in the retail market end-to-end deployment in Lowe's company: -> **Step 1: Planning and Inventory Management (Pre-Deployment)** -> 1. **Inventory Planning**: Lowe's procurement team identifies the products needed, including new products, seasonal items, and products with high demand. -> 2. **Warehouse and Logistics**: The products are received at the distribution center, where they are stored, inspected, and prepared for shipping to stores. -> 3. **Store Level Inventory**: The products are received at the store level, where they are stocked on shelves and made available for customers. -> 4. **Point of Sale (POS) System**: The POS system is configured to manage inventory levels, track sales, and process refunds and exchanges. -> **Step 2: In-Store Execution (Deployment)** -> 1. **Store Setup**: Merchandisers and store managers ensure that products are properly stocked, displayed, and priced. -> 2. **Sales Floor Execution**: Sales associates are trained to assist customers with product information, answer questions, and process sales transactions. -> 3. **Inventory Management**: Store managers and inventory coordinators monitor inventory levels, identify low-stock items, and reorder products as needed. -> 4. **Customer Service**: Customer service representatives are available to assist customers with returns, exchanges, and other issues. -> **Step 3: Post-Deployment and Analysis** -> 1. **Sales and Inventory Analysis**: Store managers and district managers analyze sales data and inventory levels to identify trends, opportunities, and areas for improvement. -> 2. **Customer Feedback**: Customer feedback is collected through various channels, including surveys, social media, and in-store feedback forms. -> 3. **Continuous Improvement**: Based on sales and customer feedback data, Lowe's implements changes to products, services, and store layouts to improve customer satisfaction and drive sales growth. -> These steps ensure that products are properly stocked, displayed, and supported by knowledgeable sales associates, resulting in a positive customer experience and driving sales growth for Lowe's. -> Done!\n"
          ]
        }
      ]
    },
    {
      "cell_type": "code",
      "source": [],
      "metadata": {
        "id": "K7F0_eAnPgNN"
      },
      "id": "K7F0_eAnPgNN",
      "execution_count": null,
      "outputs": []
    }
  ],
  "metadata": {
    "kernelspec": {
      "display_name": "Python 3 (ipykernel)",
      "language": "python",
      "name": "python3"
    },
    "language_info": {
      "codemirror_mode": {
        "name": "ipython",
        "version": 3
      },
      "file_extension": ".py",
      "mimetype": "text/x-python",
      "name": "python",
      "nbconvert_exporter": "python",
      "pygments_lexer": "ipython3",
      "version": "3.12.4"
    },
    "colab": {
      "provenance": [],
      "include_colab_link": true
    }
  },
  "nbformat": 4,
  "nbformat_minor": 5
}